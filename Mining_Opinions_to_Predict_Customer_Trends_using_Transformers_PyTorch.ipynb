{
  "nbformat": 4,
  "nbformat_minor": 0,
  "metadata": {
    "colab": {
      "name": "Mining-Opinions-to-Predict-Customer-Trends-using-Transformers-PyTorch",
      "provenance": [],
      "collapsed_sections": [],
      "machine_shape": "hm",
      "mount_file_id": "1TqblcmiKjFQ93Nx6tL-CiMuNxALslWmn",
      "authorship_tag": "ABX9TyP3aNiETHeOcgogIr48koXx",
      "include_colab_link": true
    },
    "kernelspec": {
      "name": "python3",
      "display_name": "Python 3"
    },
    "language_info": {
      "name": "python"
    },
    "accelerator": "GPU",
    "widgets": {
      "application/vnd.jupyter.widget-state+json": {
        "a4407bb25c5d41dd9af47ad80e94fffd": {
          "model_module": "@jupyter-widgets/controls",
          "model_name": "HBoxModel",
          "model_module_version": "1.5.0",
          "state": {
            "_view_name": "HBoxView",
            "_dom_classes": [],
            "_model_name": "HBoxModel",
            "_view_module": "@jupyter-widgets/controls",
            "_model_module_version": "1.5.0",
            "_view_count": null,
            "_view_module_version": "1.5.0",
            "box_style": "",
            "layout": "IPY_MODEL_abcf532315854f8c91fb11acfa8a8e2d",
            "_model_module": "@jupyter-widgets/controls",
            "children": [
              "IPY_MODEL_8b7a3db9e3e54037ac4309173f391bd4",
              "IPY_MODEL_d08335b948c545cb8210e735e6321564",
              "IPY_MODEL_8f12a61773fe4bfe8386eabf3d2887d7"
            ]
          }
        },
        "abcf532315854f8c91fb11acfa8a8e2d": {
          "model_module": "@jupyter-widgets/base",
          "model_name": "LayoutModel",
          "model_module_version": "1.2.0",
          "state": {
            "_view_name": "LayoutView",
            "grid_template_rows": null,
            "right": null,
            "justify_content": null,
            "_view_module": "@jupyter-widgets/base",
            "overflow": null,
            "_model_module_version": "1.2.0",
            "_view_count": null,
            "flex_flow": null,
            "width": null,
            "min_width": null,
            "border": null,
            "align_items": null,
            "bottom": null,
            "_model_module": "@jupyter-widgets/base",
            "top": null,
            "grid_column": null,
            "overflow_y": null,
            "overflow_x": null,
            "grid_auto_flow": null,
            "grid_area": null,
            "grid_template_columns": null,
            "flex": null,
            "_model_name": "LayoutModel",
            "justify_items": null,
            "grid_row": null,
            "max_height": null,
            "align_content": null,
            "visibility": null,
            "align_self": null,
            "height": null,
            "min_height": null,
            "padding": null,
            "grid_auto_rows": null,
            "grid_gap": null,
            "max_width": null,
            "order": null,
            "_view_module_version": "1.2.0",
            "grid_template_areas": null,
            "object_position": null,
            "object_fit": null,
            "grid_auto_columns": null,
            "margin": null,
            "display": null,
            "left": null
          }
        },
        "8b7a3db9e3e54037ac4309173f391bd4": {
          "model_module": "@jupyter-widgets/controls",
          "model_name": "HTMLModel",
          "model_module_version": "1.5.0",
          "state": {
            "_view_name": "HTMLView",
            "style": "IPY_MODEL_d4d9a8c3846c4873b72e87250a0cad46",
            "_dom_classes": [],
            "description": "",
            "_model_name": "HTMLModel",
            "placeholder": "​",
            "_view_module": "@jupyter-widgets/controls",
            "_model_module_version": "1.5.0",
            "value": "Epoch [1/5]: [633/682]  93%",
            "_view_count": null,
            "_view_module_version": "1.5.0",
            "description_tooltip": null,
            "_model_module": "@jupyter-widgets/controls",
            "layout": "IPY_MODEL_de544808ccf54146840feaa39e4fdd3f"
          }
        },
        "d08335b948c545cb8210e735e6321564": {
          "model_module": "@jupyter-widgets/controls",
          "model_name": "FloatProgressModel",
          "model_module_version": "1.5.0",
          "state": {
            "_view_name": "ProgressView",
            "style": "IPY_MODEL_29176feb2d894c98809b29bd10ef7e31",
            "_dom_classes": [],
            "description": "",
            "_model_name": "FloatProgressModel",
            "bar_style": "",
            "max": 682,
            "_view_module": "@jupyter-widgets/controls",
            "_model_module_version": "1.5.0",
            "value": 633,
            "_view_count": null,
            "_view_module_version": "1.5.0",
            "orientation": "horizontal",
            "min": 0,
            "description_tooltip": null,
            "_model_module": "@jupyter-widgets/controls",
            "layout": "IPY_MODEL_c1ad130045084c688bc7756c6f40fbb8"
          }
        },
        "8f12a61773fe4bfe8386eabf3d2887d7": {
          "model_module": "@jupyter-widgets/controls",
          "model_name": "HTMLModel",
          "model_module_version": "1.5.0",
          "state": {
            "_view_name": "HTMLView",
            "style": "IPY_MODEL_d6466c96bc9740cd999ff776ae43bffc",
            "_dom_classes": [],
            "description": "",
            "_model_name": "HTMLModel",
            "placeholder": "​",
            "_view_module": "@jupyter-widgets/controls",
            "_model_module_version": "1.5.0",
            "value": ", loss=0.218 [05:23&lt;00:25]",
            "_view_count": null,
            "_view_module_version": "1.5.0",
            "description_tooltip": null,
            "_model_module": "@jupyter-widgets/controls",
            "layout": "IPY_MODEL_48d43eab518f4dcaa104447fddca4f5b"
          }
        },
        "d4d9a8c3846c4873b72e87250a0cad46": {
          "model_module": "@jupyter-widgets/controls",
          "model_name": "DescriptionStyleModel",
          "model_module_version": "1.5.0",
          "state": {
            "_view_name": "StyleView",
            "_model_name": "DescriptionStyleModel",
            "description_width": "",
            "_view_module": "@jupyter-widgets/base",
            "_model_module_version": "1.5.0",
            "_view_count": null,
            "_view_module_version": "1.2.0",
            "_model_module": "@jupyter-widgets/controls"
          }
        },
        "de544808ccf54146840feaa39e4fdd3f": {
          "model_module": "@jupyter-widgets/base",
          "model_name": "LayoutModel",
          "model_module_version": "1.2.0",
          "state": {
            "_view_name": "LayoutView",
            "grid_template_rows": null,
            "right": null,
            "justify_content": null,
            "_view_module": "@jupyter-widgets/base",
            "overflow": null,
            "_model_module_version": "1.2.0",
            "_view_count": null,
            "flex_flow": null,
            "width": null,
            "min_width": null,
            "border": null,
            "align_items": null,
            "bottom": null,
            "_model_module": "@jupyter-widgets/base",
            "top": null,
            "grid_column": null,
            "overflow_y": null,
            "overflow_x": null,
            "grid_auto_flow": null,
            "grid_area": null,
            "grid_template_columns": null,
            "flex": null,
            "_model_name": "LayoutModel",
            "justify_items": null,
            "grid_row": null,
            "max_height": null,
            "align_content": null,
            "visibility": null,
            "align_self": null,
            "height": null,
            "min_height": null,
            "padding": null,
            "grid_auto_rows": null,
            "grid_gap": null,
            "max_width": null,
            "order": null,
            "_view_module_version": "1.2.0",
            "grid_template_areas": null,
            "object_position": null,
            "object_fit": null,
            "grid_auto_columns": null,
            "margin": null,
            "display": null,
            "left": null
          }
        },
        "29176feb2d894c98809b29bd10ef7e31": {
          "model_module": "@jupyter-widgets/controls",
          "model_name": "ProgressStyleModel",
          "model_module_version": "1.5.0",
          "state": {
            "_view_name": "StyleView",
            "_model_name": "ProgressStyleModel",
            "description_width": "",
            "_view_module": "@jupyter-widgets/base",
            "_model_module_version": "1.5.0",
            "_view_count": null,
            "_view_module_version": "1.2.0",
            "bar_color": null,
            "_model_module": "@jupyter-widgets/controls"
          }
        },
        "c1ad130045084c688bc7756c6f40fbb8": {
          "model_module": "@jupyter-widgets/base",
          "model_name": "LayoutModel",
          "model_module_version": "1.2.0",
          "state": {
            "_view_name": "LayoutView",
            "grid_template_rows": null,
            "right": null,
            "justify_content": null,
            "_view_module": "@jupyter-widgets/base",
            "overflow": null,
            "_model_module_version": "1.2.0",
            "_view_count": null,
            "flex_flow": null,
            "width": null,
            "min_width": null,
            "border": null,
            "align_items": null,
            "bottom": null,
            "_model_module": "@jupyter-widgets/base",
            "top": null,
            "grid_column": null,
            "overflow_y": null,
            "overflow_x": null,
            "grid_auto_flow": null,
            "grid_area": null,
            "grid_template_columns": null,
            "flex": null,
            "_model_name": "LayoutModel",
            "justify_items": null,
            "grid_row": null,
            "max_height": null,
            "align_content": null,
            "visibility": null,
            "align_self": null,
            "height": null,
            "min_height": null,
            "padding": null,
            "grid_auto_rows": null,
            "grid_gap": null,
            "max_width": null,
            "order": null,
            "_view_module_version": "1.2.0",
            "grid_template_areas": null,
            "object_position": null,
            "object_fit": null,
            "grid_auto_columns": null,
            "margin": null,
            "display": null,
            "left": null
          }
        },
        "d6466c96bc9740cd999ff776ae43bffc": {
          "model_module": "@jupyter-widgets/controls",
          "model_name": "DescriptionStyleModel",
          "model_module_version": "1.5.0",
          "state": {
            "_view_name": "StyleView",
            "_model_name": "DescriptionStyleModel",
            "description_width": "",
            "_view_module": "@jupyter-widgets/base",
            "_model_module_version": "1.5.0",
            "_view_count": null,
            "_view_module_version": "1.2.0",
            "_model_module": "@jupyter-widgets/controls"
          }
        },
        "48d43eab518f4dcaa104447fddca4f5b": {
          "model_module": "@jupyter-widgets/base",
          "model_name": "LayoutModel",
          "model_module_version": "1.2.0",
          "state": {
            "_view_name": "LayoutView",
            "grid_template_rows": null,
            "right": null,
            "justify_content": null,
            "_view_module": "@jupyter-widgets/base",
            "overflow": null,
            "_model_module_version": "1.2.0",
            "_view_count": null,
            "flex_flow": null,
            "width": null,
            "min_width": null,
            "border": null,
            "align_items": null,
            "bottom": null,
            "_model_module": "@jupyter-widgets/base",
            "top": null,
            "grid_column": null,
            "overflow_y": null,
            "overflow_x": null,
            "grid_auto_flow": null,
            "grid_area": null,
            "grid_template_columns": null,
            "flex": null,
            "_model_name": "LayoutModel",
            "justify_items": null,
            "grid_row": null,
            "max_height": null,
            "align_content": null,
            "visibility": null,
            "align_self": null,
            "height": null,
            "min_height": null,
            "padding": null,
            "grid_auto_rows": null,
            "grid_gap": null,
            "max_width": null,
            "order": null,
            "_view_module_version": "1.2.0",
            "grid_template_areas": null,
            "object_position": null,
            "object_fit": null,
            "grid_auto_columns": null,
            "margin": null,
            "display": null,
            "left": null
          }
        },
        "d7a4abee8de043ec918b41cfdcd4acdc": {
          "model_module": "@jupyter-widgets/controls",
          "model_name": "HBoxModel",
          "model_module_version": "1.5.0",
          "state": {
            "_view_name": "HBoxView",
            "_dom_classes": [],
            "_model_name": "HBoxModel",
            "_view_module": "@jupyter-widgets/controls",
            "_model_module_version": "1.5.0",
            "_view_count": null,
            "_view_module_version": "1.5.0",
            "box_style": "",
            "layout": "IPY_MODEL_bae6b3455ad744249ba4907d9c6da551",
            "_model_module": "@jupyter-widgets/controls",
            "children": [
              "IPY_MODEL_45d5f50ae2f04e0885bc4457fe06610e",
              "IPY_MODEL_b8f61089781b409fa7551eea03cdb203",
              "IPY_MODEL_9292169d3c93451a9bddd8bbb48e2066"
            ]
          }
        },
        "bae6b3455ad744249ba4907d9c6da551": {
          "model_module": "@jupyter-widgets/base",
          "model_name": "LayoutModel",
          "model_module_version": "1.2.0",
          "state": {
            "_view_name": "LayoutView",
            "grid_template_rows": null,
            "right": null,
            "justify_content": null,
            "_view_module": "@jupyter-widgets/base",
            "overflow": null,
            "_model_module_version": "1.2.0",
            "_view_count": null,
            "flex_flow": null,
            "width": null,
            "min_width": null,
            "border": null,
            "align_items": null,
            "bottom": null,
            "_model_module": "@jupyter-widgets/base",
            "top": null,
            "grid_column": null,
            "overflow_y": null,
            "overflow_x": null,
            "grid_auto_flow": null,
            "grid_area": null,
            "grid_template_columns": null,
            "flex": null,
            "_model_name": "LayoutModel",
            "justify_items": null,
            "grid_row": null,
            "max_height": null,
            "align_content": null,
            "visibility": null,
            "align_self": null,
            "height": null,
            "min_height": null,
            "padding": null,
            "grid_auto_rows": null,
            "grid_gap": null,
            "max_width": null,
            "order": null,
            "_view_module_version": "1.2.0",
            "grid_template_areas": null,
            "object_position": null,
            "object_fit": null,
            "grid_auto_columns": null,
            "margin": null,
            "display": null,
            "left": null
          }
        },
        "45d5f50ae2f04e0885bc4457fe06610e": {
          "model_module": "@jupyter-widgets/controls",
          "model_name": "HTMLModel",
          "model_module_version": "1.5.0",
          "state": {
            "_view_name": "HTMLView",
            "style": "IPY_MODEL_2724a20a511e4565aab74cb391106fc4",
            "_dom_classes": [],
            "description": "",
            "_model_name": "HTMLModel",
            "placeholder": "​",
            "_view_module": "@jupyter-widgets/controls",
            "_model_module_version": "1.5.0",
            "value": "Epoch [3/5]: [682/682] 100%",
            "_view_count": null,
            "_view_module_version": "1.5.0",
            "description_tooltip": null,
            "_model_module": "@jupyter-widgets/controls",
            "layout": "IPY_MODEL_f270812626f04d1b9e57a0040145a712"
          }
        },
        "b8f61089781b409fa7551eea03cdb203": {
          "model_module": "@jupyter-widgets/controls",
          "model_name": "FloatProgressModel",
          "model_module_version": "1.5.0",
          "state": {
            "_view_name": "ProgressView",
            "style": "IPY_MODEL_065e923c8c084294b8253063fd243ce8",
            "_dom_classes": [],
            "description": "",
            "_model_name": "FloatProgressModel",
            "bar_style": "success",
            "max": 682,
            "_view_module": "@jupyter-widgets/controls",
            "_model_module_version": "1.5.0",
            "value": 682,
            "_view_count": null,
            "_view_module_version": "1.5.0",
            "orientation": "horizontal",
            "min": 0,
            "description_tooltip": null,
            "_model_module": "@jupyter-widgets/controls",
            "layout": "IPY_MODEL_f653e34b669842bc979ce156301f3047"
          }
        },
        "9292169d3c93451a9bddd8bbb48e2066": {
          "model_module": "@jupyter-widgets/controls",
          "model_name": "HTMLModel",
          "model_module_version": "1.5.0",
          "state": {
            "_view_name": "HTMLView",
            "style": "IPY_MODEL_35e4fcd555144ad8ba244d2acf1b9926",
            "_dom_classes": [],
            "description": "",
            "_model_name": "HTMLModel",
            "placeholder": "​",
            "_view_module": "@jupyter-widgets/controls",
            "_model_module_version": "1.5.0",
            "value": ", loss=0.156 [06:01&lt;00:00]",
            "_view_count": null,
            "_view_module_version": "1.5.0",
            "description_tooltip": null,
            "_model_module": "@jupyter-widgets/controls",
            "layout": "IPY_MODEL_ab4ea2a6a8fd4d1aaab8272ea54527e8"
          }
        },
        "2724a20a511e4565aab74cb391106fc4": {
          "model_module": "@jupyter-widgets/controls",
          "model_name": "DescriptionStyleModel",
          "model_module_version": "1.5.0",
          "state": {
            "_view_name": "StyleView",
            "_model_name": "DescriptionStyleModel",
            "description_width": "",
            "_view_module": "@jupyter-widgets/base",
            "_model_module_version": "1.5.0",
            "_view_count": null,
            "_view_module_version": "1.2.0",
            "_model_module": "@jupyter-widgets/controls"
          }
        },
        "f270812626f04d1b9e57a0040145a712": {
          "model_module": "@jupyter-widgets/base",
          "model_name": "LayoutModel",
          "model_module_version": "1.2.0",
          "state": {
            "_view_name": "LayoutView",
            "grid_template_rows": null,
            "right": null,
            "justify_content": null,
            "_view_module": "@jupyter-widgets/base",
            "overflow": null,
            "_model_module_version": "1.2.0",
            "_view_count": null,
            "flex_flow": null,
            "width": null,
            "min_width": null,
            "border": null,
            "align_items": null,
            "bottom": null,
            "_model_module": "@jupyter-widgets/base",
            "top": null,
            "grid_column": null,
            "overflow_y": null,
            "overflow_x": null,
            "grid_auto_flow": null,
            "grid_area": null,
            "grid_template_columns": null,
            "flex": null,
            "_model_name": "LayoutModel",
            "justify_items": null,
            "grid_row": null,
            "max_height": null,
            "align_content": null,
            "visibility": null,
            "align_self": null,
            "height": null,
            "min_height": null,
            "padding": null,
            "grid_auto_rows": null,
            "grid_gap": null,
            "max_width": null,
            "order": null,
            "_view_module_version": "1.2.0",
            "grid_template_areas": null,
            "object_position": null,
            "object_fit": null,
            "grid_auto_columns": null,
            "margin": null,
            "display": null,
            "left": null
          }
        },
        "065e923c8c084294b8253063fd243ce8": {
          "model_module": "@jupyter-widgets/controls",
          "model_name": "ProgressStyleModel",
          "model_module_version": "1.5.0",
          "state": {
            "_view_name": "StyleView",
            "_model_name": "ProgressStyleModel",
            "description_width": "",
            "_view_module": "@jupyter-widgets/base",
            "_model_module_version": "1.5.0",
            "_view_count": null,
            "_view_module_version": "1.2.0",
            "bar_color": null,
            "_model_module": "@jupyter-widgets/controls"
          }
        },
        "f653e34b669842bc979ce156301f3047": {
          "model_module": "@jupyter-widgets/base",
          "model_name": "LayoutModel",
          "model_module_version": "1.2.0",
          "state": {
            "_view_name": "LayoutView",
            "grid_template_rows": null,
            "right": null,
            "justify_content": null,
            "_view_module": "@jupyter-widgets/base",
            "overflow": null,
            "_model_module_version": "1.2.0",
            "_view_count": null,
            "flex_flow": null,
            "width": null,
            "min_width": null,
            "border": null,
            "align_items": null,
            "bottom": null,
            "_model_module": "@jupyter-widgets/base",
            "top": null,
            "grid_column": null,
            "overflow_y": null,
            "overflow_x": null,
            "grid_auto_flow": null,
            "grid_area": null,
            "grid_template_columns": null,
            "flex": null,
            "_model_name": "LayoutModel",
            "justify_items": null,
            "grid_row": null,
            "max_height": null,
            "align_content": null,
            "visibility": null,
            "align_self": null,
            "height": null,
            "min_height": null,
            "padding": null,
            "grid_auto_rows": null,
            "grid_gap": null,
            "max_width": null,
            "order": null,
            "_view_module_version": "1.2.0",
            "grid_template_areas": null,
            "object_position": null,
            "object_fit": null,
            "grid_auto_columns": null,
            "margin": null,
            "display": null,
            "left": null
          }
        },
        "35e4fcd555144ad8ba244d2acf1b9926": {
          "model_module": "@jupyter-widgets/controls",
          "model_name": "DescriptionStyleModel",
          "model_module_version": "1.5.0",
          "state": {
            "_view_name": "StyleView",
            "_model_name": "DescriptionStyleModel",
            "description_width": "",
            "_view_module": "@jupyter-widgets/base",
            "_model_module_version": "1.5.0",
            "_view_count": null,
            "_view_module_version": "1.2.0",
            "_model_module": "@jupyter-widgets/controls"
          }
        },
        "ab4ea2a6a8fd4d1aaab8272ea54527e8": {
          "model_module": "@jupyter-widgets/base",
          "model_name": "LayoutModel",
          "model_module_version": "1.2.0",
          "state": {
            "_view_name": "LayoutView",
            "grid_template_rows": null,
            "right": null,
            "justify_content": null,
            "_view_module": "@jupyter-widgets/base",
            "overflow": null,
            "_model_module_version": "1.2.0",
            "_view_count": null,
            "flex_flow": null,
            "width": null,
            "min_width": null,
            "border": null,
            "align_items": null,
            "bottom": null,
            "_model_module": "@jupyter-widgets/base",
            "top": null,
            "grid_column": null,
            "overflow_y": null,
            "overflow_x": null,
            "grid_auto_flow": null,
            "grid_area": null,
            "grid_template_columns": null,
            "flex": null,
            "_model_name": "LayoutModel",
            "justify_items": null,
            "grid_row": null,
            "max_height": null,
            "align_content": null,
            "visibility": null,
            "align_self": null,
            "height": null,
            "min_height": null,
            "padding": null,
            "grid_auto_rows": null,
            "grid_gap": null,
            "max_width": null,
            "order": null,
            "_view_module_version": "1.2.0",
            "grid_template_areas": null,
            "object_position": null,
            "object_fit": null,
            "grid_auto_columns": null,
            "margin": null,
            "display": null,
            "left": null
          }
        },
        "fe4a05bbe4434b5bb1efc69ad2fde949": {
          "model_module": "@jupyter-widgets/controls",
          "model_name": "HBoxModel",
          "model_module_version": "1.5.0",
          "state": {
            "_view_name": "HBoxView",
            "_dom_classes": [],
            "_model_name": "HBoxModel",
            "_view_module": "@jupyter-widgets/controls",
            "_model_module_version": "1.5.0",
            "_view_count": null,
            "_view_module_version": "1.5.0",
            "box_style": "",
            "layout": "IPY_MODEL_f3836ad9303d451cbda68f08f3c17269",
            "_model_module": "@jupyter-widgets/controls",
            "children": [
              "IPY_MODEL_23fa75581cd049bc9587ea18f8397fd8",
              "IPY_MODEL_105400f2c89044039186be4522a54efc",
              "IPY_MODEL_be756b213669478f97420fb2e5b21636"
            ]
          }
        },
        "f3836ad9303d451cbda68f08f3c17269": {
          "model_module": "@jupyter-widgets/base",
          "model_name": "LayoutModel",
          "model_module_version": "1.2.0",
          "state": {
            "_view_name": "LayoutView",
            "grid_template_rows": null,
            "right": null,
            "justify_content": null,
            "_view_module": "@jupyter-widgets/base",
            "overflow": null,
            "_model_module_version": "1.2.0",
            "_view_count": null,
            "flex_flow": null,
            "width": null,
            "min_width": null,
            "border": null,
            "align_items": null,
            "bottom": null,
            "_model_module": "@jupyter-widgets/base",
            "top": null,
            "grid_column": null,
            "overflow_y": null,
            "overflow_x": null,
            "grid_auto_flow": null,
            "grid_area": null,
            "grid_template_columns": null,
            "flex": null,
            "_model_name": "LayoutModel",
            "justify_items": null,
            "grid_row": null,
            "max_height": null,
            "align_content": null,
            "visibility": null,
            "align_self": null,
            "height": null,
            "min_height": null,
            "padding": null,
            "grid_auto_rows": null,
            "grid_gap": null,
            "max_width": null,
            "order": null,
            "_view_module_version": "1.2.0",
            "grid_template_areas": null,
            "object_position": null,
            "object_fit": null,
            "grid_auto_columns": null,
            "margin": null,
            "display": null,
            "left": null
          }
        },
        "23fa75581cd049bc9587ea18f8397fd8": {
          "model_module": "@jupyter-widgets/controls",
          "model_name": "HTMLModel",
          "model_module_version": "1.5.0",
          "state": {
            "_view_name": "HTMLView",
            "style": "IPY_MODEL_cf9c868d02a343b5b3abf693b4d7c429",
            "_dom_classes": [],
            "description": "",
            "_model_name": "HTMLModel",
            "placeholder": "​",
            "_view_module": "@jupyter-widgets/controls",
            "_model_module_version": "1.5.0",
            "value": "Epoch [4/5]: [682/682] 100%",
            "_view_count": null,
            "_view_module_version": "1.5.0",
            "description_tooltip": null,
            "_model_module": "@jupyter-widgets/controls",
            "layout": "IPY_MODEL_a2c716057f2e41e5b766b2b69e9c8412"
          }
        },
        "105400f2c89044039186be4522a54efc": {
          "model_module": "@jupyter-widgets/controls",
          "model_name": "FloatProgressModel",
          "model_module_version": "1.5.0",
          "state": {
            "_view_name": "ProgressView",
            "style": "IPY_MODEL_ebb17aed6b694cb493c6e63b3b300b13",
            "_dom_classes": [],
            "description": "",
            "_model_name": "FloatProgressModel",
            "bar_style": "success",
            "max": 682,
            "_view_module": "@jupyter-widgets/controls",
            "_model_module_version": "1.5.0",
            "value": 682,
            "_view_count": null,
            "_view_module_version": "1.5.0",
            "orientation": "horizontal",
            "min": 0,
            "description_tooltip": null,
            "_model_module": "@jupyter-widgets/controls",
            "layout": "IPY_MODEL_23c48896cc47411c901aeb97c2914949"
          }
        },
        "be756b213669478f97420fb2e5b21636": {
          "model_module": "@jupyter-widgets/controls",
          "model_name": "HTMLModel",
          "model_module_version": "1.5.0",
          "state": {
            "_view_name": "HTMLView",
            "style": "IPY_MODEL_5525abb5ec614bde87daabd3a0ab3e19",
            "_dom_classes": [],
            "description": "",
            "_model_name": "HTMLModel",
            "placeholder": "​",
            "_view_module": "@jupyter-widgets/controls",
            "_model_module_version": "1.5.0",
            "value": ", loss=0.148 [06:01&lt;00:00]",
            "_view_count": null,
            "_view_module_version": "1.5.0",
            "description_tooltip": null,
            "_model_module": "@jupyter-widgets/controls",
            "layout": "IPY_MODEL_4f08449350c8437faa9cb2973cc88b7f"
          }
        },
        "cf9c868d02a343b5b3abf693b4d7c429": {
          "model_module": "@jupyter-widgets/controls",
          "model_name": "DescriptionStyleModel",
          "model_module_version": "1.5.0",
          "state": {
            "_view_name": "StyleView",
            "_model_name": "DescriptionStyleModel",
            "description_width": "",
            "_view_module": "@jupyter-widgets/base",
            "_model_module_version": "1.5.0",
            "_view_count": null,
            "_view_module_version": "1.2.0",
            "_model_module": "@jupyter-widgets/controls"
          }
        },
        "a2c716057f2e41e5b766b2b69e9c8412": {
          "model_module": "@jupyter-widgets/base",
          "model_name": "LayoutModel",
          "model_module_version": "1.2.0",
          "state": {
            "_view_name": "LayoutView",
            "grid_template_rows": null,
            "right": null,
            "justify_content": null,
            "_view_module": "@jupyter-widgets/base",
            "overflow": null,
            "_model_module_version": "1.2.0",
            "_view_count": null,
            "flex_flow": null,
            "width": null,
            "min_width": null,
            "border": null,
            "align_items": null,
            "bottom": null,
            "_model_module": "@jupyter-widgets/base",
            "top": null,
            "grid_column": null,
            "overflow_y": null,
            "overflow_x": null,
            "grid_auto_flow": null,
            "grid_area": null,
            "grid_template_columns": null,
            "flex": null,
            "_model_name": "LayoutModel",
            "justify_items": null,
            "grid_row": null,
            "max_height": null,
            "align_content": null,
            "visibility": null,
            "align_self": null,
            "height": null,
            "min_height": null,
            "padding": null,
            "grid_auto_rows": null,
            "grid_gap": null,
            "max_width": null,
            "order": null,
            "_view_module_version": "1.2.0",
            "grid_template_areas": null,
            "object_position": null,
            "object_fit": null,
            "grid_auto_columns": null,
            "margin": null,
            "display": null,
            "left": null
          }
        },
        "ebb17aed6b694cb493c6e63b3b300b13": {
          "model_module": "@jupyter-widgets/controls",
          "model_name": "ProgressStyleModel",
          "model_module_version": "1.5.0",
          "state": {
            "_view_name": "StyleView",
            "_model_name": "ProgressStyleModel",
            "description_width": "",
            "_view_module": "@jupyter-widgets/base",
            "_model_module_version": "1.5.0",
            "_view_count": null,
            "_view_module_version": "1.2.0",
            "bar_color": null,
            "_model_module": "@jupyter-widgets/controls"
          }
        },
        "23c48896cc47411c901aeb97c2914949": {
          "model_module": "@jupyter-widgets/base",
          "model_name": "LayoutModel",
          "model_module_version": "1.2.0",
          "state": {
            "_view_name": "LayoutView",
            "grid_template_rows": null,
            "right": null,
            "justify_content": null,
            "_view_module": "@jupyter-widgets/base",
            "overflow": null,
            "_model_module_version": "1.2.0",
            "_view_count": null,
            "flex_flow": null,
            "width": null,
            "min_width": null,
            "border": null,
            "align_items": null,
            "bottom": null,
            "_model_module": "@jupyter-widgets/base",
            "top": null,
            "grid_column": null,
            "overflow_y": null,
            "overflow_x": null,
            "grid_auto_flow": null,
            "grid_area": null,
            "grid_template_columns": null,
            "flex": null,
            "_model_name": "LayoutModel",
            "justify_items": null,
            "grid_row": null,
            "max_height": null,
            "align_content": null,
            "visibility": null,
            "align_self": null,
            "height": null,
            "min_height": null,
            "padding": null,
            "grid_auto_rows": null,
            "grid_gap": null,
            "max_width": null,
            "order": null,
            "_view_module_version": "1.2.0",
            "grid_template_areas": null,
            "object_position": null,
            "object_fit": null,
            "grid_auto_columns": null,
            "margin": null,
            "display": null,
            "left": null
          }
        },
        "5525abb5ec614bde87daabd3a0ab3e19": {
          "model_module": "@jupyter-widgets/controls",
          "model_name": "DescriptionStyleModel",
          "model_module_version": "1.5.0",
          "state": {
            "_view_name": "StyleView",
            "_model_name": "DescriptionStyleModel",
            "description_width": "",
            "_view_module": "@jupyter-widgets/base",
            "_model_module_version": "1.5.0",
            "_view_count": null,
            "_view_module_version": "1.2.0",
            "_model_module": "@jupyter-widgets/controls"
          }
        },
        "4f08449350c8437faa9cb2973cc88b7f": {
          "model_module": "@jupyter-widgets/base",
          "model_name": "LayoutModel",
          "model_module_version": "1.2.0",
          "state": {
            "_view_name": "LayoutView",
            "grid_template_rows": null,
            "right": null,
            "justify_content": null,
            "_view_module": "@jupyter-widgets/base",
            "overflow": null,
            "_model_module_version": "1.2.0",
            "_view_count": null,
            "flex_flow": null,
            "width": null,
            "min_width": null,
            "border": null,
            "align_items": null,
            "bottom": null,
            "_model_module": "@jupyter-widgets/base",
            "top": null,
            "grid_column": null,
            "overflow_y": null,
            "overflow_x": null,
            "grid_auto_flow": null,
            "grid_area": null,
            "grid_template_columns": null,
            "flex": null,
            "_model_name": "LayoutModel",
            "justify_items": null,
            "grid_row": null,
            "max_height": null,
            "align_content": null,
            "visibility": null,
            "align_self": null,
            "height": null,
            "min_height": null,
            "padding": null,
            "grid_auto_rows": null,
            "grid_gap": null,
            "max_width": null,
            "order": null,
            "_view_module_version": "1.2.0",
            "grid_template_areas": null,
            "object_position": null,
            "object_fit": null,
            "grid_auto_columns": null,
            "margin": null,
            "display": null,
            "left": null
          }
        },
        "b0b71223becc49c89913962bd5c6aa44": {
          "model_module": "@jupyter-widgets/controls",
          "model_name": "HBoxModel",
          "model_module_version": "1.5.0",
          "state": {
            "_view_name": "HBoxView",
            "_dom_classes": [],
            "_model_name": "HBoxModel",
            "_view_module": "@jupyter-widgets/controls",
            "_model_module_version": "1.5.0",
            "_view_count": null,
            "_view_module_version": "1.5.0",
            "box_style": "",
            "layout": "IPY_MODEL_37f42ad93e954faf90fa627a1bc025c2",
            "_model_module": "@jupyter-widgets/controls",
            "children": [
              "IPY_MODEL_803ec2f6820f4680880893aabd44f641",
              "IPY_MODEL_4b3fa9bfd8494859b8b22d70aa4e98c0",
              "IPY_MODEL_a410c0097dc34d8e9e72a8e10a621778"
            ]
          }
        },
        "37f42ad93e954faf90fa627a1bc025c2": {
          "model_module": "@jupyter-widgets/base",
          "model_name": "LayoutModel",
          "model_module_version": "1.2.0",
          "state": {
            "_view_name": "LayoutView",
            "grid_template_rows": null,
            "right": null,
            "justify_content": null,
            "_view_module": "@jupyter-widgets/base",
            "overflow": null,
            "_model_module_version": "1.2.0",
            "_view_count": null,
            "flex_flow": null,
            "width": null,
            "min_width": null,
            "border": null,
            "align_items": null,
            "bottom": null,
            "_model_module": "@jupyter-widgets/base",
            "top": null,
            "grid_column": null,
            "overflow_y": null,
            "overflow_x": null,
            "grid_auto_flow": null,
            "grid_area": null,
            "grid_template_columns": null,
            "flex": null,
            "_model_name": "LayoutModel",
            "justify_items": null,
            "grid_row": null,
            "max_height": null,
            "align_content": null,
            "visibility": null,
            "align_self": null,
            "height": null,
            "min_height": null,
            "padding": null,
            "grid_auto_rows": null,
            "grid_gap": null,
            "max_width": null,
            "order": null,
            "_view_module_version": "1.2.0",
            "grid_template_areas": null,
            "object_position": null,
            "object_fit": null,
            "grid_auto_columns": null,
            "margin": null,
            "display": null,
            "left": null
          }
        },
        "803ec2f6820f4680880893aabd44f641": {
          "model_module": "@jupyter-widgets/controls",
          "model_name": "HTMLModel",
          "model_module_version": "1.5.0",
          "state": {
            "_view_name": "HTMLView",
            "style": "IPY_MODEL_511f76eb387f42faa27b10cc343b0430",
            "_dom_classes": [],
            "description": "",
            "_model_name": "HTMLModel",
            "placeholder": "​",
            "_view_module": "@jupyter-widgets/controls",
            "_model_module_version": "1.5.0",
            "value": "Epoch [5/5]: [682/682] 100%",
            "_view_count": null,
            "_view_module_version": "1.5.0",
            "description_tooltip": null,
            "_model_module": "@jupyter-widgets/controls",
            "layout": "IPY_MODEL_16bfaeb6fe2145f1968f67cfe4dac253"
          }
        },
        "4b3fa9bfd8494859b8b22d70aa4e98c0": {
          "model_module": "@jupyter-widgets/controls",
          "model_name": "FloatProgressModel",
          "model_module_version": "1.5.0",
          "state": {
            "_view_name": "ProgressView",
            "style": "IPY_MODEL_e10df1e27fb94cadb119b27383c0e0aa",
            "_dom_classes": [],
            "description": "",
            "_model_name": "FloatProgressModel",
            "bar_style": "success",
            "max": 682,
            "_view_module": "@jupyter-widgets/controls",
            "_model_module_version": "1.5.0",
            "value": 682,
            "_view_count": null,
            "_view_module_version": "1.5.0",
            "orientation": "horizontal",
            "min": 0,
            "description_tooltip": null,
            "_model_module": "@jupyter-widgets/controls",
            "layout": "IPY_MODEL_649664b2b4934f16993fa89eccb6f2b7"
          }
        },
        "a410c0097dc34d8e9e72a8e10a621778": {
          "model_module": "@jupyter-widgets/controls",
          "model_name": "HTMLModel",
          "model_module_version": "1.5.0",
          "state": {
            "_view_name": "HTMLView",
            "style": "IPY_MODEL_0b86acfdf9694c46bedfe24e5193e88b",
            "_dom_classes": [],
            "description": "",
            "_model_name": "HTMLModel",
            "placeholder": "​",
            "_view_module": "@jupyter-widgets/controls",
            "_model_module_version": "1.5.0",
            "value": ", loss=0.151 [06:01&lt;00:00]",
            "_view_count": null,
            "_view_module_version": "1.5.0",
            "description_tooltip": null,
            "_model_module": "@jupyter-widgets/controls",
            "layout": "IPY_MODEL_afd173d8204c4502b248304877fc6299"
          }
        },
        "511f76eb387f42faa27b10cc343b0430": {
          "model_module": "@jupyter-widgets/controls",
          "model_name": "DescriptionStyleModel",
          "model_module_version": "1.5.0",
          "state": {
            "_view_name": "StyleView",
            "_model_name": "DescriptionStyleModel",
            "description_width": "",
            "_view_module": "@jupyter-widgets/base",
            "_model_module_version": "1.5.0",
            "_view_count": null,
            "_view_module_version": "1.2.0",
            "_model_module": "@jupyter-widgets/controls"
          }
        },
        "16bfaeb6fe2145f1968f67cfe4dac253": {
          "model_module": "@jupyter-widgets/base",
          "model_name": "LayoutModel",
          "model_module_version": "1.2.0",
          "state": {
            "_view_name": "LayoutView",
            "grid_template_rows": null,
            "right": null,
            "justify_content": null,
            "_view_module": "@jupyter-widgets/base",
            "overflow": null,
            "_model_module_version": "1.2.0",
            "_view_count": null,
            "flex_flow": null,
            "width": null,
            "min_width": null,
            "border": null,
            "align_items": null,
            "bottom": null,
            "_model_module": "@jupyter-widgets/base",
            "top": null,
            "grid_column": null,
            "overflow_y": null,
            "overflow_x": null,
            "grid_auto_flow": null,
            "grid_area": null,
            "grid_template_columns": null,
            "flex": null,
            "_model_name": "LayoutModel",
            "justify_items": null,
            "grid_row": null,
            "max_height": null,
            "align_content": null,
            "visibility": null,
            "align_self": null,
            "height": null,
            "min_height": null,
            "padding": null,
            "grid_auto_rows": null,
            "grid_gap": null,
            "max_width": null,
            "order": null,
            "_view_module_version": "1.2.0",
            "grid_template_areas": null,
            "object_position": null,
            "object_fit": null,
            "grid_auto_columns": null,
            "margin": null,
            "display": null,
            "left": null
          }
        },
        "e10df1e27fb94cadb119b27383c0e0aa": {
          "model_module": "@jupyter-widgets/controls",
          "model_name": "ProgressStyleModel",
          "model_module_version": "1.5.0",
          "state": {
            "_view_name": "StyleView",
            "_model_name": "ProgressStyleModel",
            "description_width": "",
            "_view_module": "@jupyter-widgets/base",
            "_model_module_version": "1.5.0",
            "_view_count": null,
            "_view_module_version": "1.2.0",
            "bar_color": null,
            "_model_module": "@jupyter-widgets/controls"
          }
        },
        "649664b2b4934f16993fa89eccb6f2b7": {
          "model_module": "@jupyter-widgets/base",
          "model_name": "LayoutModel",
          "model_module_version": "1.2.0",
          "state": {
            "_view_name": "LayoutView",
            "grid_template_rows": null,
            "right": null,
            "justify_content": null,
            "_view_module": "@jupyter-widgets/base",
            "overflow": null,
            "_model_module_version": "1.2.0",
            "_view_count": null,
            "flex_flow": null,
            "width": null,
            "min_width": null,
            "border": null,
            "align_items": null,
            "bottom": null,
            "_model_module": "@jupyter-widgets/base",
            "top": null,
            "grid_column": null,
            "overflow_y": null,
            "overflow_x": null,
            "grid_auto_flow": null,
            "grid_area": null,
            "grid_template_columns": null,
            "flex": null,
            "_model_name": "LayoutModel",
            "justify_items": null,
            "grid_row": null,
            "max_height": null,
            "align_content": null,
            "visibility": null,
            "align_self": null,
            "height": null,
            "min_height": null,
            "padding": null,
            "grid_auto_rows": null,
            "grid_gap": null,
            "max_width": null,
            "order": null,
            "_view_module_version": "1.2.0",
            "grid_template_areas": null,
            "object_position": null,
            "object_fit": null,
            "grid_auto_columns": null,
            "margin": null,
            "display": null,
            "left": null
          }
        },
        "0b86acfdf9694c46bedfe24e5193e88b": {
          "model_module": "@jupyter-widgets/controls",
          "model_name": "DescriptionStyleModel",
          "model_module_version": "1.5.0",
          "state": {
            "_view_name": "StyleView",
            "_model_name": "DescriptionStyleModel",
            "description_width": "",
            "_view_module": "@jupyter-widgets/base",
            "_model_module_version": "1.5.0",
            "_view_count": null,
            "_view_module_version": "1.2.0",
            "_model_module": "@jupyter-widgets/controls"
          }
        },
        "afd173d8204c4502b248304877fc6299": {
          "model_module": "@jupyter-widgets/base",
          "model_name": "LayoutModel",
          "model_module_version": "1.2.0",
          "state": {
            "_view_name": "LayoutView",
            "grid_template_rows": null,
            "right": null,
            "justify_content": null,
            "_view_module": "@jupyter-widgets/base",
            "overflow": null,
            "_model_module_version": "1.2.0",
            "_view_count": null,
            "flex_flow": null,
            "width": null,
            "min_width": null,
            "border": null,
            "align_items": null,
            "bottom": null,
            "_model_module": "@jupyter-widgets/base",
            "top": null,
            "grid_column": null,
            "overflow_y": null,
            "overflow_x": null,
            "grid_auto_flow": null,
            "grid_area": null,
            "grid_template_columns": null,
            "flex": null,
            "_model_name": "LayoutModel",
            "justify_items": null,
            "grid_row": null,
            "max_height": null,
            "align_content": null,
            "visibility": null,
            "align_self": null,
            "height": null,
            "min_height": null,
            "padding": null,
            "grid_auto_rows": null,
            "grid_gap": null,
            "max_width": null,
            "order": null,
            "_view_module_version": "1.2.0",
            "grid_template_areas": null,
            "object_position": null,
            "object_fit": null,
            "grid_auto_columns": null,
            "margin": null,
            "display": null,
            "left": null
          }
        },
        "709a827a77744b8c9e1b4b1cb67ff566": {
          "model_module": "@jupyter-widgets/controls",
          "model_name": "VBoxModel",
          "model_module_version": "1.5.0",
          "state": {
            "_view_name": "VBoxView",
            "_dom_classes": [],
            "_model_name": "VBoxModel",
            "_view_module": "@jupyter-widgets/controls",
            "_model_module_version": "1.5.0",
            "_view_count": null,
            "_view_module_version": "1.5.0",
            "box_style": "",
            "layout": "IPY_MODEL_18f0ada4ffbb4da9910e2920e0e0c0d8",
            "_model_module": "@jupyter-widgets/controls",
            "children": [
              "IPY_MODEL_82391fdd965642b18bbbc6d32ae8d986",
              "IPY_MODEL_1759520fdb4a46f992196bd4fd233bce"
            ]
          }
        },
        "18f0ada4ffbb4da9910e2920e0e0c0d8": {
          "model_module": "@jupyter-widgets/base",
          "model_name": "LayoutModel",
          "model_module_version": "1.2.0",
          "state": {
            "_view_name": "LayoutView",
            "grid_template_rows": null,
            "right": null,
            "justify_content": null,
            "_view_module": "@jupyter-widgets/base",
            "overflow": null,
            "_model_module_version": "1.2.0",
            "_view_count": null,
            "flex_flow": null,
            "width": null,
            "min_width": null,
            "border": null,
            "align_items": null,
            "bottom": null,
            "_model_module": "@jupyter-widgets/base",
            "top": null,
            "grid_column": null,
            "overflow_y": null,
            "overflow_x": null,
            "grid_auto_flow": null,
            "grid_area": null,
            "grid_template_columns": null,
            "flex": null,
            "_model_name": "LayoutModel",
            "justify_items": null,
            "grid_row": null,
            "max_height": null,
            "align_content": null,
            "visibility": null,
            "align_self": null,
            "height": null,
            "min_height": null,
            "padding": null,
            "grid_auto_rows": null,
            "grid_gap": null,
            "max_width": null,
            "order": null,
            "_view_module_version": "1.2.0",
            "grid_template_areas": null,
            "object_position": null,
            "object_fit": null,
            "grid_auto_columns": null,
            "margin": null,
            "display": null,
            "left": null
          }
        },
        "82391fdd965642b18bbbc6d32ae8d986": {
          "model_module": "@jupyter-widgets/controls",
          "model_name": "HBoxModel",
          "model_module_version": "1.5.0",
          "state": {
            "_view_name": "HBoxView",
            "_dom_classes": [],
            "_model_name": "HBoxModel",
            "_view_module": "@jupyter-widgets/controls",
            "_model_module_version": "1.5.0",
            "_view_count": null,
            "_view_module_version": "1.5.0",
            "box_style": "",
            "layout": "IPY_MODEL_9a1124d560c7468993e7fb184e9daab7",
            "_model_module": "@jupyter-widgets/controls",
            "children": [
              "IPY_MODEL_af4ac4a1ec9144e98e666de19842501e",
              "IPY_MODEL_fddae59a18b64589a50ef3a8a189e7e3"
            ]
          }
        },
        "1759520fdb4a46f992196bd4fd233bce": {
          "model_module": "@jupyter-widgets/controls",
          "model_name": "TabModel",
          "model_module_version": "1.5.0",
          "state": {
            "_view_name": "TabView",
            "_dom_classes": [],
            "_titles": {
              "0": "Summary Table",
              "1": "Trend Chart"
            },
            "_model_name": "TabModel",
            "_view_module": "@jupyter-widgets/controls",
            "selected_index": 0,
            "_model_module_version": "1.5.0",
            "_view_count": null,
            "_view_module_version": "1.5.0",
            "box_style": "",
            "layout": "IPY_MODEL_0f1e68507e9349a5829ee90035d0c2b5",
            "_model_module": "@jupyter-widgets/controls",
            "children": [
              "IPY_MODEL_061428fa872348dd8190be39d89f082c",
              "IPY_MODEL_203edcf9ead245e9af6ba09f30cabc7b"
            ]
          }
        },
        "9a1124d560c7468993e7fb184e9daab7": {
          "model_module": "@jupyter-widgets/base",
          "model_name": "LayoutModel",
          "model_module_version": "1.2.0",
          "state": {
            "_view_name": "LayoutView",
            "grid_template_rows": null,
            "right": null,
            "justify_content": "space-between",
            "_view_module": "@jupyter-widgets/base",
            "overflow": null,
            "_model_module_version": "1.2.0",
            "_view_count": null,
            "flex_flow": null,
            "width": "60%",
            "min_width": null,
            "border": null,
            "align_items": null,
            "bottom": null,
            "_model_module": "@jupyter-widgets/base",
            "top": null,
            "grid_column": null,
            "overflow_y": null,
            "overflow_x": null,
            "grid_auto_flow": null,
            "grid_area": null,
            "grid_template_columns": null,
            "flex": null,
            "_model_name": "LayoutModel",
            "justify_items": null,
            "grid_row": null,
            "max_height": null,
            "align_content": null,
            "visibility": null,
            "align_self": null,
            "height": null,
            "min_height": null,
            "padding": null,
            "grid_auto_rows": null,
            "grid_gap": null,
            "max_width": null,
            "order": null,
            "_view_module_version": "1.2.0",
            "grid_template_areas": null,
            "object_position": null,
            "object_fit": null,
            "grid_auto_columns": null,
            "margin": "0 0 50px 0",
            "display": null,
            "left": null
          }
        },
        "af4ac4a1ec9144e98e666de19842501e": {
          "model_module": "@jupyter-widgets/controls",
          "model_name": "DropdownModel",
          "model_module_version": "1.5.0",
          "state": {
            "_options_labels": [
              "ALL",
              "apparel",
              "automotive",
              "baby",
              "beauty",
              "books",
              "camera & photo",
              "cell phones & service",
              "computer & video games",
              "dvd",
              "electronics",
              "gourmet food",
              "grocery",
              "health & personal care",
              "jewelry & watches",
              "kitchen & housewares",
              "magazines",
              "music",
              "musical instruments",
              "office products",
              "outdoor living",
              "software",
              "sports & outdoors",
              "tools & hardware",
              "toys & games",
              "video"
            ],
            "_view_name": "DropdownView",
            "style": "IPY_MODEL_15a7ea4121c64bbf9f27397ecf681fbb",
            "_dom_classes": [],
            "description": "Product Type: ",
            "_model_name": "DropdownModel",
            "index": 14,
            "_view_module": "@jupyter-widgets/controls",
            "_model_module_version": "1.5.0",
            "_view_count": null,
            "disabled": false,
            "_view_module_version": "1.5.0",
            "description_tooltip": null,
            "_model_module": "@jupyter-widgets/controls",
            "layout": "IPY_MODEL_806277dcc3324606b688a68cec735246"
          }
        },
        "fddae59a18b64589a50ef3a8a189e7e3": {
          "model_module": "@jupyter-widgets/controls",
          "model_name": "DropdownModel",
          "model_module_version": "1.5.0",
          "state": {
            "_options_labels": [
              "ALL",
              "1998",
              "1999",
              "2000",
              "2001",
              "2002",
              "2003",
              "2004",
              "2005",
              "2006",
              "2007"
            ],
            "_view_name": "DropdownView",
            "style": "IPY_MODEL_c327a59581bd4e7e8f981701c909a4be",
            "_dom_classes": [],
            "description": "Year: ",
            "_model_name": "DropdownModel",
            "index": 0,
            "_view_module": "@jupyter-widgets/controls",
            "_model_module_version": "1.5.0",
            "_view_count": null,
            "disabled": false,
            "_view_module_version": "1.5.0",
            "description_tooltip": null,
            "_model_module": "@jupyter-widgets/controls",
            "layout": "IPY_MODEL_07bf1ac5e0f34d4eb36e210e008e20d7"
          }
        },
        "0f1e68507e9349a5829ee90035d0c2b5": {
          "model_module": "@jupyter-widgets/base",
          "model_name": "LayoutModel",
          "model_module_version": "1.2.0",
          "state": {
            "_view_name": "LayoutView",
            "grid_template_rows": null,
            "right": null,
            "justify_content": null,
            "_view_module": "@jupyter-widgets/base",
            "overflow": null,
            "_model_module_version": "1.2.0",
            "_view_count": null,
            "flex_flow": null,
            "width": null,
            "min_width": null,
            "border": null,
            "align_items": null,
            "bottom": null,
            "_model_module": "@jupyter-widgets/base",
            "top": null,
            "grid_column": null,
            "overflow_y": null,
            "overflow_x": null,
            "grid_auto_flow": null,
            "grid_area": null,
            "grid_template_columns": null,
            "flex": null,
            "_model_name": "LayoutModel",
            "justify_items": null,
            "grid_row": null,
            "max_height": null,
            "align_content": null,
            "visibility": null,
            "align_self": null,
            "height": null,
            "min_height": null,
            "padding": null,
            "grid_auto_rows": null,
            "grid_gap": null,
            "max_width": null,
            "order": null,
            "_view_module_version": "1.2.0",
            "grid_template_areas": null,
            "object_position": null,
            "object_fit": null,
            "grid_auto_columns": null,
            "margin": null,
            "display": null,
            "left": null
          }
        },
        "061428fa872348dd8190be39d89f082c": {
          "model_module": "@jupyter-widgets/output",
          "model_name": "OutputModel",
          "model_module_version": "1.0.0",
          "state": {
            "_view_name": "OutputView",
            "msg_id": "",
            "_dom_classes": [],
            "_model_name": "OutputModel",
            "outputs": [],
            "_view_module": "@jupyter-widgets/output",
            "_model_module_version": "1.0.0",
            "_view_count": null,
            "_view_module_version": "1.0.0",
            "layout": "IPY_MODEL_88abf523e71546c8998b9dbfbdb2aece",
            "_model_module": "@jupyter-widgets/output"
          }
        },
        "203edcf9ead245e9af6ba09f30cabc7b": {
          "model_module": "@jupyter-widgets/output",
          "model_name": "OutputModel",
          "model_module_version": "1.0.0",
          "state": {
            "_view_name": "OutputView",
            "msg_id": "",
            "_dom_classes": [],
            "_model_name": "OutputModel",
            "outputs": [],
            "_view_module": "@jupyter-widgets/output",
            "_model_module_version": "1.0.0",
            "_view_count": null,
            "_view_module_version": "1.0.0",
            "layout": "IPY_MODEL_8ed26d11200d46fa8edbf83c820bd5d1",
            "_model_module": "@jupyter-widgets/output"
          }
        },
        "15a7ea4121c64bbf9f27397ecf681fbb": {
          "model_module": "@jupyter-widgets/controls",
          "model_name": "DescriptionStyleModel",
          "model_module_version": "1.5.0",
          "state": {
            "_view_name": "StyleView",
            "_model_name": "DescriptionStyleModel",
            "description_width": "",
            "_view_module": "@jupyter-widgets/base",
            "_model_module_version": "1.5.0",
            "_view_count": null,
            "_view_module_version": "1.2.0",
            "_model_module": "@jupyter-widgets/controls"
          }
        },
        "806277dcc3324606b688a68cec735246": {
          "model_module": "@jupyter-widgets/base",
          "model_name": "LayoutModel",
          "model_module_version": "1.2.0",
          "state": {
            "_view_name": "LayoutView",
            "grid_template_rows": null,
            "right": null,
            "justify_content": null,
            "_view_module": "@jupyter-widgets/base",
            "overflow": null,
            "_model_module_version": "1.2.0",
            "_view_count": null,
            "flex_flow": null,
            "width": null,
            "min_width": null,
            "border": null,
            "align_items": null,
            "bottom": null,
            "_model_module": "@jupyter-widgets/base",
            "top": null,
            "grid_column": null,
            "overflow_y": null,
            "overflow_x": null,
            "grid_auto_flow": null,
            "grid_area": null,
            "grid_template_columns": null,
            "flex": null,
            "_model_name": "LayoutModel",
            "justify_items": null,
            "grid_row": null,
            "max_height": null,
            "align_content": null,
            "visibility": null,
            "align_self": null,
            "height": null,
            "min_height": null,
            "padding": null,
            "grid_auto_rows": null,
            "grid_gap": null,
            "max_width": null,
            "order": null,
            "_view_module_version": "1.2.0",
            "grid_template_areas": null,
            "object_position": null,
            "object_fit": null,
            "grid_auto_columns": null,
            "margin": null,
            "display": null,
            "left": null
          }
        },
        "c327a59581bd4e7e8f981701c909a4be": {
          "model_module": "@jupyter-widgets/controls",
          "model_name": "DescriptionStyleModel",
          "model_module_version": "1.5.0",
          "state": {
            "_view_name": "StyleView",
            "_model_name": "DescriptionStyleModel",
            "description_width": "",
            "_view_module": "@jupyter-widgets/base",
            "_model_module_version": "1.5.0",
            "_view_count": null,
            "_view_module_version": "1.2.0",
            "_model_module": "@jupyter-widgets/controls"
          }
        },
        "07bf1ac5e0f34d4eb36e210e008e20d7": {
          "model_module": "@jupyter-widgets/base",
          "model_name": "LayoutModel",
          "model_module_version": "1.2.0",
          "state": {
            "_view_name": "LayoutView",
            "grid_template_rows": null,
            "right": null,
            "justify_content": null,
            "_view_module": "@jupyter-widgets/base",
            "overflow": null,
            "_model_module_version": "1.2.0",
            "_view_count": null,
            "flex_flow": null,
            "width": null,
            "min_width": null,
            "border": null,
            "align_items": null,
            "bottom": null,
            "_model_module": "@jupyter-widgets/base",
            "top": null,
            "grid_column": null,
            "overflow_y": null,
            "overflow_x": null,
            "grid_auto_flow": null,
            "grid_area": null,
            "grid_template_columns": null,
            "flex": null,
            "_model_name": "LayoutModel",
            "justify_items": null,
            "grid_row": null,
            "max_height": null,
            "align_content": null,
            "visibility": null,
            "align_self": null,
            "height": null,
            "min_height": null,
            "padding": null,
            "grid_auto_rows": null,
            "grid_gap": null,
            "max_width": null,
            "order": null,
            "_view_module_version": "1.2.0",
            "grid_template_areas": null,
            "object_position": null,
            "object_fit": null,
            "grid_auto_columns": null,
            "margin": null,
            "display": null,
            "left": null
          }
        },
        "88abf523e71546c8998b9dbfbdb2aece": {
          "model_module": "@jupyter-widgets/base",
          "model_name": "LayoutModel",
          "model_module_version": "1.2.0",
          "state": {
            "_view_name": "LayoutView",
            "grid_template_rows": null,
            "right": null,
            "justify_content": null,
            "_view_module": "@jupyter-widgets/base",
            "overflow": null,
            "_model_module_version": "1.2.0",
            "_view_count": null,
            "flex_flow": null,
            "width": null,
            "min_width": null,
            "border": null,
            "align_items": null,
            "bottom": null,
            "_model_module": "@jupyter-widgets/base",
            "top": null,
            "grid_column": null,
            "overflow_y": null,
            "overflow_x": null,
            "grid_auto_flow": null,
            "grid_area": null,
            "grid_template_columns": null,
            "flex": null,
            "_model_name": "LayoutModel",
            "justify_items": null,
            "grid_row": null,
            "max_height": null,
            "align_content": null,
            "visibility": null,
            "align_self": null,
            "height": null,
            "min_height": null,
            "padding": null,
            "grid_auto_rows": null,
            "grid_gap": null,
            "max_width": null,
            "order": null,
            "_view_module_version": "1.2.0",
            "grid_template_areas": null,
            "object_position": null,
            "object_fit": null,
            "grid_auto_columns": null,
            "margin": null,
            "display": null,
            "left": null
          }
        },
        "8ed26d11200d46fa8edbf83c820bd5d1": {
          "model_module": "@jupyter-widgets/base",
          "model_name": "LayoutModel",
          "model_module_version": "1.2.0",
          "state": {
            "_view_name": "LayoutView",
            "grid_template_rows": null,
            "right": null,
            "justify_content": null,
            "_view_module": "@jupyter-widgets/base",
            "overflow": null,
            "_model_module_version": "1.2.0",
            "_view_count": null,
            "flex_flow": null,
            "width": null,
            "min_width": null,
            "border": null,
            "align_items": null,
            "bottom": null,
            "_model_module": "@jupyter-widgets/base",
            "top": null,
            "grid_column": null,
            "overflow_y": null,
            "overflow_x": null,
            "grid_auto_flow": null,
            "grid_area": null,
            "grid_template_columns": null,
            "flex": null,
            "_model_name": "LayoutModel",
            "justify_items": null,
            "grid_row": null,
            "max_height": null,
            "align_content": null,
            "visibility": null,
            "align_self": null,
            "height": null,
            "min_height": null,
            "padding": null,
            "grid_auto_rows": null,
            "grid_gap": null,
            "max_width": null,
            "order": null,
            "_view_module_version": "1.2.0",
            "grid_template_areas": null,
            "object_position": null,
            "object_fit": null,
            "grid_auto_columns": null,
            "margin": null,
            "display": null,
            "left": null
          }
        }
      }
    }
  },
  "cells": [
    {
      "cell_type": "markdown",
      "metadata": {
        "id": "view-in-github",
        "colab_type": "text"
      },
      "source": [
        "<a href=\"https://colab.research.google.com/github/VidushiBhatia/Mining-Opinions-using-Transformers-PyTorch/blob/main/Mining_Opinions_to_Predict_Customer_Trends_using_Transformers_PyTorch.ipynb\" target=\"_parent\"><img src=\"https://colab.research.google.com/assets/colab-badge.svg\" alt=\"Open In Colab\"/></a>"
      ]
    },
    {
      "cell_type": "markdown",
      "metadata": {
        "id": "DxI_zCTVXAmJ"
      },
      "source": [
        "# ***Mining Opinions to Predict Customer Trends*** <br> *(Transfer Learning and Fine Tuning of Transformers in PyTorch)*\n",
        "\n",
        "\n",
        "\n",
        "---\n",
        "\n"
      ]
    },
    {
      "cell_type": "markdown",
      "metadata": {
        "id": "iVcMfKwXTOjg"
      },
      "source": [
        "### Overview\n",
        "\n",
        "* **Objective**: Observe trends in change of opinions / interest of customers for different product types across time. At brand level, can also be used for brand value monitoring and competitor analysis.\n",
        "\n",
        "* **Dataset used**: 'Unprocessed' tar file from [Multi-Domain Sentiment Dataset (version 2.0)](https://www.cs.jhu.edu/~mdredze/datasets/sentiment/)"
      ]
    },
    {
      "cell_type": "markdown",
      "metadata": {
        "id": "MJKmSS6r64ma"
      },
      "source": [
        "### 1 - Packages"
      ]
    },
    {
      "cell_type": "code",
      "metadata": {
        "id": "iqDU7OcbI7RV",
        "colab": {
          "base_uri": "https://localhost:8080/"
        },
        "outputId": "23c7afef-7d2c-4a32-fbd6-41927a5c6488"
      },
      "source": [
        "# # # Install for using ignite\n",
        "!pip install torch==1.8.1 pytorch-transformers pytorch-ignite"
      ],
      "execution_count": 1,
      "outputs": [
        {
          "output_type": "stream",
          "name": "stdout",
          "text": [
            "Collecting torch==1.8.1\n",
            "  Downloading torch-1.8.1-cp37-cp37m-manylinux1_x86_64.whl (804.1 MB)\n",
            "\u001b[K     |████████████████████████████████| 804.1 MB 923 bytes/s \n",
            "\u001b[?25hCollecting pytorch-transformers\n",
            "  Downloading pytorch_transformers-1.2.0-py3-none-any.whl (176 kB)\n",
            "\u001b[K     |████████████████████████████████| 176 kB 54.2 MB/s \n",
            "\u001b[?25hCollecting pytorch-ignite\n",
            "  Downloading pytorch_ignite-0.4.7-py3-none-any.whl (240 kB)\n",
            "\u001b[K     |████████████████████████████████| 240 kB 53.1 MB/s \n",
            "\u001b[?25hRequirement already satisfied: numpy in /usr/local/lib/python3.7/dist-packages (from torch==1.8.1) (1.19.5)\n",
            "Requirement already satisfied: typing-extensions in /usr/local/lib/python3.7/dist-packages (from torch==1.8.1) (3.10.0.2)\n",
            "Requirement already satisfied: regex in /usr/local/lib/python3.7/dist-packages (from pytorch-transformers) (2019.12.20)\n",
            "Requirement already satisfied: tqdm in /usr/local/lib/python3.7/dist-packages (from pytorch-transformers) (4.62.3)\n",
            "Collecting sacremoses\n",
            "  Downloading sacremoses-0.0.46-py3-none-any.whl (895 kB)\n",
            "\u001b[K     |████████████████████████████████| 895 kB 52.5 MB/s \n",
            "\u001b[?25hRequirement already satisfied: requests in /usr/local/lib/python3.7/dist-packages (from pytorch-transformers) (2.23.0)\n",
            "Collecting sentencepiece\n",
            "  Downloading sentencepiece-0.1.96-cp37-cp37m-manylinux_2_17_x86_64.manylinux2014_x86_64.whl (1.2 MB)\n",
            "\u001b[K     |████████████████████████████████| 1.2 MB 56.8 MB/s \n",
            "\u001b[?25hCollecting boto3\n",
            "  Downloading boto3-1.20.6-py3-none-any.whl (131 kB)\n",
            "\u001b[K     |████████████████████████████████| 131 kB 60.1 MB/s \n",
            "\u001b[?25hCollecting s3transfer<0.6.0,>=0.5.0\n",
            "  Downloading s3transfer-0.5.0-py3-none-any.whl (79 kB)\n",
            "\u001b[K     |████████████████████████████████| 79 kB 6.6 MB/s \n",
            "\u001b[?25hCollecting jmespath<1.0.0,>=0.7.1\n",
            "  Downloading jmespath-0.10.0-py2.py3-none-any.whl (24 kB)\n",
            "Collecting botocore<1.24.0,>=1.23.6\n",
            "  Downloading botocore-1.23.6-py3-none-any.whl (8.1 MB)\n",
            "\u001b[K     |████████████████████████████████| 8.1 MB 14.1 MB/s \n",
            "\u001b[?25hRequirement already satisfied: python-dateutil<3.0.0,>=2.1 in /usr/local/lib/python3.7/dist-packages (from botocore<1.24.0,>=1.23.6->boto3->pytorch-transformers) (2.8.2)\n",
            "Collecting urllib3<1.27,>=1.25.4\n",
            "  Downloading urllib3-1.26.7-py2.py3-none-any.whl (138 kB)\n",
            "\u001b[K     |████████████████████████████████| 138 kB 56.7 MB/s \n",
            "\u001b[?25hRequirement already satisfied: six>=1.5 in /usr/local/lib/python3.7/dist-packages (from python-dateutil<3.0.0,>=2.1->botocore<1.24.0,>=1.23.6->boto3->pytorch-transformers) (1.15.0)\n",
            "Requirement already satisfied: idna<3,>=2.5 in /usr/local/lib/python3.7/dist-packages (from requests->pytorch-transformers) (2.10)\n",
            "Requirement already satisfied: certifi>=2017.4.17 in /usr/local/lib/python3.7/dist-packages (from requests->pytorch-transformers) (2021.10.8)\n",
            "Requirement already satisfied: chardet<4,>=3.0.2 in /usr/local/lib/python3.7/dist-packages (from requests->pytorch-transformers) (3.0.4)\n",
            "  Downloading urllib3-1.25.11-py2.py3-none-any.whl (127 kB)\n",
            "\u001b[K     |████████████████████████████████| 127 kB 61.9 MB/s \n",
            "\u001b[?25hRequirement already satisfied: joblib in /usr/local/lib/python3.7/dist-packages (from sacremoses->pytorch-transformers) (1.1.0)\n",
            "Requirement already satisfied: click in /usr/local/lib/python3.7/dist-packages (from sacremoses->pytorch-transformers) (7.1.2)\n",
            "Installing collected packages: urllib3, jmespath, botocore, s3transfer, torch, sentencepiece, sacremoses, boto3, pytorch-transformers, pytorch-ignite\n",
            "  Attempting uninstall: urllib3\n",
            "    Found existing installation: urllib3 1.24.3\n",
            "    Uninstalling urllib3-1.24.3:\n",
            "      Successfully uninstalled urllib3-1.24.3\n",
            "  Attempting uninstall: torch\n",
            "    Found existing installation: torch 1.10.0+cu111\n",
            "    Uninstalling torch-1.10.0+cu111:\n",
            "      Successfully uninstalled torch-1.10.0+cu111\n",
            "\u001b[31mERROR: pip's dependency resolver does not currently take into account all the packages that are installed. This behaviour is the source of the following dependency conflicts.\n",
            "torchvision 0.11.1+cu111 requires torch==1.10.0, but you have torch 1.8.1 which is incompatible.\n",
            "torchtext 0.11.0 requires torch==1.10.0, but you have torch 1.8.1 which is incompatible.\n",
            "datascience 0.10.6 requires folium==0.2.1, but you have folium 0.8.3 which is incompatible.\u001b[0m\n",
            "Successfully installed boto3-1.20.6 botocore-1.23.6 jmespath-0.10.0 pytorch-ignite-0.4.7 pytorch-transformers-1.2.0 s3transfer-0.5.0 sacremoses-0.0.46 sentencepiece-0.1.96 torch-1.8.1 urllib3-1.25.11\n"
          ]
        }
      ]
    },
    {
      "cell_type": "code",
      "metadata": {
        "id": "hEd1F-E26-Me"
      },
      "source": [
        "import os                                       \n",
        "import tarfile                                  \n",
        "from bs4 import BeautifulSoup                   \n",
        "import pandas as pd                             \n",
        "import regex as re                              \n",
        "import string                                   \n",
        "import numpy as np  \n",
        "from collections import namedtuple\n",
        "from typing import Tuple\n",
        "\n",
        "\n",
        "# Relevant torch packages for transfer learning and fine tuning \n",
        "import torch\n",
        "from torch.utils.data import TensorDataset, random_split, DataLoader\n",
        "from pytorch_transformers import BertTokenizer\n",
        "from pytorch_transformers.optimization import AdamW\n",
        "import torch.nn as nn\n",
        "import torch.nn.functional as F\n",
        "from ignite.engine import Engine, Events\n",
        "from ignite.metrics import RunningAverage, Accuracy \n",
        "from ignite.handlers import ModelCheckpoint\n",
        "from ignite.contrib.handlers import CosineAnnealingScheduler, PiecewiseLinear, create_lr_scheduler_with_warmup, ProgressBar\n",
        "from pytorch_transformers import cached_path\n",
        "\n",
        "# Other packages for parallel processing\n",
        "from concurrent.futures import ProcessPoolExecutor\n",
        "from multiprocessing import cpu_count\n",
        "\n",
        "from tqdm.notebook import tqdm\n",
        "from itertools import repeat                    \n",
        "\n",
        "# interactive dashboard\n",
        "import ipywidgets\n",
        "from IPython.display import display, clear_output\n",
        "from ipywidgets import Layout\n",
        "import matplotlib.pyplot as plt\n",
        "import matplotlib.ticker as ticker"
      ],
      "execution_count": 2,
      "outputs": []
    },
    {
      "cell_type": "code",
      "metadata": {
        "colab": {
          "base_uri": "https://localhost:8080/"
        },
        "id": "d23cjNrDIrJi",
        "outputId": "b6678dd9-6b51-4d72-ab25-fd33b2f266e8"
      },
      "source": [
        "# Check if GPU is running\n",
        "!nvidia-smi"
      ],
      "execution_count": 3,
      "outputs": [
        {
          "output_type": "stream",
          "name": "stdout",
          "text": [
            "Tue Nov 16 03:11:49 2021       \n",
            "+-----------------------------------------------------------------------------+\n",
            "| NVIDIA-SMI 495.44       Driver Version: 460.32.03    CUDA Version: 11.2     |\n",
            "|-------------------------------+----------------------+----------------------+\n",
            "| GPU  Name        Persistence-M| Bus-Id        Disp.A | Volatile Uncorr. ECC |\n",
            "| Fan  Temp  Perf  Pwr:Usage/Cap|         Memory-Usage | GPU-Util  Compute M. |\n",
            "|                               |                      |               MIG M. |\n",
            "|===============================+======================+======================|\n",
            "|   0  Tesla P100-PCIE...  Off  | 00000000:00:04.0 Off |                    0 |\n",
            "| N/A   43C    P0    27W / 250W |      0MiB / 16280MiB |      0%      Default |\n",
            "|                               |                      |                  N/A |\n",
            "+-------------------------------+----------------------+----------------------+\n",
            "                                                                               \n",
            "+-----------------------------------------------------------------------------+\n",
            "| Processes:                                                                  |\n",
            "|  GPU   GI   CI        PID   Type   Process name                  GPU Memory |\n",
            "|        ID   ID                                                   Usage      |\n",
            "|=============================================================================|\n",
            "|  No running processes found                                                 |\n",
            "+-----------------------------------------------------------------------------+\n"
          ]
        }
      ]
    },
    {
      "cell_type": "markdown",
      "metadata": {
        "id": "Py64E4jm7tnI"
      },
      "source": [
        "### 2 - Load XML to a Dataframe\n",
        "\n",
        "The dataset used for this notebook has multiple positive and negative review files compressed into a tar format. To get a dataframe with x and y values (text and sentiment labels respectively), we need to execute the following:\n",
        "1. Extract relevant files from tar\n",
        "2. Covert XML tree into a dataframe for relevant elements\n",
        "3. Create a train and test set with processed x and y values\n"
      ]
    },
    {
      "cell_type": "code",
      "metadata": {
        "colab": {
          "base_uri": "https://localhost:8080/"
        },
        "id": "j0xk-ASM8jMj",
        "outputId": "15854af3-24ea-45f2-a6e7-f0c6f28962ee"
      },
      "source": [
        "from google.colab import drive\n",
        "drive.mount('/content/drive')"
      ],
      "execution_count": 4,
      "outputs": [
        {
          "output_type": "stream",
          "name": "stdout",
          "text": [
            "Mounted at /content/drive\n"
          ]
        }
      ]
    },
    {
      "cell_type": "code",
      "metadata": {
        "id": "-BZxLgVDUX6b"
      },
      "source": [
        "# Helper Function 1: Extract XML data from tar files\n",
        "def ExtractContent(path):\n",
        "  tar = tarfile.open(path,'r' )\n",
        "  \n",
        "  # Find relevant file names\n",
        "  files = [name for name in tar.getnames()]\n",
        "  pos_files = []\n",
        "  neg_files = []\n",
        "  for file in files:\n",
        "    if file.endswith('positive.review'): \n",
        "      pos_files.append(file)\n",
        "    if file.endswith('negative.review'):\n",
        "      neg_files.append(file)\n",
        "\n",
        "  # Extract Positive and Negative reviews\n",
        "  pos_content = []\n",
        "  for file in pos_files:\n",
        "    extracted_file = tar.extractfile(file)\n",
        "    content = extracted_file.read()\n",
        "    pos_content.append(content)\n",
        "\n",
        "  neg_content = []\n",
        "  for file in neg_files:\n",
        "    extracted_file = tar.extractfile(file)\n",
        "    content = extracted_file.read()\n",
        "    neg_content.append(content)\n",
        "  return pos_content, neg_content"
      ],
      "execution_count": 5,
      "outputs": []
    },
    {
      "cell_type": "code",
      "metadata": {
        "id": "GQLfztLSmrR0"
      },
      "source": [
        "# Helper Function 2: Create a dataframe from XML file\n",
        "def CreateDF(content_list):\n",
        "  # Check the exhaustive list of elements with soup.find_all() and create a dataframe with only relevant columns\n",
        "  # columns = ['unique_id','asin','product_name','product_type','helpful','rating','title','date','reviewer','reviewer_location','review_text']\n",
        "\n",
        "  columns = ['product_type','rating','date','title','review_text']     # only processing relevant columns\n",
        "  interim_df = []\n",
        "  for idx, item in enumerate(content_list):      # iterate over positive and negative file-list\n",
        "    for content in item:                         # iterate over all extracted files\n",
        "      bs_content = BeautifulSoup(content, 'lxml')\n",
        "      table_rows = bs_content.find_all(\"review\") # create rows from the root element\n",
        "      df = pd.DataFrame()\n",
        "      for c in columns:                          # add corresponding columns to the created dataframe\n",
        "        values = bs_content.find_all(c)\n",
        "        if len(values)!=len(table_rows):         # in case the size of each element is not equal\n",
        "          col = []\n",
        "          for t in table_rows:\n",
        "            row_val = t.find_all(c)\n",
        "            row = [t.text.strip() for t in row_val]\n",
        "            col.append(row[0])\n",
        "        else:\n",
        "          col = [t.text.strip() for t in values]\n",
        "        df[c] = col\n",
        "      interim_df.append(df)\n",
        "  output = pd.concat(interim_df)                # create a master df with all positive, negative reviews\n",
        "  return output"
      ],
      "execution_count": 6,
      "outputs": []
    },
    {
      "cell_type": "code",
      "metadata": {
        "id": "XjX9JhBGmFjc"
      },
      "source": [
        "# LOAD DATA USING HELPER FUNCTIONS\n",
        "\n",
        "# STEP 1 - Extract relevant content from tar file\n",
        "path = '/content/drive/My Drive/NLP - Sentiment Analysis & Keyword Extraction/unprocessed.tar.gz'\n",
        "pos_content, neg_content = ExtractContent(path)\n",
        "\n",
        "# STEP 2 - Convert relevant elements of XML to dataframe \n",
        "content_list = [pos_content, neg_content]\n",
        "master_df = CreateDF(content_list)\n",
        "\n",
        "# STEP 3 - Some formatting\n",
        "master_df['label'] = (pd.to_numeric(master_df['rating'])>3)*1  # ratings >3 are labeled as positive sentiment\n",
        "master_df['text'] =  master_df['title'].str.cat(master_df['review_text'], sep=' ', na_rep='?') \n",
        "master_df['text'] = master_df['text'].replace(r\" +\",\" \",regex = True) # remove whitespaces"
      ],
      "execution_count": 7,
      "outputs": []
    },
    {
      "cell_type": "code",
      "metadata": {
        "id": "rVJbCcHmesX8",
        "colab": {
          "base_uri": "https://localhost:8080/"
        },
        "outputId": "c69a6e21-8ad1-43fa-b78d-137e4c813c03"
      },
      "source": [
        "# Create train and test datasets\n",
        "\n",
        "temp_mask1 = np.random.rand(len(master_df)) < 0.9  # 10% sample to be used in the interative dashboard \n",
        "temp_set1 = master_df[temp_mask1]\n",
        "sample = master_df[~temp_mask1].reset_index()\n",
        "\n",
        "temp_mask2 = np.random.rand(len(temp_set1)) < 0.7  # 70% data is train set\n",
        "train_set  = temp_set1[temp_mask2].reset_index()\n",
        "test_set  = temp_set1[~temp_mask2].reset_index()\n",
        "train_set = train_set.drop(['rating','title','review_text','product_type','date'], axis='columns') # retain only processed columns\n",
        "test_set = test_set.drop(['rating','title','review_text','product_type','date'], axis='columns')\n",
        " \n",
        "print(\"len of master df: \", len(master_df), \"\\nlen of train set: \",len(train_set), \"\\nlen of test set: \",len(test_set), \"\\nlen of sample: \",len(sample))\n",
        "\n",
        "print(\"sum: \", len(train_set)+len(test_set)+len(sample))"
      ],
      "execution_count": 8,
      "outputs": [
        {
          "output_type": "stream",
          "name": "stdout",
          "text": [
            "len of master df:  38548 \n",
            "len of train set:  24246 \n",
            "len of test set:  10451 \n",
            "len of sample:  3851\n",
            "sum:  38548\n"
          ]
        }
      ]
    },
    {
      "cell_type": "markdown",
      "metadata": {
        "id": "zchVIJkXTC9E"
      },
      "source": [
        "### 3 - Tokenize Representations\n",
        "\n",
        "The neural network model would require word representations to read the text. To execute this, we will define a text processing module which will take \"text\" as input and return \"sequences of integers\".\n",
        "\n",
        "To convert text to this \"id\", there are multiple vocabularies available. In this notebook, we'll use `pytorch-transformers’s BertTokenizer` for tokenization."
      ]
    },
    {
      "cell_type": "code",
      "metadata": {
        "id": "yPM-90hiyX2X",
        "colab": {
          "base_uri": "https://localhost:8080/"
        },
        "outputId": "e6fe5826-0031-4174-d51d-9c95314cbb92"
      },
      "source": [
        "# import the 'bert-base-cased' tokenizer from PyTorch\n",
        "from pytorch_transformers import BertTokenizer\n",
        "tokenizer = BertTokenizer.from_pretrained('bert-base-cased', do_lower_case=False)\n",
        "\n",
        "\n",
        "# Initialize key metrics for tokenizer\n",
        "num_max_positions = 256                 # set max positions allowed in tokenizer\n",
        "CLS = '[CLS]'                           # Special token for sentence classification\n",
        "PAD = '[PAD]'                           # Special token for padding\n",
        "\n",
        "\n",
        "# set the configurations for fine tuning pre-trained model to the considered dataset (incl. data loaders, parallel processing, etc.)\n",
        "finetuning_config = {'num_classes': 2,  # number of unique labels\n",
        "                    'dropout': 0.1,    # dropout rate\n",
        "                    'init_range': 0.02, # WHAT? WHY?\n",
        "                    'batch_size': 32, # WHAT? WHY?\n",
        "                    'lr': 6.5e-5, # learning rate for Adam Optimizer\n",
        "                    'max_norm': 1.0, # WHAT? WHY?\n",
        "                    'n_epochs': 2, # WHAT? WHY?\n",
        "                    'n_warmup': 10, # WHAT? WHY?\n",
        "                    'valid_pct': 0.1, # VALIDATION SET %\n",
        "                    'gradient_acc_steps': 1, # WHAT? WHY?\n",
        "                    'device': \"cuda\" if torch.cuda.is_available() else \"cpu\", # WHAT? WHY?\n",
        "                    'log_dir': \"/content/drive/My Drive/NLP - Sentiment Analysis & Keyword Extraction/logs/\" # WHAT? WHY?\n",
        "                    }"
      ],
      "execution_count": 9,
      "outputs": [
        {
          "output_type": "stream",
          "name": "stderr",
          "text": [
            "100%|██████████| 213450/213450 [00:00<00:00, 3611665.90B/s]\n"
          ]
        }
      ]
    },
    {
      "cell_type": "code",
      "metadata": {
        "id": "a4hjR_WjhWzo"
      },
      "source": [
        "# Helper Function 3: Tokenize 1 row of data\n",
        "\n",
        "def process_example(row):          # function to convert text strings into tokens of equal length\n",
        "  text = row[1]['text']\n",
        "  label = row[1]['label']\n",
        "  tokens = tokenizer.tokenize(text)\n",
        "  \n",
        "  if len(tokens) >= num_max_positions:                 # shorten the token length if it is longer than max_positions\n",
        "      tokens = tokens[:num_max_positions-1] \n",
        "      ids =  tokenizer.convert_tokens_to_ids(tokens) + [tokenizer.vocab[CLS]]\n",
        "\n",
        "  else:                                                 # pad to ensure that all token arrays are of same length\n",
        "      pad = [tokenizer.vocab[PAD]] * (num_max_positions-len(tokens)-1)\n",
        "      ids = tokenizer.convert_tokens_to_ids(tokens) + [tokenizer.vocab[CLS]] + pad\n",
        "  \n",
        "  return np.array(ids, dtype='int64'), int(label)"
      ],
      "execution_count": 10,
      "outputs": []
    },
    {
      "cell_type": "markdown",
      "metadata": {
        "id": "E1gFSLa-vZDY"
      },
      "source": [
        "### 4 - Convert Dataset to DataLoader"
      ]
    },
    {
      "cell_type": "code",
      "metadata": {
        "id": "-3_TS4YiV5Gf"
      },
      "source": [
        "# Helper Function 4: Function to convert dataframe into DataLoader after processing with the BERT tokenizer\n",
        "\n",
        "def create_dataloader(df , batch_size , valid_pct):\n",
        "    \n",
        "    # to enable multiprocessing\n",
        "    with ProcessPoolExecutor(max_workers=num_cores) as executor: # WHAT? WHY?\n",
        "        result = list(executor.map(process_example,\n",
        "                              df.iterrows(),\n",
        "                              chunksize=len(df) // 10))\n",
        "        \n",
        "\n",
        "    features = [r[0] for r in result]\n",
        "    labels = [r[1] for r in result]\n",
        "\n",
        "    # Compile features and labels to form the dataset # WHAT? WHY?\n",
        "    dataset = TensorDataset(torch.tensor(features, dtype=torch.long),\n",
        "                            torch.tensor(labels, dtype=torch.long))\n",
        "\n",
        "    # define train set and valid set based on defined valid percentage in fine tuning configuration\n",
        "    if valid_pct is not None:\n",
        "        valid_size = int(valid_pct * len(df))\n",
        "        train_size = len(df) - valid_size\n",
        "        valid_dataset, train_dataset = random_split(dataset, [valid_size, train_size])\n",
        "        valid_loader = DataLoader(valid_dataset,\n",
        "                                  batch_size=batch_size,\n",
        "                                  shuffle=False)\n",
        "        train_loader = DataLoader(train_dataset,\n",
        "                                  batch_size=batch_size,\n",
        "                                  shuffle=False)\n",
        "        return train_loader, valid_loader\n",
        "\n",
        "    data_loader = DataLoader(dataset,\n",
        "                             batch_size=batch_size,\n",
        "                             shuffle=False)\n",
        "    return data_loader"
      ],
      "execution_count": 11,
      "outputs": []
    },
    {
      "cell_type": "code",
      "metadata": {
        "id": "wHCNMoL4Y4oM"
      },
      "source": [
        "# create train and valid sets by splitting\n",
        "num_cores = cpu_count()  # for parallel processing\n",
        "train_dl, valid_dl = create_dataloader(train_set, \n",
        "                                    batch_size=finetuning_config['batch_size'], \n",
        "                                    valid_pct=finetuning_config['valid_pct'])\n",
        "\n",
        "test_dl = create_dataloader(test_set, \n",
        "                             batch_size=finetuning_config['batch_size'], \n",
        "                             valid_pct=None)"
      ],
      "execution_count": 12,
      "outputs": []
    },
    {
      "cell_type": "markdown",
      "metadata": {
        "id": "nbL1SLp0wbdT"
      },
      "source": [
        "### 5 - Transfer Learning"
      ]
    },
    {
      "cell_type": "code",
      "metadata": {
        "id": "qcHKpuBNyipi"
      },
      "source": [
        "# Adopted from HuggingFace's Transfer Learning tutorial\n",
        "class Transformer(nn.Module):\n",
        "    def __init__(self, embed_dim, hidden_dim, num_embeddings, num_max_positions, num_heads, num_layers, dropout, causal):\n",
        "        super().__init__()\n",
        "        self.causal = causal\n",
        "        self.tokens_embeddings = nn.Embedding(num_embeddings, embed_dim)\n",
        "        self.position_embeddings = nn.Embedding(num_max_positions, embed_dim)\n",
        "        self.dropout = nn.Dropout(dropout)\n",
        "        self.attentions, self.feed_forwards = nn.ModuleList(), nn.ModuleList()\n",
        "        self.layer_norms_1, self.layer_norms_2 = nn.ModuleList(), nn.ModuleList()\n",
        "        for _ in range(num_layers):\n",
        "            self.attentions.append(nn.MultiheadAttention(embed_dim, num_heads, dropout=dropout))\n",
        "            self.feed_forwards.append(nn.Sequential(nn.Linear(embed_dim, hidden_dim),\n",
        "                                                    nn.ReLU(),\n",
        "                                                    nn.Linear(hidden_dim, embed_dim)))\n",
        "            self.layer_norms_1.append(nn.LayerNorm(embed_dim, eps=1e-12))\n",
        "            self.layer_norms_2.append(nn.LayerNorm(embed_dim, eps=1e-12))\n",
        "\n",
        "    def forward(self, x, padding_mask=None):\n",
        "        positions = torch.arange(len(x), device=x.device).unsqueeze(-1)\n",
        "        h = self.tokens_embeddings(x)\n",
        "        h = h + self.position_embeddings(positions).expand_as(h)\n",
        "        h = self.dropout(h)\n",
        "\n",
        "        attn_mask = None\n",
        "        if self.causal:\n",
        "            attn_mask = torch.full((len(x), len(x)), -float('Inf'), device=h.device, dtype=h.dtype)\n",
        "            attn_mask = torch.triu(attn_mask, diagonal=1)\n",
        "\n",
        "        for layer_norm_1, attention, layer_norm_2, feed_forward in zip(self.layer_norms_1, self.attentions,\n",
        "                                                                       self.layer_norms_2, self.feed_forwards):\n",
        "            h = layer_norm_1(h)\n",
        "            x, _ = attention(h, h, h, attn_mask=attn_mask, need_weights=False, key_padding_mask=padding_mask)\n",
        "            x = self.dropout(x)\n",
        "            h = x + h\n",
        "\n",
        "            h = layer_norm_2(h)\n",
        "            x = feed_forward(h)\n",
        "            x = self.dropout(x)\n",
        "            h = x + h\n",
        "        return h"
      ],
      "execution_count": 13,
      "outputs": []
    },
    {
      "cell_type": "code",
      "metadata": {
        "id": "xbsmDpSuXJbG"
      },
      "source": [
        "# Adopted from HuggingFace's Transfer Learning tutorial\n",
        "class TransformerWithClfHead(nn.Module):\n",
        "    def __init__(self, config, finetuning_config):\n",
        "        super().__init__()\n",
        "        self.config = finetuning_config\n",
        "        self.transformer = Transformer(config.embed_dim, config.hidden_dim, config.num_embeddings,\n",
        "                                       config.num_max_positions, config.num_heads, config.num_layers,\n",
        "                                      finetuning_config['dropout'], causal=not config.mlm)\n",
        "        self.classification_head = nn.Linear(config.embed_dim, finetuning_config['num_classes'])\n",
        "        self.apply(self.init_weights)\n",
        "\n",
        "    def init_weights(self, module):\n",
        "        if isinstance(module, (nn.Linear, nn.Embedding, nn.LayerNorm)):\n",
        "            module.weight.data.normal_(mean=0.0, std=self.config['init_range'])\n",
        "        if isinstance(module, (nn.Linear, nn.LayerNorm)) and module.bias is not None:\n",
        "            module.bias.data.zero_()\n",
        "\n",
        "    def forward(self, x, clf_tokens_mask, clf_labels=None, padding_mask=None):\n",
        "        hidden_states = self.transformer(x, padding_mask)\n",
        "\n",
        "        clf_tokens_states = (hidden_states * clf_tokens_mask.unsqueeze(-1).float()).sum(dim=0)\n",
        "        clf_logits = self.classification_head(clf_tokens_states)\n",
        "\n",
        "        if clf_labels is not None:\n",
        "            loss_fct = nn.CrossEntropyLoss(ignore_index=-1)\n",
        "            loss = loss_fct(clf_logits.view(-1, clf_logits.size(-1)), clf_labels.view(-1))\n",
        "            return clf_logits, loss\n",
        "        return clf_logits"
      ],
      "execution_count": 14,
      "outputs": []
    },
    {
      "cell_type": "code",
      "metadata": {
        "id": "KOsBaiiny8o0",
        "colab": {
          "base_uri": "https://localhost:8080/"
        },
        "outputId": "87c95cfb-b616-4775-c6bf-64ca376a2ec3"
      },
      "source": [
        "# download pre-trained model and config\n",
        "state_dict = torch.load(cached_path(\"https://s3.amazonaws.com/models.huggingface.co/\"\n",
        "                                    \"naacl-2019-tutorial/model_checkpoint.pth\"), map_location='cpu')\n",
        "\n",
        "config = torch.load(cached_path(\"https://s3.amazonaws.com/models.huggingface.co/\"\n",
        "                                        \"naacl-2019-tutorial/model_training_args.bin\"))\n",
        "\n",
        "# init model: Transformer base + classifier head\n",
        "model = TransformerWithClfHead(config=config, finetuning_config=finetuning_config).to(finetuning_config['device'])\n",
        "\n",
        "incompatible_keys = model.load_state_dict(state_dict, strict=False)"
      ],
      "execution_count": 15,
      "outputs": [
        {
          "output_type": "stream",
          "name": "stderr",
          "text": [
            "100%|██████████| 201626725/201626725 [00:04<00:00, 41176189.18B/s]\n",
            "100%|██████████| 837/837 [00:00<00:00, 599288.57B/s]\n"
          ]
        }
      ]
    },
    {
      "cell_type": "markdown",
      "metadata": {
        "id": "MT-gcirBv65r"
      },
      "source": [
        "### 6 - Model Fine Tuning\n",
        "\n"
      ]
    },
    {
      "cell_type": "code",
      "metadata": {
        "id": "7jmOPlpmi5OX"
      },
      "source": [
        "def update(engine, batch):\n",
        "    \"update function for training\"\n",
        "    model.train()\n",
        "    inputs, labels = (t.to(finetuning_config['device']) for t in batch)\n",
        "    inputs = inputs.transpose(0, 1).contiguous() # [S, B]\n",
        "    _, loss = model(inputs, \n",
        "                    clf_tokens_mask = (inputs == tokenizer.vocab[CLS]), \n",
        "                    clf_labels=labels)\n",
        "    loss = loss / finetuning_config['gradient_acc_steps']\n",
        "    loss.backward()\n",
        "    \n",
        "    torch.nn.utils.clip_grad_norm_(model.parameters(), finetuning_config['max_norm'])\n",
        "    if engine.state.iteration % finetuning_config['gradient_acc_steps'] == 0:\n",
        "        optimizer.step()\n",
        "        optimizer.zero_grad()\n",
        "    return loss.item()"
      ],
      "execution_count": 16,
      "outputs": []
    },
    {
      "cell_type": "code",
      "metadata": {
        "id": "_k0_5VkLi63d"
      },
      "source": [
        "def inference(engine, batch):\n",
        "    \"update function for evaluation\"\n",
        "    model.eval()\n",
        "    with torch.no_grad():\n",
        "        batch, labels = (t.to(finetuning_config['device']) for t in batch)\n",
        "        inputs = batch.transpose(0, 1).contiguous()\n",
        "        logits = model(inputs,\n",
        "                       clf_tokens_mask = (inputs == tokenizer.vocab[CLS]),\n",
        "                       padding_mask = (batch == tokenizer.vocab[PAD]))\n",
        "    return logits, labels"
      ],
      "execution_count": 17,
      "outputs": []
    },
    {
      "cell_type": "code",
      "metadata": {
        "id": "oIVXGHc2i_1x"
      },
      "source": [
        "def predict(model, tokenizer, int2label, input=\"test\"):\n",
        "    \"predict sentiment using model\"\n",
        "    # print(input)\n",
        "    tok = tokenizer.tokenize(input)\n",
        "    if len(tok) >= num_max_positions:                 # shorten the token length is it is longer than max_positions\n",
        "      tok = tok[:num_max_positions-1]         \n",
        "    ids = tokenizer.convert_tokens_to_ids(tok) + [tokenizer.vocab['[CLS]']]\n",
        "    tensor = torch.tensor(ids, dtype=torch.long)\n",
        "    tensor = tensor.to(finetuning_config['device'])\n",
        "    tensor = tensor.reshape(1, -1)\n",
        "    tensor_in = tensor.transpose(0, 1).contiguous() # [S, 1]\n",
        "    logits = model(tensor_in,\n",
        "                   clf_tokens_mask = (tensor_in == tokenizer.vocab['[CLS]']),\n",
        "                   padding_mask = (tensor == tokenizer.vocab['[PAD]']))\n",
        "    val, _ = torch.max(logits, 0)\n",
        "    val = F.softmax(val, dim=0).detach().cpu().numpy()    \n",
        "    return {int2label[val.argmax()]: val.max(),\n",
        "            int2label[val.argmin()]: val.min()}"
      ],
      "execution_count": 18,
      "outputs": []
    },
    {
      "cell_type": "code",
      "metadata": {
        "id": "iElb48MOHWlh",
        "colab": {
          "base_uri": "https://localhost:8080/"
        },
        "outputId": "12576c89-f617-4d41-ea7f-612beac8bf8c"
      },
      "source": [
        "optimizer = AdamW(model.parameters(), lr=finetuning_config['lr'], correct_bias=False) \n",
        "\n",
        "trainer = Engine(update)\n",
        "evaluator = Engine(inference)\n",
        "\n",
        "# add metric to evaluator \n",
        "Accuracy().attach(evaluator, \"accuracy\")\n",
        "\n",
        "# add evaluator to trainer: eval on valid set after each epoch\n",
        "@trainer.on(Events.EPOCH_COMPLETED)\n",
        "def log_validation_results(engine):\n",
        "    evaluator.run(valid_dl)\n",
        "    print(f\"validation epoch: {engine.state.epoch} acc: {100*evaluator.state.metrics['accuracy']}\")\n",
        "          \n",
        "# lr schedule: linearly warm-up to lr and then to zero\n",
        "scheduler = PiecewiseLinear(optimizer, 'lr', [(0, 0.0), (finetuning_config['n_warmup'], finetuning_config['lr']),\n",
        "                                              (len(train_dl)*finetuning_config['n_epochs'], 0.0)])\n",
        "trainer.add_event_handler(Events.ITERATION_STARTED, scheduler)\n",
        "\n",
        "\n",
        "# add progressbar with loss\n",
        "RunningAverage(output_transform=lambda x: x).attach(trainer, \"loss\")\n",
        "ProgressBar(persist=True).attach(trainer, metric_names=['loss'])\n",
        "\n",
        "# save checkpoints and finetuning config\n",
        "checkpoint_handler = ModelCheckpoint(finetuning_config['log_dir'], 'finetuning_checkpoint', \n",
        "                                     save_interval=1, require_empty=False)\n",
        "trainer.add_event_handler(Events.EPOCH_COMPLETED, checkpoint_handler, {'imdb_model': model})\n",
        "\n",
        "int2label = {0: 'negative', 1: 'positive'}\n",
        "\n",
        "# save metadata\n",
        "torch.save({\n",
        "    \"config\": config,\n",
        "    \"config_ft\": finetuning_config,\n",
        "    \"int2label\": int2label\n",
        "}, os.path.join(finetuning_config['log_dir'], \"metadata.bin\"))"
      ],
      "execution_count": 19,
      "outputs": [
        {
          "output_type": "stream",
          "name": "stderr",
          "text": [
            "/usr/local/lib/python3.7/dist-packages/ignite/handlers/checkpoint.py:840: UserWarning: Argument save_interval is deprecated and should be None. This argument will be removed in 0.5.0.Please, use events filtering instead, e.g. Events.ITERATION_STARTED(every=1000)\n",
            "  warnings.warn(msg)\n"
          ]
        }
      ]
    },
    {
      "cell_type": "code",
      "metadata": {
        "colab": {
          "base_uri": "https://localhost:8080/",
          "height": 330,
          "referenced_widgets": [
            "a4407bb25c5d41dd9af47ad80e94fffd",
            "abcf532315854f8c91fb11acfa8a8e2d",
            "8b7a3db9e3e54037ac4309173f391bd4",
            "d08335b948c545cb8210e735e6321564",
            "8f12a61773fe4bfe8386eabf3d2887d7",
            "d4d9a8c3846c4873b72e87250a0cad46",
            "de544808ccf54146840feaa39e4fdd3f",
            "29176feb2d894c98809b29bd10ef7e31",
            "c1ad130045084c688bc7756c6f40fbb8",
            "d6466c96bc9740cd999ff776ae43bffc",
            "48d43eab518f4dcaa104447fddca4f5b",
            "23d2bfa4042d4c2991ec0027211c4e21",
            "d7a4abee8de043ec918b41cfdcd4acdc",
            "bae6b3455ad744249ba4907d9c6da551",
            "45d5f50ae2f04e0885bc4457fe06610e",
            "b8f61089781b409fa7551eea03cdb203",
            "9292169d3c93451a9bddd8bbb48e2066",
            "2724a20a511e4565aab74cb391106fc4",
            "f270812626f04d1b9e57a0040145a712",
            "065e923c8c084294b8253063fd243ce8",
            "f653e34b669842bc979ce156301f3047",
            "35e4fcd555144ad8ba244d2acf1b9926",
            "ab4ea2a6a8fd4d1aaab8272ea54527e8",
            "fe4a05bbe4434b5bb1efc69ad2fde949",
            "f3836ad9303d451cbda68f08f3c17269",
            "23fa75581cd049bc9587ea18f8397fd8",
            "105400f2c89044039186be4522a54efc",
            "be756b213669478f97420fb2e5b21636",
            "cf9c868d02a343b5b3abf693b4d7c429",
            "a2c716057f2e41e5b766b2b69e9c8412",
            "ebb17aed6b694cb493c6e63b3b300b13",
            "23c48896cc47411c901aeb97c2914949",
            "5525abb5ec614bde87daabd3a0ab3e19",
            "4f08449350c8437faa9cb2973cc88b7f",
            "b0b71223becc49c89913962bd5c6aa44",
            "37f42ad93e954faf90fa627a1bc025c2",
            "803ec2f6820f4680880893aabd44f641",
            "4b3fa9bfd8494859b8b22d70aa4e98c0",
            "a410c0097dc34d8e9e72a8e10a621778",
            "511f76eb387f42faa27b10cc343b0430",
            "16bfaeb6fe2145f1968f67cfe4dac253",
            "e10df1e27fb94cadb119b27383c0e0aa",
            "649664b2b4934f16993fa89eccb6f2b7",
            "0b86acfdf9694c46bedfe24e5193e88b",
            "afd173d8204c4502b248304877fc6299"
          ]
        },
        "id": "6ne1Vc5MJ9Jk",
        "outputId": "25e31b67-29d2-4396-f8cd-6fc07d20405e"
      },
      "source": [
        "trainer.run(train_dl, max_epochs=5)\n",
        "\n",
        "# save model weights\n",
        "torch.save(model.state_dict(), os.path.join(finetuning_config['log_dir'], \"model_weights.pth\"))"
      ],
      "execution_count": 20,
      "outputs": [
        {
          "metadata": {
            "tags": null
          },
          "name": "stderr",
          "output_type": "stream",
          "text": [
            "/usr/local/lib/python3.7/dist-packages/pytorch_transformers/optimization.py:166: UserWarning: This overload of add_ is deprecated:\n",
            "\tadd_(Number alpha, Tensor other)\n",
            "Consider using one of the following signatures instead:\n",
            "\tadd_(Tensor other, *, Number alpha) (Triggered internally at  /pytorch/torch/csrc/utils/python_arg_parser.cpp:1005.)\n",
            "  exp_avg.mul_(beta1).add_(1.0 - beta1, grad)\n"
          ]
        },
        {
          "data": {
            "application/vnd.jupyter.widget-view+json": {
              "model_id": "a4407bb25c5d41dd9af47ad80e94fffd",
              "version_major": 2,
              "version_minor": 0
            },
            "text/plain": [
              "[1/682]   0%|           [00:00<?]"
            ]
          },
          "metadata": {},
          "output_type": "display_data"
        },
        {
          "metadata": {
            "tags": null
          },
          "name": "stdout",
          "output_type": "stream",
          "text": [
            "validation epoch: 1 acc: 92.24422442244224\n"
          ]
        },
        {
          "data": {
            "application/vnd.jupyter.widget-view+json": {
              "model_id": "23d2bfa4042d4c2991ec0027211c4e21",
              "version_major": 2,
              "version_minor": 0
            },
            "text/plain": [
              "[1/682]   0%|           [00:00<?]"
            ]
          },
          "metadata": {},
          "output_type": "display_data"
        },
        {
          "metadata": {
            "tags": null
          },
          "name": "stdout",
          "output_type": "stream",
          "text": [
            "validation epoch: 2 acc: 93.35808580858085\n"
          ]
        },
        {
          "data": {
            "application/vnd.jupyter.widget-view+json": {
              "model_id": "d7a4abee8de043ec918b41cfdcd4acdc",
              "version_major": 2,
              "version_minor": 0
            },
            "text/plain": [
              "[1/682]   0%|           [00:00<?]"
            ]
          },
          "metadata": {},
          "output_type": "display_data"
        },
        {
          "output_type": "stream",
          "name": "stdout",
          "text": [
            "validation epoch: 3 acc: 93.35808580858085\n"
          ]
        },
        {
          "output_type": "display_data",
          "data": {
            "application/vnd.jupyter.widget-view+json": {
              "model_id": "fe4a05bbe4434b5bb1efc69ad2fde949",
              "version_minor": 0,
              "version_major": 2
            },
            "text/plain": [
              "[1/682]   0%|           [00:00<?]"
            ]
          },
          "metadata": {}
        },
        {
          "output_type": "stream",
          "name": "stdout",
          "text": [
            "validation epoch: 4 acc: 93.35808580858085\n"
          ]
        },
        {
          "output_type": "display_data",
          "data": {
            "application/vnd.jupyter.widget-view+json": {
              "model_id": "b0b71223becc49c89913962bd5c6aa44",
              "version_minor": 0,
              "version_major": 2
            },
            "text/plain": [
              "[1/682]   0%|           [00:00<?]"
            ]
          },
          "metadata": {}
        },
        {
          "output_type": "stream",
          "name": "stdout",
          "text": [
            "validation epoch: 5 acc: 93.35808580858085\n"
          ]
        }
      ]
    },
    {
      "cell_type": "markdown",
      "metadata": {
        "id": "GQ6eo0b6wIGS"
      },
      "source": [
        "### 7 - Evaluate Model"
      ]
    },
    {
      "cell_type": "code",
      "metadata": {
        "colab": {
          "base_uri": "https://localhost:8080/"
        },
        "id": "OLqWBjjNoe6s",
        "outputId": "9c548704-400b-467c-cb74-8bfecde1d7be"
      },
      "source": [
        "# evaluate the model on test set\n",
        "evaluator.run(test_dl)\n",
        "print(f\"Test accuracy: {100*evaluator.state.metrics['accuracy']:.3f}\")"
      ],
      "execution_count": 21,
      "outputs": [
        {
          "output_type": "stream",
          "name": "stdout",
          "text": [
            "Test accuracy: 92.010\n"
          ]
        }
      ]
    },
    {
      "cell_type": "markdown",
      "metadata": {
        "id": "t6dG0up8wbce"
      },
      "source": [
        "### 8 - Predict for a Single Input"
      ]
    },
    {
      "cell_type": "code",
      "metadata": {
        "colab": {
          "base_uri": "https://localhost:8080/"
        },
        "id": "CM8ntDMgoUgO",
        "outputId": "06d3e6a3-6ece-4ca9-ccbf-2dfd561527e2"
      },
      "source": [
        "predict(model, tokenizer, int2label, input = \"ah! great book\")"
      ],
      "execution_count": 22,
      "outputs": [
        {
          "output_type": "execute_result",
          "data": {
            "text/plain": [
              "{'negative': 0.006839931, 'positive': 0.99316}"
            ]
          },
          "metadata": {},
          "execution_count": 22
        }
      ]
    },
    {
      "cell_type": "code",
      "metadata": {
        "colab": {
          "base_uri": "https://localhost:8080/"
        },
        "id": "dPRR1aWooUJF",
        "outputId": "0062f259-072e-47a6-9a7c-48cfcb1136aa"
      },
      "source": [
        "predict(model, tokenizer, int2label, input = \"I didn't enjoy the toy as muxh as I imagined\")"
      ],
      "execution_count": 23,
      "outputs": [
        {
          "output_type": "execute_result",
          "data": {
            "text/plain": [
              "{'negative': 0.9982438, 'positive': 0.0017562063}"
            ]
          },
          "metadata": {},
          "execution_count": 23
        }
      ]
    },
    {
      "cell_type": "markdown",
      "metadata": {
        "id": "iorXpzKeCM6s"
      },
      "source": [
        "### 9 - Mine Opinions for Customer Trends"
      ]
    },
    {
      "cell_type": "code",
      "metadata": {
        "id": "VJDycFMKCLu2"
      },
      "source": [
        "sample = master_df[~temp_mask1].reset_index()\n",
        "sample['prediction'] = 0.0\n",
        "for index, row in sample.iterrows():\n",
        "    output = predict(model, tokenizer, int2label, input = str(row['text']))\n",
        "    if output['positive'] > output['negative']:\n",
        "      sample.at[index, 'prediction'] = output['positive']\n",
        "    else:\n",
        "      sample.at[index, 'prediction'] = output['negative']*(-1)"
      ],
      "execution_count": 24,
      "outputs": []
    },
    {
      "cell_type": "code",
      "metadata": {
        "id": "rPAvzrx0WpZl"
      },
      "source": [
        "# basic changes before we share the data to functions\n",
        "sample['date'] = pd.to_datetime(sample['date'], errors = 'coerce')\n",
        "sample['prediction'] = pd.to_numeric(sample['prediction']).multiply(100)\n",
        "sample = sample.sort_values(by = ['product_type', 'date'], ascending = True)"
      ],
      "execution_count": 25,
      "outputs": []
    },
    {
      "cell_type": "code",
      "metadata": {
        "id": "MWSjrAVCWsdg"
      },
      "source": [
        "ALL='ALL'\n",
        "\n",
        "def createDropdown(array):\n",
        "  unique = list(array.dropna().unique())\n",
        "  unique.sort()\n",
        "  unique.insert(0,ALL)\n",
        "  return unique\n",
        "\n",
        "def CombinedEvent(year, p_type, flag):\n",
        "  out.clear_output()\n",
        "  plot_out.clear_output()\n",
        "  # group by year to summarize \"ALL years\" and by month for a single year\n",
        "  if (year == ALL) & (p_type == ALL):\n",
        "    out_table = sample.groupby(sample['date'].dt.year).agg({'prediction':['count','mean']}).reset_index()\n",
        "    out_table.columns = out_table.columns.droplevel()\n",
        "    out_table = out_table.rename(columns = {\"\":\"Date\",\"count\":'Number of Reviews',\"mean\":'Average Sentiment'})\n",
        "    out_table[\"Date\"] = pd.to_datetime(out_table[\"Date\"], format='%Y')\n",
        "    out_table[\"Date\"] = out_table[\"Date\"].dt.year\n",
        "  elif (year == ALL):\n",
        "    out_table = sample[sample['product_type']==p_type]\n",
        "    out_table = out_table.groupby(out_table['date'].dt.year).agg({'prediction':['count','mean']}).reset_index()\n",
        "    # out_table = sample[sample['product_type']==p_type].groupby(sample['date'].dt.year).agg({'prediction':['count','mean']}).reset_index()\n",
        "    out_table.columns = out_table.columns.droplevel()\n",
        "    out_table = out_table.rename(columns = {\"\":\"Date\",\"count\":'Number of Reviews',\"mean\":'Average Sentiment'})\n",
        "    out_table[\"Date\"] = pd.to_datetime(out_table[\"Date\"],  format='%Y')\n",
        "    out_table[\"Date\"] = out_table[\"Date\"].dt.year\n",
        "  elif (p_type == ALL):\n",
        "    out_table = sample[sample['date'].dt.year==year]\n",
        "    out_table = out_table.groupby(out_table['date'].dt.strftime('%b-%Y')).agg({'prediction':['count','mean']}).reset_index()\n",
        "    out_table.columns = out_table.columns.droplevel()\n",
        "    out_table = out_table.rename(columns = {\"\":\"Date\",\"count\":'Number of Reviews',\"mean\":'Average Sentiment'})\n",
        "    out_table[\"Date\"] = pd.to_datetime(out_table[\"Date\"])\n",
        "    out_table = out_table.sort_values(by = 'Date', ascending = True)\n",
        "    out_table[\"Date\"] = out_table[\"Date\"].dt.strftime('%b-%Y')\n",
        "  else:\n",
        "    out_table = sample[(sample['date'].dt.year==year)&(sample['product_type']==p_type)]\n",
        "    out_table = out_table.groupby(out_table['date'].dt.strftime('%b-%Y')).agg({'prediction':['count','mean']}).reset_index()\n",
        "    out_table.columns = out_table.columns.droplevel()\n",
        "    out_table = out_table.rename(columns = {\"\":\"Date\",\"count\":'Number of Reviews',\"mean\":'Average Sentiment'})\n",
        "    out_table[\"Date\"] = pd.to_datetime(out_table[\"Date\"])\n",
        "    out_table = out_table.sort_values(by = 'Date', ascending = True)\n",
        "    out_table[\"Date\"] = out_table[\"Date\"].dt.strftime('%b-%Y')\n",
        "\n",
        "  with out:\n",
        "    if (len(out_table)==0):\n",
        "      print (\"\\n\\nNo Data, try a different combination\\n\\n\")\n",
        "    else:\n",
        "      print(\"\\n\")\n",
        "      display(out_table)\n",
        "      print(\"\\n\\n\")\n",
        "      # plot graph\n",
        "  with plot_out:\n",
        "    if (len(out_table)==0):\n",
        "      print (\"\\n\\nNo Data, try a different combination\\n\\n\")\n",
        "    else:\n",
        "        fig, ax = plt.subplots(2,1, figsize=(15, 10))\n",
        "        ax[0].plot(out_table['Date'], out_table['Average Sentiment'], marker='o', color='orange' , label='Average Sentiment')  # Plot the chart\n",
        "        ax[0].axhline(0, c='black', ls='--')\n",
        "        ax[0].set_ylim([-100, 100])\n",
        "        ax[0].xaxis.set_visible(False)\n",
        "        ax[0].yaxis.set_major_formatter(ticker.PercentFormatter())\n",
        "        ax[0].legend()\n",
        "        ax[1].bar(out_table['Date'], out_table['Number of Reviews'], color ='maroon', width=0.15, label='Number of Reviews')\n",
        "        ax[1].yaxis.set_major_locator(ticker.MaxNLocator(integer=True))\n",
        "        ax[1].legend()\n",
        "        ax[1].grid(axis = 'y', color = 'grey', linestyle = '--', linewidth = 0.5)\n",
        "        plt.subplots_adjust(left=0.2,\n",
        "                            bottom=0.3, \n",
        "                            right=0.9, \n",
        "                            top=0.9, \n",
        "                            wspace=0.2, \n",
        "                            hspace=0.05)\n",
        "        plt.show()\n",
        "\n",
        "def DropdownYearEventhandler(change):\n",
        "    CombinedEvent(change.new,dropdown_categories.value,flag=0)\n",
        "\n",
        "def DropdownTypeEventhandler(change):\n",
        "    CombinedEvent(dropdown_year.value,change.new,flag=0)"
      ],
      "execution_count": 26,
      "outputs": []
    },
    {
      "cell_type": "code",
      "metadata": {
        "id": "5zhchUFPFMJh",
        "colab": {
          "base_uri": "https://localhost:8080/",
          "height": 692,
          "referenced_widgets": [
            "709a827a77744b8c9e1b4b1cb67ff566",
            "18f0ada4ffbb4da9910e2920e0e0c0d8",
            "82391fdd965642b18bbbc6d32ae8d986",
            "1759520fdb4a46f992196bd4fd233bce",
            "9a1124d560c7468993e7fb184e9daab7",
            "af4ac4a1ec9144e98e666de19842501e",
            "fddae59a18b64589a50ef3a8a189e7e3",
            "0f1e68507e9349a5829ee90035d0c2b5",
            "061428fa872348dd8190be39d89f082c",
            "203edcf9ead245e9af6ba09f30cabc7b",
            "15a7ea4121c64bbf9f27397ecf681fbb",
            "806277dcc3324606b688a68cec735246",
            "c327a59581bd4e7e8f981701c909a4be",
            "07bf1ac5e0f34d4eb36e210e008e20d7",
            "88abf523e71546c8998b9dbfbdb2aece",
            "8ed26d11200d46fa8edbf83c820bd5d1"
          ]
        },
        "outputId": "4a94630b-c4bf-41ba-89e3-1f248cad1928"
      },
      "source": [
        "out = ipywidgets.widgets.Output()\n",
        "plot_out =ipywidgets.widgets.Output()\n",
        "\n",
        "dropdown_year = ipywidgets.widgets.Dropdown(options = createDropdown(sample['date'].dt.year.astype('Int64')), description = \"Year: \")\n",
        "dropdown_categories = ipywidgets.widgets.Dropdown(options = createDropdown(sample.product_type), description = \"Product Type: \")\n",
        "input_widgets = ipywidgets.widgets.HBox([dropdown_categories, dropdown_year], layout=Layout(width='60%',justify_content='space-between', margin='0 0 50px 0'))\n",
        "tab = ipywidgets.widgets.Tab([out, plot_out])\n",
        "tab.set_title(0, 'Summary Table')\n",
        "tab.set_title(1, 'Trend Chart')\n",
        "dashboard = ipywidgets.widgets.VBox([input_widgets, tab])\n",
        "\n",
        "dropdown_categories.observe(DropdownTypeEventhandler, names='value')\n",
        "dropdown_year.observe(DropdownYearEventhandler, names='value')\n",
        "display(dashboard)"
      ],
      "execution_count": 27,
      "outputs": [
        {
          "output_type": "stream",
          "name": "stdout",
          "text": [
            "\n",
            "\n"
          ]
        },
        {
          "output_type": "display_data",
          "data": {
            "text/html": [
              "<div>\n",
              "<style scoped>\n",
              "    .dataframe tbody tr th:only-of-type {\n",
              "        vertical-align: middle;\n",
              "    }\n",
              "\n",
              "    .dataframe tbody tr th {\n",
              "        vertical-align: top;\n",
              "    }\n",
              "\n",
              "    .dataframe thead th {\n",
              "        text-align: right;\n",
              "    }\n",
              "</style>\n",
              "<table border=\"1\" class=\"dataframe\">\n",
              "  <thead>\n",
              "    <tr style=\"text-align: right;\">\n",
              "      <th></th>\n",
              "      <th>Date</th>\n",
              "      <th>Number of Reviews</th>\n",
              "      <th>Average Sentiment</th>\n",
              "    </tr>\n",
              "  </thead>\n",
              "  <tbody>\n",
              "    <tr>\n",
              "      <th>0</th>\n",
              "      <td>2005</td>\n",
              "      <td>6</td>\n",
              "      <td>31.783853</td>\n",
              "    </tr>\n",
              "    <tr>\n",
              "      <th>1</th>\n",
              "      <td>2006</td>\n",
              "      <td>37</td>\n",
              "      <td>45.495808</td>\n",
              "    </tr>\n",
              "    <tr>\n",
              "      <th>2</th>\n",
              "      <td>2007</td>\n",
              "      <td>85</td>\n",
              "      <td>40.545729</td>\n",
              "    </tr>\n",
              "  </tbody>\n",
              "</table>\n",
              "</div>"
            ],
            "text/plain": [
              "   Date  Number of Reviews  Average Sentiment\n",
              "0  2005                  6          31.783853\n",
              "1  2006                 37          45.495808\n",
              "2  2007                 85          40.545729"
            ]
          },
          "metadata": {}
        },
        {
          "output_type": "stream",
          "name": "stdout",
          "text": [
            "\n",
            "\n",
            "\n"
          ]
        },
        {
          "output_type": "display_data",
          "data": {
            "image/png": "[encoded data removed]",
            "text/plain": [
              "<Figure size 1080x720 with 2 Axes>"
            ]
          },
          "metadata": {
            "needs_background": "light"
          }
        }
      ]
    },
    {
      "cell_type": "markdown",
      "metadata": {
        "id": "-3G9Tx_2XlDu"
      },
      "source": [
        "### References\n",
        "\n",
        "* https://github.com/huggingface/naacl_transfer_learning_tutorial\n",
        "* https://medium.com/swlh/transformer-fine-tuning-for-sentiment-analysis-c000da034bb5\n"
      ]
    }
  ]
}