{
  "nbformat": 4,
  "nbformat_minor": 0,
  "metadata": {
    "colab": {
      "name": "Mining-Opinions-to-Predict-Customer-Trends-using-Transformers-PyTorch",
      "provenance": [],
      "collapsed_sections": [
        "zchVIJkXTC9E",
        "E1gFSLa-vZDY"
      ],
      "machine_shape": "hm",
      "mount_file_id": "1TqblcmiKjFQ93Nx6tL-CiMuNxALslWmn",
      "authorship_tag": "ABX9TyMeDn8UHuEeD21Qc5/SBPdJ",
      "include_colab_link": true
    },
    "kernelspec": {
      "name": "python3",
      "display_name": "Python 3"
    },
    "language_info": {
      "name": "python"
    },
    "accelerator": "GPU",
    "widgets": {
      "application/vnd.jupyter.widget-state+json": {
        "8b9fc68eaa764639ad06fff237411966": {
          "model_module": "@jupyter-widgets/controls",
          "model_name": "HBoxModel",
          "state": {
            "_view_name": "HBoxView",
            "_dom_classes": [],
            "_model_name": "HBoxModel",
            "_view_module": "@jupyter-widgets/controls",
            "_model_module_version": "1.5.0",
            "_view_count": null,
            "_view_module_version": "1.5.0",
            "box_style": "",
            "layout": "IPY_MODEL_309e0021b559434dbaf413f095f0c326",
            "_model_module": "@jupyter-widgets/controls",
            "children": [
              "IPY_MODEL_2b28fdcf21bf4bc9b4b54b623ced9f7a",
              "IPY_MODEL_e8dfffc5afd74bb481f000a7e4c0438b"
            ]
          }
        },
        "309e0021b559434dbaf413f095f0c326": {
          "model_module": "@jupyter-widgets/base",
          "model_name": "LayoutModel",
          "state": {
            "_view_name": "LayoutView",
            "grid_template_rows": null,
            "right": null,
            "justify_content": null,
            "_view_module": "@jupyter-widgets/base",
            "overflow": null,
            "_model_module_version": "1.2.0",
            "_view_count": null,
            "flex_flow": null,
            "width": null,
            "min_width": null,
            "border": null,
            "align_items": null,
            "bottom": null,
            "_model_module": "@jupyter-widgets/base",
            "top": null,
            "grid_column": null,
            "overflow_y": null,
            "overflow_x": null,
            "grid_auto_flow": null,
            "grid_area": null,
            "grid_template_columns": null,
            "flex": null,
            "_model_name": "LayoutModel",
            "justify_items": null,
            "grid_row": null,
            "max_height": null,
            "align_content": null,
            "visibility": null,
            "align_self": null,
            "height": null,
            "min_height": null,
            "padding": null,
            "grid_auto_rows": null,
            "grid_gap": null,
            "max_width": null,
            "order": null,
            "_view_module_version": "1.2.0",
            "grid_template_areas": null,
            "object_position": null,
            "object_fit": null,
            "grid_auto_columns": null,
            "margin": null,
            "display": null,
            "left": null
          }
        },
        "2b28fdcf21bf4bc9b4b54b623ced9f7a": {
          "model_module": "@jupyter-widgets/controls",
          "model_name": "FloatProgressModel",
          "state": {
            "_view_name": "ProgressView",
            "style": "IPY_MODEL_81d0ef221598499988cbf74923c237ae",
            "_dom_classes": [],
            "description": "Processing 24329 examples on 4 cores: 100%",
            "_model_name": "FloatProgressModel",
            "bar_style": "success",
            "max": 24329,
            "_view_module": "@jupyter-widgets/controls",
            "_model_module_version": "1.5.0",
            "value": 24329,
            "_view_count": null,
            "_view_module_version": "1.5.0",
            "orientation": "horizontal",
            "min": 0,
            "description_tooltip": null,
            "_model_module": "@jupyter-widgets/controls",
            "layout": "IPY_MODEL_be43ad2db34947808e31ae688d08f4e3"
          }
        },
        "e8dfffc5afd74bb481f000a7e4c0438b": {
          "model_module": "@jupyter-widgets/controls",
          "model_name": "HTMLModel",
          "state": {
            "_view_name": "HTMLView",
            "style": "IPY_MODEL_c2ca702892fa48b09f65fe4063861448",
            "_dom_classes": [],
            "description": "",
            "_model_name": "HTMLModel",
            "placeholder": "​",
            "_view_module": "@jupyter-widgets/controls",
            "_model_module_version": "1.5.0",
            "value": " 24329/24329 [00:27&lt;00:00, 890.61it/s]",
            "_view_count": null,
            "_view_module_version": "1.5.0",
            "description_tooltip": null,
            "_model_module": "@jupyter-widgets/controls",
            "layout": "IPY_MODEL_8aed5708d25b4c2695c720105d2961f2"
          }
        },
        "81d0ef221598499988cbf74923c237ae": {
          "model_module": "@jupyter-widgets/controls",
          "model_name": "ProgressStyleModel",
          "state": {
            "_view_name": "StyleView",
            "_model_name": "ProgressStyleModel",
            "description_width": "initial",
            "_view_module": "@jupyter-widgets/base",
            "_model_module_version": "1.5.0",
            "_view_count": null,
            "_view_module_version": "1.2.0",
            "bar_color": null,
            "_model_module": "@jupyter-widgets/controls"
          }
        },
        "be43ad2db34947808e31ae688d08f4e3": {
          "model_module": "@jupyter-widgets/base",
          "model_name": "LayoutModel",
          "state": {
            "_view_name": "LayoutView",
            "grid_template_rows": null,
            "right": null,
            "justify_content": null,
            "_view_module": "@jupyter-widgets/base",
            "overflow": null,
            "_model_module_version": "1.2.0",
            "_view_count": null,
            "flex_flow": null,
            "width": null,
            "min_width": null,
            "border": null,
            "align_items": null,
            "bottom": null,
            "_model_module": "@jupyter-widgets/base",
            "top": null,
            "grid_column": null,
            "overflow_y": null,
            "overflow_x": null,
            "grid_auto_flow": null,
            "grid_area": null,
            "grid_template_columns": null,
            "flex": null,
            "_model_name": "LayoutModel",
            "justify_items": null,
            "grid_row": null,
            "max_height": null,
            "align_content": null,
            "visibility": null,
            "align_self": null,
            "height": null,
            "min_height": null,
            "padding": null,
            "grid_auto_rows": null,
            "grid_gap": null,
            "max_width": null,
            "order": null,
            "_view_module_version": "1.2.0",
            "grid_template_areas": null,
            "object_position": null,
            "object_fit": null,
            "grid_auto_columns": null,
            "margin": null,
            "display": null,
            "left": null
          }
        },
        "c2ca702892fa48b09f65fe4063861448": {
          "model_module": "@jupyter-widgets/controls",
          "model_name": "DescriptionStyleModel",
          "state": {
            "_view_name": "StyleView",
            "_model_name": "DescriptionStyleModel",
            "description_width": "",
            "_view_module": "@jupyter-widgets/base",
            "_model_module_version": "1.5.0",
            "_view_count": null,
            "_view_module_version": "1.2.0",
            "_model_module": "@jupyter-widgets/controls"
          }
        },
        "8aed5708d25b4c2695c720105d2961f2": {
          "model_module": "@jupyter-widgets/base",
          "model_name": "LayoutModel",
          "state": {
            "_view_name": "LayoutView",
            "grid_template_rows": null,
            "right": null,
            "justify_content": null,
            "_view_module": "@jupyter-widgets/base",
            "overflow": null,
            "_model_module_version": "1.2.0",
            "_view_count": null,
            "flex_flow": null,
            "width": null,
            "min_width": null,
            "border": null,
            "align_items": null,
            "bottom": null,
            "_model_module": "@jupyter-widgets/base",
            "top": null,
            "grid_column": null,
            "overflow_y": null,
            "overflow_x": null,
            "grid_auto_flow": null,
            "grid_area": null,
            "grid_template_columns": null,
            "flex": null,
            "_model_name": "LayoutModel",
            "justify_items": null,
            "grid_row": null,
            "max_height": null,
            "align_content": null,
            "visibility": null,
            "align_self": null,
            "height": null,
            "min_height": null,
            "padding": null,
            "grid_auto_rows": null,
            "grid_gap": null,
            "max_width": null,
            "order": null,
            "_view_module_version": "1.2.0",
            "grid_template_areas": null,
            "object_position": null,
            "object_fit": null,
            "grid_auto_columns": null,
            "margin": null,
            "display": null,
            "left": null
          }
        },
        "82f541c45fce4f6bb8a2508dc2745962": {
          "model_module": "@jupyter-widgets/controls",
          "model_name": "HBoxModel",
          "state": {
            "_view_name": "HBoxView",
            "_dom_classes": [],
            "_model_name": "HBoxModel",
            "_view_module": "@jupyter-widgets/controls",
            "_model_module_version": "1.5.0",
            "_view_count": null,
            "_view_module_version": "1.5.0",
            "box_style": "",
            "layout": "IPY_MODEL_1fb1f423abb74249a46d837beeeeab83",
            "_model_module": "@jupyter-widgets/controls",
            "children": [
              "IPY_MODEL_07a80ddb8f104fc19ee4e8a73fdad1d9",
              "IPY_MODEL_2c45c24d7bb84ef18e1bd1867839b4a1"
            ]
          }
        },
        "1fb1f423abb74249a46d837beeeeab83": {
          "model_module": "@jupyter-widgets/base",
          "model_name": "LayoutModel",
          "state": {
            "_view_name": "LayoutView",
            "grid_template_rows": null,
            "right": null,
            "justify_content": null,
            "_view_module": "@jupyter-widgets/base",
            "overflow": null,
            "_model_module_version": "1.2.0",
            "_view_count": null,
            "flex_flow": null,
            "width": null,
            "min_width": null,
            "border": null,
            "align_items": null,
            "bottom": null,
            "_model_module": "@jupyter-widgets/base",
            "top": null,
            "grid_column": null,
            "overflow_y": null,
            "overflow_x": null,
            "grid_auto_flow": null,
            "grid_area": null,
            "grid_template_columns": null,
            "flex": null,
            "_model_name": "LayoutModel",
            "justify_items": null,
            "grid_row": null,
            "max_height": null,
            "align_content": null,
            "visibility": null,
            "align_self": null,
            "height": null,
            "min_height": null,
            "padding": null,
            "grid_auto_rows": null,
            "grid_gap": null,
            "max_width": null,
            "order": null,
            "_view_module_version": "1.2.0",
            "grid_template_areas": null,
            "object_position": null,
            "object_fit": null,
            "grid_auto_columns": null,
            "margin": null,
            "display": null,
            "left": null
          }
        },
        "07a80ddb8f104fc19ee4e8a73fdad1d9": {
          "model_module": "@jupyter-widgets/controls",
          "model_name": "FloatProgressModel",
          "state": {
            "_view_name": "ProgressView",
            "style": "IPY_MODEL_2dd98fe76bb04c9d97dbf99e689f2a6e",
            "_dom_classes": [],
            "description": "Processing 10311 examples on 4 cores: 100%",
            "_model_name": "FloatProgressModel",
            "bar_style": "success",
            "max": 10311,
            "_view_module": "@jupyter-widgets/controls",
            "_model_module_version": "1.5.0",
            "value": 10311,
            "_view_count": null,
            "_view_module_version": "1.5.0",
            "orientation": "horizontal",
            "min": 0,
            "description_tooltip": null,
            "_model_module": "@jupyter-widgets/controls",
            "layout": "IPY_MODEL_6889d8a584dd4ecfa809108e5b650163"
          }
        },
        "2c45c24d7bb84ef18e1bd1867839b4a1": {
          "model_module": "@jupyter-widgets/controls",
          "model_name": "HTMLModel",
          "state": {
            "_view_name": "HTMLView",
            "style": "IPY_MODEL_0173da76701641288355cf3cdec70505",
            "_dom_classes": [],
            "description": "",
            "_model_name": "HTMLModel",
            "placeholder": "​",
            "_view_module": "@jupyter-widgets/controls",
            "_model_module_version": "1.5.0",
            "value": " 10311/10311 [00:11&lt;00:00, 927.11it/s]",
            "_view_count": null,
            "_view_module_version": "1.5.0",
            "description_tooltip": null,
            "_model_module": "@jupyter-widgets/controls",
            "layout": "IPY_MODEL_885fa62b0a3649a8b0d96c627e0e77af"
          }
        },
        "2dd98fe76bb04c9d97dbf99e689f2a6e": {
          "model_module": "@jupyter-widgets/controls",
          "model_name": "ProgressStyleModel",
          "state": {
            "_view_name": "StyleView",
            "_model_name": "ProgressStyleModel",
            "description_width": "initial",
            "_view_module": "@jupyter-widgets/base",
            "_model_module_version": "1.5.0",
            "_view_count": null,
            "_view_module_version": "1.2.0",
            "bar_color": null,
            "_model_module": "@jupyter-widgets/controls"
          }
        },
        "6889d8a584dd4ecfa809108e5b650163": {
          "model_module": "@jupyter-widgets/base",
          "model_name": "LayoutModel",
          "state": {
            "_view_name": "LayoutView",
            "grid_template_rows": null,
            "right": null,
            "justify_content": null,
            "_view_module": "@jupyter-widgets/base",
            "overflow": null,
            "_model_module_version": "1.2.0",
            "_view_count": null,
            "flex_flow": null,
            "width": null,
            "min_width": null,
            "border": null,
            "align_items": null,
            "bottom": null,
            "_model_module": "@jupyter-widgets/base",
            "top": null,
            "grid_column": null,
            "overflow_y": null,
            "overflow_x": null,
            "grid_auto_flow": null,
            "grid_area": null,
            "grid_template_columns": null,
            "flex": null,
            "_model_name": "LayoutModel",
            "justify_items": null,
            "grid_row": null,
            "max_height": null,
            "align_content": null,
            "visibility": null,
            "align_self": null,
            "height": null,
            "min_height": null,
            "padding": null,
            "grid_auto_rows": null,
            "grid_gap": null,
            "max_width": null,
            "order": null,
            "_view_module_version": "1.2.0",
            "grid_template_areas": null,
            "object_position": null,
            "object_fit": null,
            "grid_auto_columns": null,
            "margin": null,
            "display": null,
            "left": null
          }
        },
        "0173da76701641288355cf3cdec70505": {
          "model_module": "@jupyter-widgets/controls",
          "model_name": "DescriptionStyleModel",
          "state": {
            "_view_name": "StyleView",
            "_model_name": "DescriptionStyleModel",
            "description_width": "",
            "_view_module": "@jupyter-widgets/base",
            "_model_module_version": "1.5.0",
            "_view_count": null,
            "_view_module_version": "1.2.0",
            "_model_module": "@jupyter-widgets/controls"
          }
        },
        "885fa62b0a3649a8b0d96c627e0e77af": {
          "model_module": "@jupyter-widgets/base",
          "model_name": "LayoutModel",
          "state": {
            "_view_name": "LayoutView",
            "grid_template_rows": null,
            "right": null,
            "justify_content": null,
            "_view_module": "@jupyter-widgets/base",
            "overflow": null,
            "_model_module_version": "1.2.0",
            "_view_count": null,
            "flex_flow": null,
            "width": null,
            "min_width": null,
            "border": null,
            "align_items": null,
            "bottom": null,
            "_model_module": "@jupyter-widgets/base",
            "top": null,
            "grid_column": null,
            "overflow_y": null,
            "overflow_x": null,
            "grid_auto_flow": null,
            "grid_area": null,
            "grid_template_columns": null,
            "flex": null,
            "_model_name": "LayoutModel",
            "justify_items": null,
            "grid_row": null,
            "max_height": null,
            "align_content": null,
            "visibility": null,
            "align_self": null,
            "height": null,
            "min_height": null,
            "padding": null,
            "grid_auto_rows": null,
            "grid_gap": null,
            "max_width": null,
            "order": null,
            "_view_module_version": "1.2.0",
            "grid_template_areas": null,
            "object_position": null,
            "object_fit": null,
            "grid_auto_columns": null,
            "margin": null,
            "display": null,
            "left": null
          }
        },
        "b70e102f7c814d7781afc738a70ded59": {
          "model_module": "@jupyter-widgets/controls",
          "model_name": "HBoxModel",
          "state": {
            "_view_name": "HBoxView",
            "_dom_classes": [],
            "_model_name": "HBoxModel",
            "_view_module": "@jupyter-widgets/controls",
            "_model_module_version": "1.5.0",
            "_view_count": null,
            "_view_module_version": "1.5.0",
            "box_style": "",
            "layout": "IPY_MODEL_18017979249b499caf6aead4d4cac4b2",
            "_model_module": "@jupyter-widgets/controls",
            "children": [
              "IPY_MODEL_9e6f728eb74c446a9af77c82a19e54ae",
              "IPY_MODEL_9785cf4bebe4425e9f72784c34e07b8b"
            ]
          }
        },
        "18017979249b499caf6aead4d4cac4b2": {
          "model_module": "@jupyter-widgets/base",
          "model_name": "LayoutModel",
          "state": {
            "_view_name": "LayoutView",
            "grid_template_rows": null,
            "right": null,
            "justify_content": null,
            "_view_module": "@jupyter-widgets/base",
            "overflow": null,
            "_model_module_version": "1.2.0",
            "_view_count": null,
            "flex_flow": null,
            "width": null,
            "min_width": null,
            "border": null,
            "align_items": null,
            "bottom": null,
            "_model_module": "@jupyter-widgets/base",
            "top": null,
            "grid_column": null,
            "overflow_y": null,
            "overflow_x": null,
            "grid_auto_flow": null,
            "grid_area": null,
            "grid_template_columns": null,
            "flex": null,
            "_model_name": "LayoutModel",
            "justify_items": null,
            "grid_row": null,
            "max_height": null,
            "align_content": null,
            "visibility": null,
            "align_self": null,
            "height": null,
            "min_height": null,
            "padding": null,
            "grid_auto_rows": null,
            "grid_gap": null,
            "max_width": null,
            "order": null,
            "_view_module_version": "1.2.0",
            "grid_template_areas": null,
            "object_position": null,
            "object_fit": null,
            "grid_auto_columns": null,
            "margin": null,
            "display": null,
            "left": null
          }
        },
        "9e6f728eb74c446a9af77c82a19e54ae": {
          "model_module": "@jupyter-widgets/controls",
          "model_name": "FloatProgressModel",
          "state": {
            "_view_name": "ProgressView",
            "style": "IPY_MODEL_cf664b569d4a47fb9ff87706aeaa0bbd",
            "_dom_classes": [],
            "description": "Epoch [1/5]: [685/685] 100%",
            "_model_name": "FloatProgressModel",
            "bar_style": "success",
            "max": 685,
            "_view_module": "@jupyter-widgets/controls",
            "_model_module_version": "1.5.0",
            "value": 685,
            "_view_count": null,
            "_view_module_version": "1.5.0",
            "orientation": "horizontal",
            "min": 0,
            "description_tooltip": null,
            "_model_module": "@jupyter-widgets/controls",
            "layout": "IPY_MODEL_b2717584b88d4961a3bdf5d87562edbd"
          }
        },
        "9785cf4bebe4425e9f72784c34e07b8b": {
          "model_module": "@jupyter-widgets/controls",
          "model_name": "HTMLModel",
          "state": {
            "_view_name": "HTMLView",
            "style": "IPY_MODEL_8ccc58ff9e1b4b11ad80b5abe9d7b0f1",
            "_dom_classes": [],
            "description": "",
            "_model_name": "HTMLModel",
            "placeholder": "​",
            "_view_module": "@jupyter-widgets/controls",
            "_model_module_version": "1.5.0",
            "value": ", loss=0.23 [05:59&lt;00:00]",
            "_view_count": null,
            "_view_module_version": "1.5.0",
            "description_tooltip": null,
            "_model_module": "@jupyter-widgets/controls",
            "layout": "IPY_MODEL_94c0c172a8c24c559ef15105fedc161a"
          }
        },
        "cf664b569d4a47fb9ff87706aeaa0bbd": {
          "model_module": "@jupyter-widgets/controls",
          "model_name": "ProgressStyleModel",
          "state": {
            "_view_name": "StyleView",
            "_model_name": "ProgressStyleModel",
            "description_width": "initial",
            "_view_module": "@jupyter-widgets/base",
            "_model_module_version": "1.5.0",
            "_view_count": null,
            "_view_module_version": "1.2.0",
            "bar_color": null,
            "_model_module": "@jupyter-widgets/controls"
          }
        },
        "b2717584b88d4961a3bdf5d87562edbd": {
          "model_module": "@jupyter-widgets/base",
          "model_name": "LayoutModel",
          "state": {
            "_view_name": "LayoutView",
            "grid_template_rows": null,
            "right": null,
            "justify_content": null,
            "_view_module": "@jupyter-widgets/base",
            "overflow": null,
            "_model_module_version": "1.2.0",
            "_view_count": null,
            "flex_flow": null,
            "width": null,
            "min_width": null,
            "border": null,
            "align_items": null,
            "bottom": null,
            "_model_module": "@jupyter-widgets/base",
            "top": null,
            "grid_column": null,
            "overflow_y": null,
            "overflow_x": null,
            "grid_auto_flow": null,
            "grid_area": null,
            "grid_template_columns": null,
            "flex": null,
            "_model_name": "LayoutModel",
            "justify_items": null,
            "grid_row": null,
            "max_height": null,
            "align_content": null,
            "visibility": null,
            "align_self": null,
            "height": null,
            "min_height": null,
            "padding": null,
            "grid_auto_rows": null,
            "grid_gap": null,
            "max_width": null,
            "order": null,
            "_view_module_version": "1.2.0",
            "grid_template_areas": null,
            "object_position": null,
            "object_fit": null,
            "grid_auto_columns": null,
            "margin": null,
            "display": null,
            "left": null
          }
        },
        "8ccc58ff9e1b4b11ad80b5abe9d7b0f1": {
          "model_module": "@jupyter-widgets/controls",
          "model_name": "DescriptionStyleModel",
          "state": {
            "_view_name": "StyleView",
            "_model_name": "DescriptionStyleModel",
            "description_width": "",
            "_view_module": "@jupyter-widgets/base",
            "_model_module_version": "1.5.0",
            "_view_count": null,
            "_view_module_version": "1.2.0",
            "_model_module": "@jupyter-widgets/controls"
          }
        },
        "94c0c172a8c24c559ef15105fedc161a": {
          "model_module": "@jupyter-widgets/base",
          "model_name": "LayoutModel",
          "state": {
            "_view_name": "LayoutView",
            "grid_template_rows": null,
            "right": null,
            "justify_content": null,
            "_view_module": "@jupyter-widgets/base",
            "overflow": null,
            "_model_module_version": "1.2.0",
            "_view_count": null,
            "flex_flow": null,
            "width": null,
            "min_width": null,
            "border": null,
            "align_items": null,
            "bottom": null,
            "_model_module": "@jupyter-widgets/base",
            "top": null,
            "grid_column": null,
            "overflow_y": null,
            "overflow_x": null,
            "grid_auto_flow": null,
            "grid_area": null,
            "grid_template_columns": null,
            "flex": null,
            "_model_name": "LayoutModel",
            "justify_items": null,
            "grid_row": null,
            "max_height": null,
            "align_content": null,
            "visibility": null,
            "align_self": null,
            "height": null,
            "min_height": null,
            "padding": null,
            "grid_auto_rows": null,
            "grid_gap": null,
            "max_width": null,
            "order": null,
            "_view_module_version": "1.2.0",
            "grid_template_areas": null,
            "object_position": null,
            "object_fit": null,
            "grid_auto_columns": null,
            "margin": null,
            "display": null,
            "left": null
          }
        },
        "bab76acf49314eca8fdb94fb3a7a1145": {
          "model_module": "@jupyter-widgets/controls",
          "model_name": "HBoxModel",
          "state": {
            "_view_name": "HBoxView",
            "_dom_classes": [],
            "_model_name": "HBoxModel",
            "_view_module": "@jupyter-widgets/controls",
            "_model_module_version": "1.5.0",
            "_view_count": null,
            "_view_module_version": "1.5.0",
            "box_style": "",
            "layout": "IPY_MODEL_356c7484e9794119a61a1db3a1e21321",
            "_model_module": "@jupyter-widgets/controls",
            "children": [
              "IPY_MODEL_ce27452a9fad47799e160d2813d9f0f5",
              "IPY_MODEL_df0e003d2794405281acf6a6f8bac095"
            ]
          }
        },
        "356c7484e9794119a61a1db3a1e21321": {
          "model_module": "@jupyter-widgets/base",
          "model_name": "LayoutModel",
          "state": {
            "_view_name": "LayoutView",
            "grid_template_rows": null,
            "right": null,
            "justify_content": null,
            "_view_module": "@jupyter-widgets/base",
            "overflow": null,
            "_model_module_version": "1.2.0",
            "_view_count": null,
            "flex_flow": null,
            "width": null,
            "min_width": null,
            "border": null,
            "align_items": null,
            "bottom": null,
            "_model_module": "@jupyter-widgets/base",
            "top": null,
            "grid_column": null,
            "overflow_y": null,
            "overflow_x": null,
            "grid_auto_flow": null,
            "grid_area": null,
            "grid_template_columns": null,
            "flex": null,
            "_model_name": "LayoutModel",
            "justify_items": null,
            "grid_row": null,
            "max_height": null,
            "align_content": null,
            "visibility": null,
            "align_self": null,
            "height": null,
            "min_height": null,
            "padding": null,
            "grid_auto_rows": null,
            "grid_gap": null,
            "max_width": null,
            "order": null,
            "_view_module_version": "1.2.0",
            "grid_template_areas": null,
            "object_position": null,
            "object_fit": null,
            "grid_auto_columns": null,
            "margin": null,
            "display": null,
            "left": null
          }
        },
        "ce27452a9fad47799e160d2813d9f0f5": {
          "model_module": "@jupyter-widgets/controls",
          "model_name": "FloatProgressModel",
          "state": {
            "_view_name": "ProgressView",
            "style": "IPY_MODEL_5548713f5a134d06a4532f052e42bdc7",
            "_dom_classes": [],
            "description": "Epoch [2/5]: [685/685] 100%",
            "_model_name": "FloatProgressModel",
            "bar_style": "success",
            "max": 685,
            "_view_module": "@jupyter-widgets/controls",
            "_model_module_version": "1.5.0",
            "value": 685,
            "_view_count": null,
            "_view_module_version": "1.5.0",
            "orientation": "horizontal",
            "min": 0,
            "description_tooltip": null,
            "_model_module": "@jupyter-widgets/controls",
            "layout": "IPY_MODEL_df16c2b55fe34336baaaca36a88cdb78"
          }
        },
        "df0e003d2794405281acf6a6f8bac095": {
          "model_module": "@jupyter-widgets/controls",
          "model_name": "HTMLModel",
          "state": {
            "_view_name": "HTMLView",
            "style": "IPY_MODEL_5a78fb30ad9446989c02a27f02a3c9f7",
            "_dom_classes": [],
            "description": "",
            "_model_name": "HTMLModel",
            "placeholder": "​",
            "_view_module": "@jupyter-widgets/controls",
            "_model_module_version": "1.5.0",
            "value": ", loss=0.146 [05:59&lt;00:00]",
            "_view_count": null,
            "_view_module_version": "1.5.0",
            "description_tooltip": null,
            "_model_module": "@jupyter-widgets/controls",
            "layout": "IPY_MODEL_1a687316821f48058e828c91cd6e6839"
          }
        },
        "5548713f5a134d06a4532f052e42bdc7": {
          "model_module": "@jupyter-widgets/controls",
          "model_name": "ProgressStyleModel",
          "state": {
            "_view_name": "StyleView",
            "_model_name": "ProgressStyleModel",
            "description_width": "initial",
            "_view_module": "@jupyter-widgets/base",
            "_model_module_version": "1.5.0",
            "_view_count": null,
            "_view_module_version": "1.2.0",
            "bar_color": null,
            "_model_module": "@jupyter-widgets/controls"
          }
        },
        "df16c2b55fe34336baaaca36a88cdb78": {
          "model_module": "@jupyter-widgets/base",
          "model_name": "LayoutModel",
          "state": {
            "_view_name": "LayoutView",
            "grid_template_rows": null,
            "right": null,
            "justify_content": null,
            "_view_module": "@jupyter-widgets/base",
            "overflow": null,
            "_model_module_version": "1.2.0",
            "_view_count": null,
            "flex_flow": null,
            "width": null,
            "min_width": null,
            "border": null,
            "align_items": null,
            "bottom": null,
            "_model_module": "@jupyter-widgets/base",
            "top": null,
            "grid_column": null,
            "overflow_y": null,
            "overflow_x": null,
            "grid_auto_flow": null,
            "grid_area": null,
            "grid_template_columns": null,
            "flex": null,
            "_model_name": "LayoutModel",
            "justify_items": null,
            "grid_row": null,
            "max_height": null,
            "align_content": null,
            "visibility": null,
            "align_self": null,
            "height": null,
            "min_height": null,
            "padding": null,
            "grid_auto_rows": null,
            "grid_gap": null,
            "max_width": null,
            "order": null,
            "_view_module_version": "1.2.0",
            "grid_template_areas": null,
            "object_position": null,
            "object_fit": null,
            "grid_auto_columns": null,
            "margin": null,
            "display": null,
            "left": null
          }
        },
        "5a78fb30ad9446989c02a27f02a3c9f7": {
          "model_module": "@jupyter-widgets/controls",
          "model_name": "DescriptionStyleModel",
          "state": {
            "_view_name": "StyleView",
            "_model_name": "DescriptionStyleModel",
            "description_width": "",
            "_view_module": "@jupyter-widgets/base",
            "_model_module_version": "1.5.0",
            "_view_count": null,
            "_view_module_version": "1.2.0",
            "_model_module": "@jupyter-widgets/controls"
          }
        },
        "1a687316821f48058e828c91cd6e6839": {
          "model_module": "@jupyter-widgets/base",
          "model_name": "LayoutModel",
          "state": {
            "_view_name": "LayoutView",
            "grid_template_rows": null,
            "right": null,
            "justify_content": null,
            "_view_module": "@jupyter-widgets/base",
            "overflow": null,
            "_model_module_version": "1.2.0",
            "_view_count": null,
            "flex_flow": null,
            "width": null,
            "min_width": null,
            "border": null,
            "align_items": null,
            "bottom": null,
            "_model_module": "@jupyter-widgets/base",
            "top": null,
            "grid_column": null,
            "overflow_y": null,
            "overflow_x": null,
            "grid_auto_flow": null,
            "grid_area": null,
            "grid_template_columns": null,
            "flex": null,
            "_model_name": "LayoutModel",
            "justify_items": null,
            "grid_row": null,
            "max_height": null,
            "align_content": null,
            "visibility": null,
            "align_self": null,
            "height": null,
            "min_height": null,
            "padding": null,
            "grid_auto_rows": null,
            "grid_gap": null,
            "max_width": null,
            "order": null,
            "_view_module_version": "1.2.0",
            "grid_template_areas": null,
            "object_position": null,
            "object_fit": null,
            "grid_auto_columns": null,
            "margin": null,
            "display": null,
            "left": null
          }
        },
        "ad403624fa5844f885ee43f725ea03cf": {
          "model_module": "@jupyter-widgets/controls",
          "model_name": "HBoxModel",
          "state": {
            "_view_name": "HBoxView",
            "_dom_classes": [],
            "_model_name": "HBoxModel",
            "_view_module": "@jupyter-widgets/controls",
            "_model_module_version": "1.5.0",
            "_view_count": null,
            "_view_module_version": "1.5.0",
            "box_style": "",
            "layout": "IPY_MODEL_816a671ac56042e8bd38b9f9b62e27a3",
            "_model_module": "@jupyter-widgets/controls",
            "children": [
              "IPY_MODEL_35cb8986932840af874043a035ce1dd2",
              "IPY_MODEL_002b6e9c969448faa3b7a0025c682fe1"
            ]
          }
        },
        "816a671ac56042e8bd38b9f9b62e27a3": {
          "model_module": "@jupyter-widgets/base",
          "model_name": "LayoutModel",
          "state": {
            "_view_name": "LayoutView",
            "grid_template_rows": null,
            "right": null,
            "justify_content": null,
            "_view_module": "@jupyter-widgets/base",
            "overflow": null,
            "_model_module_version": "1.2.0",
            "_view_count": null,
            "flex_flow": null,
            "width": null,
            "min_width": null,
            "border": null,
            "align_items": null,
            "bottom": null,
            "_model_module": "@jupyter-widgets/base",
            "top": null,
            "grid_column": null,
            "overflow_y": null,
            "overflow_x": null,
            "grid_auto_flow": null,
            "grid_area": null,
            "grid_template_columns": null,
            "flex": null,
            "_model_name": "LayoutModel",
            "justify_items": null,
            "grid_row": null,
            "max_height": null,
            "align_content": null,
            "visibility": null,
            "align_self": null,
            "height": null,
            "min_height": null,
            "padding": null,
            "grid_auto_rows": null,
            "grid_gap": null,
            "max_width": null,
            "order": null,
            "_view_module_version": "1.2.0",
            "grid_template_areas": null,
            "object_position": null,
            "object_fit": null,
            "grid_auto_columns": null,
            "margin": null,
            "display": null,
            "left": null
          }
        },
        "35cb8986932840af874043a035ce1dd2": {
          "model_module": "@jupyter-widgets/controls",
          "model_name": "FloatProgressModel",
          "state": {
            "_view_name": "ProgressView",
            "style": "IPY_MODEL_7647b8a76e5b4508aaa7f06a548df68b",
            "_dom_classes": [],
            "description": "Epoch [3/5]: [685/685] 100%",
            "_model_name": "FloatProgressModel",
            "bar_style": "success",
            "max": 685,
            "_view_module": "@jupyter-widgets/controls",
            "_model_module_version": "1.5.0",
            "value": 685,
            "_view_count": null,
            "_view_module_version": "1.5.0",
            "orientation": "horizontal",
            "min": 0,
            "description_tooltip": null,
            "_model_module": "@jupyter-widgets/controls",
            "layout": "IPY_MODEL_5239e31dc44242b58ab0f557f519b081"
          }
        },
        "002b6e9c969448faa3b7a0025c682fe1": {
          "model_module": "@jupyter-widgets/controls",
          "model_name": "HTMLModel",
          "state": {
            "_view_name": "HTMLView",
            "style": "IPY_MODEL_16222b11cdd84992aa69485f957f00b6",
            "_dom_classes": [],
            "description": "",
            "_model_name": "HTMLModel",
            "placeholder": "​",
            "_view_module": "@jupyter-widgets/controls",
            "_model_module_version": "1.5.0",
            "value": ", loss=0.134 [05:59&lt;00:00]",
            "_view_count": null,
            "_view_module_version": "1.5.0",
            "description_tooltip": null,
            "_model_module": "@jupyter-widgets/controls",
            "layout": "IPY_MODEL_2ae4cf4c862b4324be10c96e22b2d97f"
          }
        },
        "7647b8a76e5b4508aaa7f06a548df68b": {
          "model_module": "@jupyter-widgets/controls",
          "model_name": "ProgressStyleModel",
          "state": {
            "_view_name": "StyleView",
            "_model_name": "ProgressStyleModel",
            "description_width": "initial",
            "_view_module": "@jupyter-widgets/base",
            "_model_module_version": "1.5.0",
            "_view_count": null,
            "_view_module_version": "1.2.0",
            "bar_color": null,
            "_model_module": "@jupyter-widgets/controls"
          }
        },
        "5239e31dc44242b58ab0f557f519b081": {
          "model_module": "@jupyter-widgets/base",
          "model_name": "LayoutModel",
          "state": {
            "_view_name": "LayoutView",
            "grid_template_rows": null,
            "right": null,
            "justify_content": null,
            "_view_module": "@jupyter-widgets/base",
            "overflow": null,
            "_model_module_version": "1.2.0",
            "_view_count": null,
            "flex_flow": null,
            "width": null,
            "min_width": null,
            "border": null,
            "align_items": null,
            "bottom": null,
            "_model_module": "@jupyter-widgets/base",
            "top": null,
            "grid_column": null,
            "overflow_y": null,
            "overflow_x": null,
            "grid_auto_flow": null,
            "grid_area": null,
            "grid_template_columns": null,
            "flex": null,
            "_model_name": "LayoutModel",
            "justify_items": null,
            "grid_row": null,
            "max_height": null,
            "align_content": null,
            "visibility": null,
            "align_self": null,
            "height": null,
            "min_height": null,
            "padding": null,
            "grid_auto_rows": null,
            "grid_gap": null,
            "max_width": null,
            "order": null,
            "_view_module_version": "1.2.0",
            "grid_template_areas": null,
            "object_position": null,
            "object_fit": null,
            "grid_auto_columns": null,
            "margin": null,
            "display": null,
            "left": null
          }
        },
        "16222b11cdd84992aa69485f957f00b6": {
          "model_module": "@jupyter-widgets/controls",
          "model_name": "DescriptionStyleModel",
          "state": {
            "_view_name": "StyleView",
            "_model_name": "DescriptionStyleModel",
            "description_width": "",
            "_view_module": "@jupyter-widgets/base",
            "_model_module_version": "1.5.0",
            "_view_count": null,
            "_view_module_version": "1.2.0",
            "_model_module": "@jupyter-widgets/controls"
          }
        },
        "2ae4cf4c862b4324be10c96e22b2d97f": {
          "model_module": "@jupyter-widgets/base",
          "model_name": "LayoutModel",
          "state": {
            "_view_name": "LayoutView",
            "grid_template_rows": null,
            "right": null,
            "justify_content": null,
            "_view_module": "@jupyter-widgets/base",
            "overflow": null,
            "_model_module_version": "1.2.0",
            "_view_count": null,
            "flex_flow": null,
            "width": null,
            "min_width": null,
            "border": null,
            "align_items": null,
            "bottom": null,
            "_model_module": "@jupyter-widgets/base",
            "top": null,
            "grid_column": null,
            "overflow_y": null,
            "overflow_x": null,
            "grid_auto_flow": null,
            "grid_area": null,
            "grid_template_columns": null,
            "flex": null,
            "_model_name": "LayoutModel",
            "justify_items": null,
            "grid_row": null,
            "max_height": null,
            "align_content": null,
            "visibility": null,
            "align_self": null,
            "height": null,
            "min_height": null,
            "padding": null,
            "grid_auto_rows": null,
            "grid_gap": null,
            "max_width": null,
            "order": null,
            "_view_module_version": "1.2.0",
            "grid_template_areas": null,
            "object_position": null,
            "object_fit": null,
            "grid_auto_columns": null,
            "margin": null,
            "display": null,
            "left": null
          }
        },
        "b170dbca08b24cc782bb77995232827b": {
          "model_module": "@jupyter-widgets/controls",
          "model_name": "HBoxModel",
          "state": {
            "_view_name": "HBoxView",
            "_dom_classes": [],
            "_model_name": "HBoxModel",
            "_view_module": "@jupyter-widgets/controls",
            "_model_module_version": "1.5.0",
            "_view_count": null,
            "_view_module_version": "1.5.0",
            "box_style": "",
            "layout": "IPY_MODEL_dd6ee32b5fe54e798254aff0cb009110",
            "_model_module": "@jupyter-widgets/controls",
            "children": [
              "IPY_MODEL_644dd828e70a4cd896bd10a356fecd18",
              "IPY_MODEL_6d8156b7fbcb430c8f3e476b4f3c3754"
            ]
          }
        },
        "dd6ee32b5fe54e798254aff0cb009110": {
          "model_module": "@jupyter-widgets/base",
          "model_name": "LayoutModel",
          "state": {
            "_view_name": "LayoutView",
            "grid_template_rows": null,
            "right": null,
            "justify_content": null,
            "_view_module": "@jupyter-widgets/base",
            "overflow": null,
            "_model_module_version": "1.2.0",
            "_view_count": null,
            "flex_flow": null,
            "width": null,
            "min_width": null,
            "border": null,
            "align_items": null,
            "bottom": null,
            "_model_module": "@jupyter-widgets/base",
            "top": null,
            "grid_column": null,
            "overflow_y": null,
            "overflow_x": null,
            "grid_auto_flow": null,
            "grid_area": null,
            "grid_template_columns": null,
            "flex": null,
            "_model_name": "LayoutModel",
            "justify_items": null,
            "grid_row": null,
            "max_height": null,
            "align_content": null,
            "visibility": null,
            "align_self": null,
            "height": null,
            "min_height": null,
            "padding": null,
            "grid_auto_rows": null,
            "grid_gap": null,
            "max_width": null,
            "order": null,
            "_view_module_version": "1.2.0",
            "grid_template_areas": null,
            "object_position": null,
            "object_fit": null,
            "grid_auto_columns": null,
            "margin": null,
            "display": null,
            "left": null
          }
        },
        "644dd828e70a4cd896bd10a356fecd18": {
          "model_module": "@jupyter-widgets/controls",
          "model_name": "FloatProgressModel",
          "state": {
            "_view_name": "ProgressView",
            "style": "IPY_MODEL_4a632beabf2149d1a57a3c558f5cf06a",
            "_dom_classes": [],
            "description": "Epoch [4/5]: [685/685] 100%",
            "_model_name": "FloatProgressModel",
            "bar_style": "success",
            "max": 685,
            "_view_module": "@jupyter-widgets/controls",
            "_model_module_version": "1.5.0",
            "value": 685,
            "_view_count": null,
            "_view_module_version": "1.5.0",
            "orientation": "horizontal",
            "min": 0,
            "description_tooltip": null,
            "_model_module": "@jupyter-widgets/controls",
            "layout": "IPY_MODEL_4d998fdbf2714a49a29c1507dab43ffd"
          }
        },
        "6d8156b7fbcb430c8f3e476b4f3c3754": {
          "model_module": "@jupyter-widgets/controls",
          "model_name": "HTMLModel",
          "state": {
            "_view_name": "HTMLView",
            "style": "IPY_MODEL_93dbdf8c78c34dd8887c98c68e8477ac",
            "_dom_classes": [],
            "description": "",
            "_model_name": "HTMLModel",
            "placeholder": "​",
            "_view_module": "@jupyter-widgets/controls",
            "_model_module_version": "1.5.0",
            "value": ", loss=0.137 [05:59&lt;00:00]",
            "_view_count": null,
            "_view_module_version": "1.5.0",
            "description_tooltip": null,
            "_model_module": "@jupyter-widgets/controls",
            "layout": "IPY_MODEL_42389582db394958bab0cc6414b4a221"
          }
        },
        "4a632beabf2149d1a57a3c558f5cf06a": {
          "model_module": "@jupyter-widgets/controls",
          "model_name": "ProgressStyleModel",
          "state": {
            "_view_name": "StyleView",
            "_model_name": "ProgressStyleModel",
            "description_width": "initial",
            "_view_module": "@jupyter-widgets/base",
            "_model_module_version": "1.5.0",
            "_view_count": null,
            "_view_module_version": "1.2.0",
            "bar_color": null,
            "_model_module": "@jupyter-widgets/controls"
          }
        },
        "4d998fdbf2714a49a29c1507dab43ffd": {
          "model_module": "@jupyter-widgets/base",
          "model_name": "LayoutModel",
          "state": {
            "_view_name": "LayoutView",
            "grid_template_rows": null,
            "right": null,
            "justify_content": null,
            "_view_module": "@jupyter-widgets/base",
            "overflow": null,
            "_model_module_version": "1.2.0",
            "_view_count": null,
            "flex_flow": null,
            "width": null,
            "min_width": null,
            "border": null,
            "align_items": null,
            "bottom": null,
            "_model_module": "@jupyter-widgets/base",
            "top": null,
            "grid_column": null,
            "overflow_y": null,
            "overflow_x": null,
            "grid_auto_flow": null,
            "grid_area": null,
            "grid_template_columns": null,
            "flex": null,
            "_model_name": "LayoutModel",
            "justify_items": null,
            "grid_row": null,
            "max_height": null,
            "align_content": null,
            "visibility": null,
            "align_self": null,
            "height": null,
            "min_height": null,
            "padding": null,
            "grid_auto_rows": null,
            "grid_gap": null,
            "max_width": null,
            "order": null,
            "_view_module_version": "1.2.0",
            "grid_template_areas": null,
            "object_position": null,
            "object_fit": null,
            "grid_auto_columns": null,
            "margin": null,
            "display": null,
            "left": null
          }
        },
        "93dbdf8c78c34dd8887c98c68e8477ac": {
          "model_module": "@jupyter-widgets/controls",
          "model_name": "DescriptionStyleModel",
          "state": {
            "_view_name": "StyleView",
            "_model_name": "DescriptionStyleModel",
            "description_width": "",
            "_view_module": "@jupyter-widgets/base",
            "_model_module_version": "1.5.0",
            "_view_count": null,
            "_view_module_version": "1.2.0",
            "_model_module": "@jupyter-widgets/controls"
          }
        },
        "42389582db394958bab0cc6414b4a221": {
          "model_module": "@jupyter-widgets/base",
          "model_name": "LayoutModel",
          "state": {
            "_view_name": "LayoutView",
            "grid_template_rows": null,
            "right": null,
            "justify_content": null,
            "_view_module": "@jupyter-widgets/base",
            "overflow": null,
            "_model_module_version": "1.2.0",
            "_view_count": null,
            "flex_flow": null,
            "width": null,
            "min_width": null,
            "border": null,
            "align_items": null,
            "bottom": null,
            "_model_module": "@jupyter-widgets/base",
            "top": null,
            "grid_column": null,
            "overflow_y": null,
            "overflow_x": null,
            "grid_auto_flow": null,
            "grid_area": null,
            "grid_template_columns": null,
            "flex": null,
            "_model_name": "LayoutModel",
            "justify_items": null,
            "grid_row": null,
            "max_height": null,
            "align_content": null,
            "visibility": null,
            "align_self": null,
            "height": null,
            "min_height": null,
            "padding": null,
            "grid_auto_rows": null,
            "grid_gap": null,
            "max_width": null,
            "order": null,
            "_view_module_version": "1.2.0",
            "grid_template_areas": null,
            "object_position": null,
            "object_fit": null,
            "grid_auto_columns": null,
            "margin": null,
            "display": null,
            "left": null
          }
        },
        "ca3efea4fc674aeab3cc42b1826596a1": {
          "model_module": "@jupyter-widgets/controls",
          "model_name": "HBoxModel",
          "state": {
            "_view_name": "HBoxView",
            "_dom_classes": [],
            "_model_name": "HBoxModel",
            "_view_module": "@jupyter-widgets/controls",
            "_model_module_version": "1.5.0",
            "_view_count": null,
            "_view_module_version": "1.5.0",
            "box_style": "",
            "layout": "IPY_MODEL_96705cb3b61e400ca9fadca42650aa92",
            "_model_module": "@jupyter-widgets/controls",
            "children": [
              "IPY_MODEL_8a75bd3a39874b76b6c77ac991c555de",
              "IPY_MODEL_fb804ee0aa46484ea09d3fd0209cd87f"
            ]
          }
        },
        "96705cb3b61e400ca9fadca42650aa92": {
          "model_module": "@jupyter-widgets/base",
          "model_name": "LayoutModel",
          "state": {
            "_view_name": "LayoutView",
            "grid_template_rows": null,
            "right": null,
            "justify_content": null,
            "_view_module": "@jupyter-widgets/base",
            "overflow": null,
            "_model_module_version": "1.2.0",
            "_view_count": null,
            "flex_flow": null,
            "width": null,
            "min_width": null,
            "border": null,
            "align_items": null,
            "bottom": null,
            "_model_module": "@jupyter-widgets/base",
            "top": null,
            "grid_column": null,
            "overflow_y": null,
            "overflow_x": null,
            "grid_auto_flow": null,
            "grid_area": null,
            "grid_template_columns": null,
            "flex": null,
            "_model_name": "LayoutModel",
            "justify_items": null,
            "grid_row": null,
            "max_height": null,
            "align_content": null,
            "visibility": null,
            "align_self": null,
            "height": null,
            "min_height": null,
            "padding": null,
            "grid_auto_rows": null,
            "grid_gap": null,
            "max_width": null,
            "order": null,
            "_view_module_version": "1.2.0",
            "grid_template_areas": null,
            "object_position": null,
            "object_fit": null,
            "grid_auto_columns": null,
            "margin": null,
            "display": null,
            "left": null
          }
        },
        "8a75bd3a39874b76b6c77ac991c555de": {
          "model_module": "@jupyter-widgets/controls",
          "model_name": "FloatProgressModel",
          "state": {
            "_view_name": "ProgressView",
            "style": "IPY_MODEL_652cc3feff024798a781c20911cabc32",
            "_dom_classes": [],
            "description": "Epoch [5/5]: [685/685] 100%",
            "_model_name": "FloatProgressModel",
            "bar_style": "success",
            "max": 685,
            "_view_module": "@jupyter-widgets/controls",
            "_model_module_version": "1.5.0",
            "value": 685,
            "_view_count": null,
            "_view_module_version": "1.5.0",
            "orientation": "horizontal",
            "min": 0,
            "description_tooltip": null,
            "_model_module": "@jupyter-widgets/controls",
            "layout": "IPY_MODEL_c8317b52c6824a7fb63bed1343d9402c"
          }
        },
        "fb804ee0aa46484ea09d3fd0209cd87f": {
          "model_module": "@jupyter-widgets/controls",
          "model_name": "HTMLModel",
          "state": {
            "_view_name": "HTMLView",
            "style": "IPY_MODEL_365e5844954c4642b13ce504691a2ccf",
            "_dom_classes": [],
            "description": "",
            "_model_name": "HTMLModel",
            "placeholder": "​",
            "_view_module": "@jupyter-widgets/controls",
            "_model_module_version": "1.5.0",
            "value": ", loss=0.133 [05:59&lt;00:00]",
            "_view_count": null,
            "_view_module_version": "1.5.0",
            "description_tooltip": null,
            "_model_module": "@jupyter-widgets/controls",
            "layout": "IPY_MODEL_e36ed003be3b4a2ab8e88ab4c49d147e"
          }
        },
        "652cc3feff024798a781c20911cabc32": {
          "model_module": "@jupyter-widgets/controls",
          "model_name": "ProgressStyleModel",
          "state": {
            "_view_name": "StyleView",
            "_model_name": "ProgressStyleModel",
            "description_width": "initial",
            "_view_module": "@jupyter-widgets/base",
            "_model_module_version": "1.5.0",
            "_view_count": null,
            "_view_module_version": "1.2.0",
            "bar_color": null,
            "_model_module": "@jupyter-widgets/controls"
          }
        },
        "c8317b52c6824a7fb63bed1343d9402c": {
          "model_module": "@jupyter-widgets/base",
          "model_name": "LayoutModel",
          "state": {
            "_view_name": "LayoutView",
            "grid_template_rows": null,
            "right": null,
            "justify_content": null,
            "_view_module": "@jupyter-widgets/base",
            "overflow": null,
            "_model_module_version": "1.2.0",
            "_view_count": null,
            "flex_flow": null,
            "width": null,
            "min_width": null,
            "border": null,
            "align_items": null,
            "bottom": null,
            "_model_module": "@jupyter-widgets/base",
            "top": null,
            "grid_column": null,
            "overflow_y": null,
            "overflow_x": null,
            "grid_auto_flow": null,
            "grid_area": null,
            "grid_template_columns": null,
            "flex": null,
            "_model_name": "LayoutModel",
            "justify_items": null,
            "grid_row": null,
            "max_height": null,
            "align_content": null,
            "visibility": null,
            "align_self": null,
            "height": null,
            "min_height": null,
            "padding": null,
            "grid_auto_rows": null,
            "grid_gap": null,
            "max_width": null,
            "order": null,
            "_view_module_version": "1.2.0",
            "grid_template_areas": null,
            "object_position": null,
            "object_fit": null,
            "grid_auto_columns": null,
            "margin": null,
            "display": null,
            "left": null
          }
        },
        "365e5844954c4642b13ce504691a2ccf": {
          "model_module": "@jupyter-widgets/controls",
          "model_name": "DescriptionStyleModel",
          "state": {
            "_view_name": "StyleView",
            "_model_name": "DescriptionStyleModel",
            "description_width": "",
            "_view_module": "@jupyter-widgets/base",
            "_model_module_version": "1.5.0",
            "_view_count": null,
            "_view_module_version": "1.2.0",
            "_model_module": "@jupyter-widgets/controls"
          }
        },
        "e36ed003be3b4a2ab8e88ab4c49d147e": {
          "model_module": "@jupyter-widgets/base",
          "model_name": "LayoutModel",
          "state": {
            "_view_name": "LayoutView",
            "grid_template_rows": null,
            "right": null,
            "justify_content": null,
            "_view_module": "@jupyter-widgets/base",
            "overflow": null,
            "_model_module_version": "1.2.0",
            "_view_count": null,
            "flex_flow": null,
            "width": null,
            "min_width": null,
            "border": null,
            "align_items": null,
            "bottom": null,
            "_model_module": "@jupyter-widgets/base",
            "top": null,
            "grid_column": null,
            "overflow_y": null,
            "overflow_x": null,
            "grid_auto_flow": null,
            "grid_area": null,
            "grid_template_columns": null,
            "flex": null,
            "_model_name": "LayoutModel",
            "justify_items": null,
            "grid_row": null,
            "max_height": null,
            "align_content": null,
            "visibility": null,
            "align_self": null,
            "height": null,
            "min_height": null,
            "padding": null,
            "grid_auto_rows": null,
            "grid_gap": null,
            "max_width": null,
            "order": null,
            "_view_module_version": "1.2.0",
            "grid_template_areas": null,
            "object_position": null,
            "object_fit": null,
            "grid_auto_columns": null,
            "margin": null,
            "display": null,
            "left": null
          }
        },
        "cccd94e2b48b430591137a4387f9f8d8": {
          "model_module": "@jupyter-widgets/controls",
          "model_name": "VBoxModel",
          "state": {
            "_view_name": "VBoxView",
            "_dom_classes": [],
            "_model_name": "VBoxModel",
            "_view_module": "@jupyter-widgets/controls",
            "_model_module_version": "1.5.0",
            "_view_count": null,
            "_view_module_version": "1.5.0",
            "box_style": "",
            "layout": "IPY_MODEL_873c116cfb574994982b8da66579e5ff",
            "_model_module": "@jupyter-widgets/controls",
            "children": [
              "IPY_MODEL_1bebc29509994fac8cc10582eedc4e9d",
              "IPY_MODEL_78a5c44f5c4a421ea6b0e7679f8942c1"
            ]
          }
        },
        "873c116cfb574994982b8da66579e5ff": {
          "model_module": "@jupyter-widgets/base",
          "model_name": "LayoutModel",
          "state": {
            "_view_name": "LayoutView",
            "grid_template_rows": null,
            "right": null,
            "justify_content": null,
            "_view_module": "@jupyter-widgets/base",
            "overflow": null,
            "_model_module_version": "1.2.0",
            "_view_count": null,
            "flex_flow": null,
            "width": null,
            "min_width": null,
            "border": null,
            "align_items": null,
            "bottom": null,
            "_model_module": "@jupyter-widgets/base",
            "top": null,
            "grid_column": null,
            "overflow_y": null,
            "overflow_x": null,
            "grid_auto_flow": null,
            "grid_area": null,
            "grid_template_columns": null,
            "flex": null,
            "_model_name": "LayoutModel",
            "justify_items": null,
            "grid_row": null,
            "max_height": null,
            "align_content": null,
            "visibility": null,
            "align_self": null,
            "height": null,
            "min_height": null,
            "padding": null,
            "grid_auto_rows": null,
            "grid_gap": null,
            "max_width": null,
            "order": null,
            "_view_module_version": "1.2.0",
            "grid_template_areas": null,
            "object_position": null,
            "object_fit": null,
            "grid_auto_columns": null,
            "margin": null,
            "display": null,
            "left": null
          }
        },
        "1bebc29509994fac8cc10582eedc4e9d": {
          "model_module": "@jupyter-widgets/controls",
          "model_name": "HBoxModel",
          "state": {
            "_view_name": "HBoxView",
            "_dom_classes": [],
            "_model_name": "HBoxModel",
            "_view_module": "@jupyter-widgets/controls",
            "_model_module_version": "1.5.0",
            "_view_count": null,
            "_view_module_version": "1.5.0",
            "box_style": "",
            "layout": "IPY_MODEL_b475213106ef4c33bf49d5f9b88b8654",
            "_model_module": "@jupyter-widgets/controls",
            "children": [
              "IPY_MODEL_be983320b288479f9f382070bf2b7e8f",
              "IPY_MODEL_e03e6fd2f5504e1b83de38fa234280a6"
            ]
          }
        },
        "78a5c44f5c4a421ea6b0e7679f8942c1": {
          "model_module": "@jupyter-widgets/controls",
          "model_name": "TabModel",
          "state": {
            "_view_name": "TabView",
            "_dom_classes": [],
            "_titles": {
              "0": "Summary Table",
              "1": "Trend Chart"
            },
            "_model_name": "TabModel",
            "_view_module": "@jupyter-widgets/controls",
            "selected_index": 1,
            "_model_module_version": "1.5.0",
            "_view_count": null,
            "_view_module_version": "1.5.0",
            "box_style": "",
            "layout": "IPY_MODEL_b68aca1d85af47a6a400d571a42afea7",
            "_model_module": "@jupyter-widgets/controls",
            "children": [
              "IPY_MODEL_ab14cc5fa6974442b0d908a72a037f1a",
              "IPY_MODEL_40a078da483f41fcb734911d7404a03d"
            ]
          }
        },
        "b475213106ef4c33bf49d5f9b88b8654": {
          "model_module": "@jupyter-widgets/base",
          "model_name": "LayoutModel",
          "state": {
            "_view_name": "LayoutView",
            "grid_template_rows": null,
            "right": null,
            "justify_content": "space-between",
            "_view_module": "@jupyter-widgets/base",
            "overflow": null,
            "_model_module_version": "1.2.0",
            "_view_count": null,
            "flex_flow": null,
            "width": "60%",
            "min_width": null,
            "border": null,
            "align_items": null,
            "bottom": null,
            "_model_module": "@jupyter-widgets/base",
            "top": null,
            "grid_column": null,
            "overflow_y": null,
            "overflow_x": null,
            "grid_auto_flow": null,
            "grid_area": null,
            "grid_template_columns": null,
            "flex": null,
            "_model_name": "LayoutModel",
            "justify_items": null,
            "grid_row": null,
            "max_height": null,
            "align_content": null,
            "visibility": null,
            "align_self": null,
            "height": null,
            "min_height": null,
            "padding": null,
            "grid_auto_rows": null,
            "grid_gap": null,
            "max_width": null,
            "order": null,
            "_view_module_version": "1.2.0",
            "grid_template_areas": null,
            "object_position": null,
            "object_fit": null,
            "grid_auto_columns": null,
            "margin": "0 0 50px 0",
            "display": null,
            "left": null
          }
        },
        "be983320b288479f9f382070bf2b7e8f": {
          "model_module": "@jupyter-widgets/controls",
          "model_name": "DropdownModel",
          "state": {
            "_options_labels": [
              "ALL",
              "apparel",
              "automotive",
              "baby",
              "beauty",
              "books",
              "camera & photo",
              "cell phones & service",
              "computer & video games",
              "dvd",
              "electronics",
              "gourmet food",
              "grocery",
              "health & personal care",
              "jewelry & watches",
              "kitchen & housewares",
              "magazines",
              "music",
              "musical instruments",
              "office products",
              "outdoor living",
              "software",
              "sports & outdoors",
              "tools & hardware",
              "toys & games",
              "video"
            ],
            "_view_name": "DropdownView",
            "style": "IPY_MODEL_6577407f375b4cff832c9a70352a59ed",
            "_dom_classes": [],
            "description": "Product Type: ",
            "_model_name": "DropdownModel",
            "index": 0,
            "_view_module": "@jupyter-widgets/controls",
            "_model_module_version": "1.5.0",
            "_view_count": null,
            "disabled": false,
            "_view_module_version": "1.5.0",
            "description_tooltip": null,
            "_model_module": "@jupyter-widgets/controls",
            "layout": "IPY_MODEL_401c3deea4d746409b5207d9d8e03346"
          }
        },
        "e03e6fd2f5504e1b83de38fa234280a6": {
          "model_module": "@jupyter-widgets/controls",
          "model_name": "DropdownModel",
          "state": {
            "_options_labels": [
              "ALL",
              "1997",
              "1998",
              "1999",
              "2000",
              "2001",
              "2002",
              "2003",
              "2004",
              "2005",
              "2006",
              "2007"
            ],
            "_view_name": "DropdownView",
            "style": "IPY_MODEL_c07bc06f5f2e4562810f6cb371f4526e",
            "_dom_classes": [],
            "description": "Year: ",
            "_model_name": "DropdownModel",
            "index": 9,
            "_view_module": "@jupyter-widgets/controls",
            "_model_module_version": "1.5.0",
            "_view_count": null,
            "disabled": false,
            "_view_module_version": "1.5.0",
            "description_tooltip": null,
            "_model_module": "@jupyter-widgets/controls",
            "layout": "IPY_MODEL_30a08e83530f46a6a8928513efff4147"
          }
        },
        "b68aca1d85af47a6a400d571a42afea7": {
          "model_module": "@jupyter-widgets/base",
          "model_name": "LayoutModel",
          "state": {
            "_view_name": "LayoutView",
            "grid_template_rows": null,
            "right": null,
            "justify_content": null,
            "_view_module": "@jupyter-widgets/base",
            "overflow": null,
            "_model_module_version": "1.2.0",
            "_view_count": null,
            "flex_flow": null,
            "width": null,
            "min_width": null,
            "border": null,
            "align_items": null,
            "bottom": null,
            "_model_module": "@jupyter-widgets/base",
            "top": null,
            "grid_column": null,
            "overflow_y": null,
            "overflow_x": null,
            "grid_auto_flow": null,
            "grid_area": null,
            "grid_template_columns": null,
            "flex": null,
            "_model_name": "LayoutModel",
            "justify_items": null,
            "grid_row": null,
            "max_height": null,
            "align_content": null,
            "visibility": null,
            "align_self": null,
            "height": null,
            "min_height": null,
            "padding": null,
            "grid_auto_rows": null,
            "grid_gap": null,
            "max_width": null,
            "order": null,
            "_view_module_version": "1.2.0",
            "grid_template_areas": null,
            "object_position": null,
            "object_fit": null,
            "grid_auto_columns": null,
            "margin": null,
            "display": null,
            "left": null
          }
        },
        "ab14cc5fa6974442b0d908a72a037f1a": {
          "model_module": "@jupyter-widgets/output",
          "model_name": "OutputModel",
          "state": {
            "_view_name": "OutputView",
            "msg_id": "",
            "_dom_classes": [],
            "_model_name": "OutputModel",
            "outputs": [
              {
                "output_type": "stream",
                "metadata": {
                  "tags": []
                },
                "text": "\n\n",
                "stream": "stdout"
              },
              {
                "output_type": "display_data",
                "metadata": {
                  "tags": []
                },
                "text/html": "<div>\n<style scoped>\n    .dataframe tbody tr th:only-of-type {\n        vertical-align: middle;\n    }\n\n    .dataframe tbody tr th {\n        vertical-align: top;\n    }\n\n    .dataframe thead th {\n        text-align: right;\n    }\n</style>\n<table border=\"1\" class=\"dataframe\">\n  <thead>\n    <tr style=\"text-align: right;\">\n      <th></th>\n      <th>Date</th>\n      <th>Number of Reviews</th>\n      <th>Average Sentiment</th>\n    </tr>\n  </thead>\n  <tbody>\n    <tr>\n      <th>4</th>\n      <td>Jan-2005</td>\n      <td>40</td>\n      <td>-2.935147</td>\n    </tr>\n    <tr>\n      <th>3</th>\n      <td>Feb-2005</td>\n      <td>19</td>\n      <td>6.318375</td>\n    </tr>\n    <tr>\n      <th>7</th>\n      <td>Mar-2005</td>\n      <td>32</td>\n      <td>-5.465987</td>\n    </tr>\n    <tr>\n      <th>0</th>\n      <td>Apr-2005</td>\n      <td>28</td>\n      <td>34.391787</td>\n    </tr>\n    <tr>\n      <th>8</th>\n      <td>May-2005</td>\n      <td>25</td>\n      <td>-3.477118</td>\n    </tr>\n    <tr>\n      <th>6</th>\n      <td>Jun-2005</td>\n      <td>22</td>\n      <td>19.644132</td>\n    </tr>\n    <tr>\n      <th>5</th>\n      <td>Jul-2005</td>\n      <td>47</td>\n      <td>28.940246</td>\n    </tr>\n    <tr>\n      <th>1</th>\n      <td>Aug-2005</td>\n      <td>57</td>\n      <td>20.071352</td>\n    </tr>\n    <tr>\n      <th>11</th>\n      <td>Sep-2005</td>\n      <td>60</td>\n      <td>27.889152</td>\n    </tr>\n    <tr>\n      <th>10</th>\n      <td>Oct-2005</td>\n      <td>57</td>\n      <td>16.678949</td>\n    </tr>\n    <tr>\n      <th>9</th>\n      <td>Nov-2005</td>\n      <td>55</td>\n      <td>-13.436568</td>\n    </tr>\n    <tr>\n      <th>2</th>\n      <td>Dec-2005</td>\n      <td>78</td>\n      <td>0.715120</td>\n    </tr>\n  </tbody>\n</table>\n</div>",
                "text/plain": "        Date  Number of Reviews  Average Sentiment\n4   Jan-2005                 40          -2.935147\n3   Feb-2005                 19           6.318375\n7   Mar-2005                 32          -5.465987\n0   Apr-2005                 28          34.391787\n8   May-2005                 25          -3.477118\n6   Jun-2005                 22          19.644132\n5   Jul-2005                 47          28.940246\n1   Aug-2005                 57          20.071352\n11  Sep-2005                 60          27.889152\n10  Oct-2005                 57          16.678949\n9   Nov-2005                 55         -13.436568\n2   Dec-2005                 78           0.715120"
              },
              {
                "output_type": "stream",
                "metadata": {
                  "tags": []
                },
                "text": "\n\n\n",
                "stream": "stdout"
              }
            ],
            "_view_module": "@jupyter-widgets/output",
            "_model_module_version": "1.0.0",
            "_view_count": null,
            "_view_module_version": "1.0.0",
            "layout": "IPY_MODEL_a501d065f08c41ceb72e580e6142349a",
            "_model_module": "@jupyter-widgets/output"
          }
        },
        "40a078da483f41fcb734911d7404a03d": {
          "model_module": "@jupyter-widgets/output",
          "model_name": "OutputModel",
          "state": {
            "_view_name": "OutputView",
            "msg_id": "",
            "_dom_classes": [],
            "_model_name": "OutputModel",
            "outputs": [
              {
                "output_type": "display_data",
                "metadata": {
                  "tags": [],
                  "needs_background": "light"
                },
                "image/png": "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\n",
                "text/plain": "<Figure size 1080x720 with 2 Axes>"
              }
            ],
            "_view_module": "@jupyter-widgets/output",
            "_model_module_version": "1.0.0",
            "_view_count": null,
            "_view_module_version": "1.0.0",
            "layout": "IPY_MODEL_b36328602f4a4e649462729c22878216",
            "_model_module": "@jupyter-widgets/output"
          }
        },
        "6577407f375b4cff832c9a70352a59ed": {
          "model_module": "@jupyter-widgets/controls",
          "model_name": "DescriptionStyleModel",
          "state": {
            "_view_name": "StyleView",
            "_model_name": "DescriptionStyleModel",
            "description_width": "",
            "_view_module": "@jupyter-widgets/base",
            "_model_module_version": "1.5.0",
            "_view_count": null,
            "_view_module_version": "1.2.0",
            "_model_module": "@jupyter-widgets/controls"
          }
        },
        "401c3deea4d746409b5207d9d8e03346": {
          "model_module": "@jupyter-widgets/base",
          "model_name": "LayoutModel",
          "state": {
            "_view_name": "LayoutView",
            "grid_template_rows": null,
            "right": null,
            "justify_content": null,
            "_view_module": "@jupyter-widgets/base",
            "overflow": null,
            "_model_module_version": "1.2.0",
            "_view_count": null,
            "flex_flow": null,
            "width": null,
            "min_width": null,
            "border": null,
            "align_items": null,
            "bottom": null,
            "_model_module": "@jupyter-widgets/base",
            "top": null,
            "grid_column": null,
            "overflow_y": null,
            "overflow_x": null,
            "grid_auto_flow": null,
            "grid_area": null,
            "grid_template_columns": null,
            "flex": null,
            "_model_name": "LayoutModel",
            "justify_items": null,
            "grid_row": null,
            "max_height": null,
            "align_content": null,
            "visibility": null,
            "align_self": null,
            "height": null,
            "min_height": null,
            "padding": null,
            "grid_auto_rows": null,
            "grid_gap": null,
            "max_width": null,
            "order": null,
            "_view_module_version": "1.2.0",
            "grid_template_areas": null,
            "object_position": null,
            "object_fit": null,
            "grid_auto_columns": null,
            "margin": null,
            "display": null,
            "left": null
          }
        },
        "c07bc06f5f2e4562810f6cb371f4526e": {
          "model_module": "@jupyter-widgets/controls",
          "model_name": "DescriptionStyleModel",
          "state": {
            "_view_name": "StyleView",
            "_model_name": "DescriptionStyleModel",
            "description_width": "",
            "_view_module": "@jupyter-widgets/base",
            "_model_module_version": "1.5.0",
            "_view_count": null,
            "_view_module_version": "1.2.0",
            "_model_module": "@jupyter-widgets/controls"
          }
        },
        "30a08e83530f46a6a8928513efff4147": {
          "model_module": "@jupyter-widgets/base",
          "model_name": "LayoutModel",
          "state": {
            "_view_name": "LayoutView",
            "grid_template_rows": null,
            "right": null,
            "justify_content": null,
            "_view_module": "@jupyter-widgets/base",
            "overflow": null,
            "_model_module_version": "1.2.0",
            "_view_count": null,
            "flex_flow": null,
            "width": null,
            "min_width": null,
            "border": null,
            "align_items": null,
            "bottom": null,
            "_model_module": "@jupyter-widgets/base",
            "top": null,
            "grid_column": null,
            "overflow_y": null,
            "overflow_x": null,
            "grid_auto_flow": null,
            "grid_area": null,
            "grid_template_columns": null,
            "flex": null,
            "_model_name": "LayoutModel",
            "justify_items": null,
            "grid_row": null,
            "max_height": null,
            "align_content": null,
            "visibility": null,
            "align_self": null,
            "height": null,
            "min_height": null,
            "padding": null,
            "grid_auto_rows": null,
            "grid_gap": null,
            "max_width": null,
            "order": null,
            "_view_module_version": "1.2.0",
            "grid_template_areas": null,
            "object_position": null,
            "object_fit": null,
            "grid_auto_columns": null,
            "margin": null,
            "display": null,
            "left": null
          }
        },
        "a501d065f08c41ceb72e580e6142349a": {
          "model_module": "@jupyter-widgets/base",
          "model_name": "LayoutModel",
          "state": {
            "_view_name": "LayoutView",
            "grid_template_rows": null,
            "right": null,
            "justify_content": null,
            "_view_module": "@jupyter-widgets/base",
            "overflow": null,
            "_model_module_version": "1.2.0",
            "_view_count": null,
            "flex_flow": null,
            "width": null,
            "min_width": null,
            "border": null,
            "align_items": null,
            "bottom": null,
            "_model_module": "@jupyter-widgets/base",
            "top": null,
            "grid_column": null,
            "overflow_y": null,
            "overflow_x": null,
            "grid_auto_flow": null,
            "grid_area": null,
            "grid_template_columns": null,
            "flex": null,
            "_model_name": "LayoutModel",
            "justify_items": null,
            "grid_row": null,
            "max_height": null,
            "align_content": null,
            "visibility": null,
            "align_self": null,
            "height": null,
            "min_height": null,
            "padding": null,
            "grid_auto_rows": null,
            "grid_gap": null,
            "max_width": null,
            "order": null,
            "_view_module_version": "1.2.0",
            "grid_template_areas": null,
            "object_position": null,
            "object_fit": null,
            "grid_auto_columns": null,
            "margin": null,
            "display": null,
            "left": null
          }
        },
        "b36328602f4a4e649462729c22878216": {
          "model_module": "@jupyter-widgets/base",
          "model_name": "LayoutModel",
          "state": {
            "_view_name": "LayoutView",
            "grid_template_rows": null,
            "right": null,
            "justify_content": null,
            "_view_module": "@jupyter-widgets/base",
            "overflow": null,
            "_model_module_version": "1.2.0",
            "_view_count": null,
            "flex_flow": null,
            "width": null,
            "min_width": null,
            "border": null,
            "align_items": null,
            "bottom": null,
            "_model_module": "@jupyter-widgets/base",
            "top": null,
            "grid_column": null,
            "overflow_y": null,
            "overflow_x": null,
            "grid_auto_flow": null,
            "grid_area": null,
            "grid_template_columns": null,
            "flex": null,
            "_model_name": "LayoutModel",
            "justify_items": null,
            "grid_row": null,
            "max_height": null,
            "align_content": null,
            "visibility": null,
            "align_self": null,
            "height": null,
            "min_height": null,
            "padding": null,
            "grid_auto_rows": null,
            "grid_gap": null,
            "max_width": null,
            "order": null,
            "_view_module_version": "1.2.0",
            "grid_template_areas": null,
            "object_position": null,
            "object_fit": null,
            "grid_auto_columns": null,
            "margin": null,
            "display": null,
            "left": null
          }
        }
      }
    }
  },
  "cells": [
    {
      "cell_type": "markdown",
      "metadata": {
        "id": "view-in-github",
        "colab_type": "text"
      },
      "source": [
        "<a href=\"https://colab.research.google.com/github/VidushiBhatia/Mining-Opinions-using-Transformers-PyTorch/blob/main/Mining_Opinions_to_Predict_Customer_Trends_using_Transformers_PyTorch.ipynb\" target=\"_parent\"><img src=\"https://colab.research.google.com/assets/colab-badge.svg\" alt=\"Open In Colab\"/></a>"
      ]
    },
    {
      "cell_type": "markdown",
      "metadata": {
        "id": "DxI_zCTVXAmJ"
      },
      "source": [
        "# ***Mining Opinions to Predict Customer Trends*** <br> *(Transfer Learning and Fine Tuning of Transformers in PyTorch)*\n",
        "\n",
        "\n",
        "\n",
        "---\n",
        "\n"
      ]
    },
    {
      "cell_type": "markdown",
      "metadata": {
        "id": "iVcMfKwXTOjg"
      },
      "source": [
        "### Overview\n",
        "\n",
        "* **Objective**: Observe trends in change of opinions / interest of customers for different product types across time. At brand level, can also be used for brand value monitoring and competitor analysis.\n",
        "\n",
        "* **Dataset used**: 'Unprocessed' tar file from [Multi-Domain Sentiment Dataset (version 2.0)](https://www.cs.jhu.edu/~mdredze/datasets/sentiment/)"
      ]
    },
    {
      "cell_type": "markdown",
      "metadata": {
        "id": "MJKmSS6r64ma"
      },
      "source": [
        "### 1 - Packages"
      ]
    },
    {
      "cell_type": "code",
      "metadata": {
        "id": "iqDU7OcbI7RV"
      },
      "source": [
        "# Install for using ignite\n",
        "# !pip install torch==1.8.1 pytorch-transformers pytorch-ignite"
      ],
      "execution_count": 171,
      "outputs": []
    },
    {
      "cell_type": "code",
      "metadata": {
        "id": "hEd1F-E26-Me"
      },
      "source": [
        "import os                                        # allows to interact with the underlying operating system, access directories and update paths\n",
        "import tarfile                                   # the input dataset is a tar file, this package helps in reading it\n",
        "from bs4 import BeautifulSoup                    # the tar files contain XML datasets, this package helps pulling and manipulating that data\n",
        "import pandas as pd                              # helps in creating dataframes from the input data\n",
        "import regex as re                               # for text processing\n",
        "import string                                    # for text processing\n",
        "import numpy as np                               # for using numpy arrays\n",
        "\n",
        "# Relevant torch packages for transfer learning and fine tuning \n",
        "import torch\n",
        "from torch.utils.data import TensorDataset, random_split, DataLoader\n",
        "from pytorch_transformers import BertTokenizer\n",
        "from pytorch_transformers.optimization import AdamW\n",
        "import torch.nn as nn\n",
        "import torch.nn.functional as F\n",
        "from ignite.engine import Engine, Events\n",
        "from ignite.metrics import RunningAverage, Accuracy \n",
        "from ignite.handlers import ModelCheckpoint\n",
        "from ignite.contrib.handlers import CosineAnnealingScheduler, PiecewiseLinear, create_lr_scheduler_with_warmup, ProgressBar\n",
        "from pytorch_transformers import cached_path\n",
        "\n",
        "# Data structures\n",
        "from collections import namedtuple\n",
        "from typing import Tuple\n",
        "\n",
        "# Other packages for parallel processing\n",
        "from concurrent.futures import ProcessPoolExecutor\n",
        "from multiprocessing import cpu_count\n",
        "\n",
        "from tqdm.notebook import tqdm                   # for progress bars\n",
        "from itertools import repeat                     # creates memory space for one variable and repeats iterations using that variable\n",
        "# from tqdm import tqdm\n",
        "# import warnings\n",
        "\n",
        "import ipywidgets\n",
        "from IPython.display import display, clear_output\n",
        "from ipywidgets import Layout\n",
        "import matplotlib.pyplot as plt\n",
        "import matplotlib.ticker as ticker\n",
        "\n"
      ],
      "execution_count": 172,
      "outputs": []
    },
    {
      "cell_type": "code",
      "metadata": {
        "colab": {
          "base_uri": "https://localhost:8080/"
        },
        "id": "d23cjNrDIrJi",
        "outputId": "6ebdba5a-1489-436a-8095-0b9206fa0946"
      },
      "source": [
        "# Check if GPU is running\n",
        "!nvidia-smi"
      ],
      "execution_count": 173,
      "outputs": [
        {
          "output_type": "stream",
          "text": [
            "Tue Jul  6 18:32:44 2021       \n",
            "+-----------------------------------------------------------------------------+\n",
            "| NVIDIA-SMI 465.27       Driver Version: 460.32.03    CUDA Version: 11.2     |\n",
            "|-------------------------------+----------------------+----------------------+\n",
            "| GPU  Name        Persistence-M| Bus-Id        Disp.A | Volatile Uncorr. ECC |\n",
            "| Fan  Temp  Perf  Pwr:Usage/Cap|         Memory-Usage | GPU-Util  Compute M. |\n",
            "|                               |                      |               MIG M. |\n",
            "|===============================+======================+======================|\n",
            "|   0  Tesla P100-PCIE...  Off  | 00000000:00:04.0 Off |                    0 |\n",
            "| N/A   51C    P0    37W / 250W |  10191MiB / 16280MiB |      0%      Default |\n",
            "|                               |                      |                  N/A |\n",
            "+-------------------------------+----------------------+----------------------+\n",
            "                                                                               \n",
            "+-----------------------------------------------------------------------------+\n",
            "| Processes:                                                                  |\n",
            "|  GPU   GI   CI        PID   Type   Process name                  GPU Memory |\n",
            "|        ID   ID                                                   Usage      |\n",
            "|=============================================================================|\n",
            "+-----------------------------------------------------------------------------+\n"
          ],
          "name": "stdout"
        }
      ]
    },
    {
      "cell_type": "markdown",
      "metadata": {
        "id": "Py64E4jm7tnI"
      },
      "source": [
        "### 2 - Load XML to a Dataframe\n",
        "\n",
        "The dataset used for this notebook has multiple positive and negative review files compressed into a tar format. To get a dataframe with x and y values (text and sentiment labels respectively), we need to execute the following:\n",
        "1. Extract relevant files from tar\n",
        "2. Covert XML tree into a dataframe for relevant elements\n",
        "3. Create a train and test set with processed x and y values\n"
      ]
    },
    {
      "cell_type": "code",
      "metadata": {
        "colab": {
          "base_uri": "https://localhost:8080/"
        },
        "id": "j0xk-ASM8jMj",
        "outputId": "f414e13d-2888-4aab-866b-1eee0f1ed57f"
      },
      "source": [
        "from google.colab import drive\n",
        "drive.mount('/content/drive')"
      ],
      "execution_count": 174,
      "outputs": [
        {
          "output_type": "stream",
          "text": [
            "Drive already mounted at /content/drive; to attempt to forcibly remount, call drive.mount(\"/content/drive\", force_remount=True).\n"
          ],
          "name": "stdout"
        }
      ]
    },
    {
      "cell_type": "code",
      "metadata": {
        "id": "-BZxLgVDUX6b"
      },
      "source": [
        "# Helper Function 1: Extract XML data from tar files\n",
        "def ExtractContent(path):\n",
        "  tar = tarfile.open(path,'r' )\n",
        "  \n",
        "  # Find relevant file names\n",
        "  files = [name for name in tar.getnames()]\n",
        "  pos_files = []\n",
        "  neg_files = []\n",
        "  for file in files:\n",
        "    if file.endswith('positive.review'): \n",
        "      pos_files.append(file)\n",
        "    if file.endswith('negative.review'):\n",
        "      neg_files.append(file)\n",
        "\n",
        "  # Extract Positive and Negative reviews\n",
        "  pos_content = []\n",
        "  for file in pos_files:\n",
        "    extracted_file = tar.extractfile(file)\n",
        "    content = extracted_file.read()\n",
        "    pos_content.append(content)\n",
        "\n",
        "  neg_content = []\n",
        "  for file in neg_files:\n",
        "    extracted_file = tar.extractfile(file)\n",
        "    content = extracted_file.read()\n",
        "    neg_content.append(content)\n",
        "  return pos_content, neg_content"
      ],
      "execution_count": 175,
      "outputs": []
    },
    {
      "cell_type": "code",
      "metadata": {
        "id": "GQLfztLSmrR0"
      },
      "source": [
        "# Helper Function 2: Create a dataframe from XML file\n",
        "def CreateDF(content_list):\n",
        "  # Check the exhaustive list of elements with soup.find_all() and create a dataframe with only relevant columns\n",
        "  # columns = ['unique_id','asin','product_name','product_type','helpful','rating','title','date','reviewer','reviewer_location','review_text']\n",
        "\n",
        "  columns = ['product_type','rating','date','title','review_text']     # only processing relevant columns\n",
        "  interim_df = []\n",
        "  for idx, item in enumerate(content_list):      # iterate over positive and negative file-list\n",
        "    for content in item:                         # iterate over all extracted files\n",
        "      bs_content = BeautifulSoup(content, 'lxml')\n",
        "      table_rows = bs_content.find_all(\"review\") # create rows from the root element\n",
        "      df = pd.DataFrame()\n",
        "      for c in columns:                          # add corresponding columns to the created dataframe\n",
        "        values = bs_content.find_all(c)\n",
        "        if len(values)!=len(table_rows):         # in case the size of each element is not equal\n",
        "          col = []\n",
        "          for t in table_rows:\n",
        "            row_val = t.find_all(c)\n",
        "            row = [t.text.strip() for t in row_val]\n",
        "            col.append(row[0])\n",
        "        else:\n",
        "          col = [t.text.strip() for t in values]\n",
        "        df[c] = col\n",
        "      interim_df.append(df)\n",
        "  output = pd.concat(interim_df)                # create a master df with all positive, negative reviews\n",
        "  return output"
      ],
      "execution_count": 176,
      "outputs": []
    },
    {
      "cell_type": "code",
      "metadata": {
        "id": "XjX9JhBGmFjc"
      },
      "source": [
        "# LOAD DATA USING HELPER FUNCTIONS\n",
        "\n",
        "# STEP 1 - Extract relevant content from tar file\n",
        "path = '/content/drive/My Drive/NLP - Sentiment Analysis & Keyword Extraction/unprocessed.tar.gz'\n",
        "pos_content, neg_content = ExtractContent(path)\n",
        "\n",
        "# STEP 2 - Convert relevant elements of XML to dataframe \n",
        "content_list = [pos_content, neg_content]\n",
        "master_df = CreateDF(content_list)\n",
        "\n",
        "# STEP 3 - Some formatting\n",
        "master_df['label'] = (pd.to_numeric(master_df['rating'])>3)*1  # ratings >3 are labeled as positive sentiment\n",
        "master_df['text'] =  master_df['title'].str.cat(master_df['review_text'], sep=' ', na_rep='?') \n",
        "master_df['text'] = master_df['text'].replace(r\" +\",\" \",regex = True) # remove whitespaces"
      ],
      "execution_count": 177,
      "outputs": []
    },
    {
      "cell_type": "code",
      "metadata": {
        "id": "rVJbCcHmesX8",
        "outputId": "93465fd9-9b37-488f-91a1-431df0b67175",
        "colab": {
          "base_uri": "https://localhost:8080/"
        }
      },
      "source": [
        "# Create datasets\n",
        "\n",
        "temp_mask1 = np.random.rand(len(master_df)) < 0.9  # 10% sample for prediction \n",
        "temp_set1 = master_df[temp_mask1]\n",
        "sample = master_df[~temp_mask1].reset_index()\n",
        "\n",
        "temp_mask2 = np.random.rand(len(temp_set1)) < 0.7  # 70% data is train set\n",
        "train_set  = temp_set1[temp_mask2].reset_index()\n",
        "test_set  = temp_set1[~temp_mask2].reset_index()\n",
        "train_set = train_set.drop(['rating','title','review_text','product_type','date'], axis='columns') # retain only processed columns\n",
        "test_set = test_set.drop(['rating','title','review_text','product_type','date'], axis='columns')\n",
        " \n",
        "print(\"len of master df: \", len(master_df), \"\\nlen of train set: \",len(train_set), \"\\nlen of test set: \",len(test_set), \"\\nlen of sample: \",len(sample))\n",
        "\n",
        "print(\"sum: \", len(train_set)+len(test_set)+len(sample))"
      ],
      "execution_count": 178,
      "outputs": [
        {
          "output_type": "stream",
          "text": [
            "len of master df:  38548 \n",
            "len of train set:  24329 \n",
            "len of test set:  10311 \n",
            "len of sample:  3908\n",
            "sum:  38548\n"
          ],
          "name": "stdout"
        }
      ]
    },
    {
      "cell_type": "markdown",
      "metadata": {
        "id": "zchVIJkXTC9E"
      },
      "source": [
        "### 3 - Tokenize Representations\n",
        "\n",
        "The neural network model would require word representations to read the text. To execute this, we will define a text processing module which will take \"text\" as input and return \"sequences of integers\".\n",
        "\n",
        "To convert text to this \"id\", there are multiple vocabularies available. In this notebook, we'll use `pytorch-transformers’s BertTokenizer` for tokenization."
      ]
    },
    {
      "cell_type": "code",
      "metadata": {
        "id": "a4hjR_WjhWzo"
      },
      "source": [
        "class TextProcessing:\n",
        "    CLS = '[CLS]'                                                 # Special token for sentence classification\n",
        "    PAD = '[PAD]'                                                 # Special token for padding\n",
        "    def __init__(self, tokenizer, num_max_positions:int=512):\n",
        "        self.tokenizer=tokenizer\n",
        "        self.num_max_positions = num_max_positions\n",
        "    \n",
        "    def process_example(self, example: Tuple[int, str]):          # function to convert text strings into tokens of equal length\n",
        "        label, text = example[0], example[1]\n",
        "        tokens = self.tokenizer.tokenize(text)\n",
        "        \n",
        "        if len(tokens) >= self.num_max_positions:                 # shorten the token length is it is longer than max_positions\n",
        "            tokens = tokens[:self.num_max_positions-1] \n",
        "            ids =  self.tokenizer.convert_tokens_to_ids(tokens) + [self.tokenizer.vocab[self.CLS]]\n",
        "        else:                                                     # pad to ensure that all token arrays are of same length\n",
        "            pad = [self.tokenizer.vocab[self.PAD]] * (self.num_max_positions-len(tokens)-1)\n",
        "            ids = self.tokenizer.convert_tokens_to_ids(tokens) + [self.tokenizer.vocab[self.CLS]] + pad\n",
        "        \n",
        "        return np.array(ids, dtype='int64'), int(label)"
      ],
      "execution_count": 179,
      "outputs": []
    },
    {
      "cell_type": "code",
      "metadata": {
        "id": "fITdHhrv0FM1"
      },
      "source": [
        "NUM_MAX_POSITIONS = 256 \n",
        "BATCH_SIZE = 32\n",
        "\n",
        "# import the 'bert-base-cased' tokenizer from PyTorch\n",
        "from pytorch_transformers import BertTokenizer\n",
        "tokenizer = BertTokenizer.from_pretrained('bert-base-cased', do_lower_case=False)\n",
        "\n",
        "# Initialize a processor with the imported tokenizer and TextProcessing class\n",
        "processor = TextProcessing(tokenizer, num_max_positions=NUM_MAX_POSITIONS)"
      ],
      "execution_count": 180,
      "outputs": []
    },
    {
      "cell_type": "markdown",
      "metadata": {
        "id": "E1gFSLa-vZDY"
      },
      "source": [
        "### 4 - Convert Dataset to DataLoader"
      ]
    },
    {
      "cell_type": "code",
      "metadata": {
        "id": "4QE9BiI9w1yD"
      },
      "source": [
        "# set the configurations for fine tuning pre-trained model to the considered dataset (incl. data loaders, parallel processing, etc.)\n",
        "LOG_DIR = \"/content/drive/My Drive/NLP - Sentiment Analysis & Keyword Extraction/logs/\"\n",
        "CACHE_DIR = \"/content/drive/My Drive/NLP - Sentiment Analysis & Keyword Extraction/cache/\"\n",
        "\n",
        "device = \"cuda\" if torch.cuda.is_available() else \"cpu\"\n",
        "\n",
        "FineTuningConfig = namedtuple('FineTuningConfig',\n",
        "      field_names=\"num_classes, dropout, init_range, batch_size, lr, max_norm, n_epochs,\"\n",
        "                  \"n_warmup, valid_pct, gradient_acc_steps, device, log_dir\")\n",
        "\n",
        "finetuning_config = FineTuningConfig(\n",
        "                2, 0.1, 0.02, BATCH_SIZE, 6.5e-5, 1.0, 2,10, 0.1, 1, device, LOG_DIR)"
      ],
      "execution_count": 181,
      "outputs": []
    },
    {
      "cell_type": "code",
      "metadata": {
        "id": "Oy2pKWp3xJmY"
      },
      "source": [
        "# Function to process rows using the text processing class defined earlier\n",
        "def process_row(processor, row):\n",
        "    return processor.process_example((row[1]['label'], row[1]['text']))"
      ],
      "execution_count": 182,
      "outputs": []
    },
    {
      "cell_type": "code",
      "metadata": {
        "id": "-3_TS4YiV5Gf"
      },
      "source": [
        "# Function to convert dataframe into DataLoader after processing with the BERT tokenizer using process_row function\n",
        "def create_dataloader(df: pd.DataFrame,\n",
        "                      processor: TextProcessing,\n",
        "                      batch_size: int = 32,\n",
        "                      valid_pct: float = None):\n",
        "    \n",
        "    # to enable multiprocessing\n",
        "    with ProcessPoolExecutor(max_workers=num_cores) as executor:\n",
        "        result = list(\n",
        "            tqdm(executor.map(process_row,\n",
        "                              repeat(processor),\n",
        "                              df.iterrows(),\n",
        "                              chunksize=len(df) // 10),\n",
        "                 desc=f\"Processing {len(df)} examples on {num_cores} cores\",\n",
        "                 total=len(df)))\n",
        "\n",
        "    features = [r[0] for r in result]\n",
        "    labels = [r[1] for r in result]\n",
        "\n",
        "    # Compile features and labels to form the dataset\n",
        "    dataset = TensorDataset(torch.tensor(features, dtype=torch.long),\n",
        "                            torch.tensor(labels, dtype=torch.long))\n",
        "\n",
        "    # define train set and valid set based on defined valid percentage in fine tuning configuration\n",
        "    if valid_pct is not None:\n",
        "        valid_size = int(valid_pct * len(df))\n",
        "        train_size = len(df) - valid_size\n",
        "        valid_dataset, train_dataset = random_split(dataset,\n",
        "                                                    [valid_size, train_size])\n",
        "        valid_loader = DataLoader(valid_dataset,\n",
        "                                  batch_size=batch_size,\n",
        "                                  shuffle=False)\n",
        "        train_loader = DataLoader(train_dataset,\n",
        "                                  batch_size=batch_size,\n",
        "                                  shuffle=False)\n",
        "        return train_loader, valid_loader\n",
        "\n",
        "    data_loader = DataLoader(dataset,\n",
        "                             batch_size=batch_size,\n",
        "                             shuffle=False)\n",
        "    return data_loader"
      ],
      "execution_count": 183,
      "outputs": []
    },
    {
      "cell_type": "code",
      "metadata": {
        "colab": {
          "base_uri": "https://localhost:8080/",
          "height": 0,
          "referenced_widgets": [
            "8b9fc68eaa764639ad06fff237411966",
            "309e0021b559434dbaf413f095f0c326",
            "2b28fdcf21bf4bc9b4b54b623ced9f7a",
            "e8dfffc5afd74bb481f000a7e4c0438b",
            "81d0ef221598499988cbf74923c237ae",
            "be43ad2db34947808e31ae688d08f4e3",
            "c2ca702892fa48b09f65fe4063861448",
            "8aed5708d25b4c2695c720105d2961f2",
            "82f541c45fce4f6bb8a2508dc2745962",
            "1fb1f423abb74249a46d837beeeeab83",
            "07a80ddb8f104fc19ee4e8a73fdad1d9",
            "2c45c24d7bb84ef18e1bd1867839b4a1",
            "2dd98fe76bb04c9d97dbf99e689f2a6e",
            "6889d8a584dd4ecfa809108e5b650163",
            "0173da76701641288355cf3cdec70505",
            "885fa62b0a3649a8b0d96c627e0e77af"
          ]
        },
        "id": "wHCNMoL4Y4oM",
        "outputId": "6088ed5b-d6b4-4592-8c21-d5f6903516a7"
      },
      "source": [
        "# create train and valid sets by splitting\n",
        "num_cores = cpu_count()  # for parallel processing\n",
        "train_dl, valid_dl = create_dataloader(train_set, processor, \n",
        "                                    batch_size=finetuning_config.batch_size, \n",
        "                                    valid_pct=finetuning_config.valid_pct)\n",
        "\n",
        "test_dl = create_dataloader(test_set, processor, \n",
        "                             batch_size=finetuning_config.batch_size, \n",
        "                             valid_pct=None)"
      ],
      "execution_count": 184,
      "outputs": [
        {
          "output_type": "display_data",
          "data": {
            "application/vnd.jupyter.widget-view+json": {
              "model_id": "8b9fc68eaa764639ad06fff237411966",
              "version_minor": 0,
              "version_major": 2
            },
            "text/plain": [
              "HBox(children=(FloatProgress(value=0.0, description='Processing 24329 examples on 4 cores', max=24329.0, style…"
            ]
          },
          "metadata": {
            "tags": []
          }
        },
        {
          "output_type": "stream",
          "text": [
            "\n"
          ],
          "name": "stdout"
        },
        {
          "output_type": "display_data",
          "data": {
            "application/vnd.jupyter.widget-view+json": {
              "model_id": "82f541c45fce4f6bb8a2508dc2745962",
              "version_minor": 0,
              "version_major": 2
            },
            "text/plain": [
              "HBox(children=(FloatProgress(value=0.0, description='Processing 10311 examples on 4 cores', max=10311.0, style…"
            ]
          },
          "metadata": {
            "tags": []
          }
        },
        {
          "output_type": "stream",
          "text": [
            "\n"
          ],
          "name": "stdout"
        }
      ]
    },
    {
      "cell_type": "markdown",
      "metadata": {
        "id": "nbL1SLp0wbdT"
      },
      "source": [
        "### 5 - Transfer Learning"
      ]
    },
    {
      "cell_type": "code",
      "metadata": {
        "id": "qcHKpuBNyipi"
      },
      "source": [
        "# Adopted from HuggingFace's Transfer Learning tutorial\n",
        "class Transformer(nn.Module):\n",
        "    def __init__(self, embed_dim, hidden_dim, num_embeddings, num_max_positions, num_heads, num_layers, dropout, causal):\n",
        "        super().__init__()\n",
        "        self.causal = causal\n",
        "        self.tokens_embeddings = nn.Embedding(num_embeddings, embed_dim)\n",
        "        self.position_embeddings = nn.Embedding(num_max_positions, embed_dim)\n",
        "        self.dropout = nn.Dropout(dropout)\n",
        "        self.attentions, self.feed_forwards = nn.ModuleList(), nn.ModuleList()\n",
        "        self.layer_norms_1, self.layer_norms_2 = nn.ModuleList(), nn.ModuleList()\n",
        "        for _ in range(num_layers):\n",
        "            self.attentions.append(nn.MultiheadAttention(embed_dim, num_heads, dropout=dropout))\n",
        "            self.feed_forwards.append(nn.Sequential(nn.Linear(embed_dim, hidden_dim),\n",
        "                                                    nn.ReLU(),\n",
        "                                                    nn.Linear(hidden_dim, embed_dim)))\n",
        "            self.layer_norms_1.append(nn.LayerNorm(embed_dim, eps=1e-12))\n",
        "            self.layer_norms_2.append(nn.LayerNorm(embed_dim, eps=1e-12))\n",
        "\n",
        "    def forward(self, x, padding_mask=None):\n",
        "        positions = torch.arange(len(x), device=x.device).unsqueeze(-1)\n",
        "        h = self.tokens_embeddings(x)\n",
        "        h = h + self.position_embeddings(positions).expand_as(h)\n",
        "        h = self.dropout(h)\n",
        "\n",
        "        attn_mask = None\n",
        "        if self.causal:\n",
        "            attn_mask = torch.full((len(x), len(x)), -float('Inf'), device=h.device, dtype=h.dtype)\n",
        "            attn_mask = torch.triu(attn_mask, diagonal=1)\n",
        "\n",
        "        for layer_norm_1, attention, layer_norm_2, feed_forward in zip(self.layer_norms_1, self.attentions,\n",
        "                                                                       self.layer_norms_2, self.feed_forwards):\n",
        "            h = layer_norm_1(h)\n",
        "            x, _ = attention(h, h, h, attn_mask=attn_mask, need_weights=False, key_padding_mask=padding_mask)\n",
        "            x = self.dropout(x)\n",
        "            h = x + h\n",
        "\n",
        "            h = layer_norm_2(h)\n",
        "            x = feed_forward(h)\n",
        "            x = self.dropout(x)\n",
        "            h = x + h\n",
        "        return h"
      ],
      "execution_count": 185,
      "outputs": []
    },
    {
      "cell_type": "code",
      "metadata": {
        "id": "xbsmDpSuXJbG"
      },
      "source": [
        "# Adopted from HuggingFace's Transfer Learning tutorial\n",
        "class TransformerWithClfHead(nn.Module):\n",
        "    def __init__(self, config, fine_tuning_config):\n",
        "        super().__init__()\n",
        "        self.config = fine_tuning_config\n",
        "        self.transformer = Transformer(config.embed_dim, config.hidden_dim, config.num_embeddings,\n",
        "                                       config.num_max_positions, config.num_heads, config.num_layers,\n",
        "                                       fine_tuning_config.dropout, causal=not config.mlm)\n",
        "        self.classification_head = nn.Linear(config.embed_dim, fine_tuning_config.num_classes)\n",
        "        self.apply(self.init_weights)\n",
        "\n",
        "    def init_weights(self, module):\n",
        "        if isinstance(module, (nn.Linear, nn.Embedding, nn.LayerNorm)):\n",
        "            module.weight.data.normal_(mean=0.0, std=self.config.init_range)\n",
        "        if isinstance(module, (nn.Linear, nn.LayerNorm)) and module.bias is not None:\n",
        "            module.bias.data.zero_()\n",
        "\n",
        "    def forward(self, x, clf_tokens_mask, clf_labels=None, padding_mask=None):\n",
        "        hidden_states = self.transformer(x, padding_mask)\n",
        "\n",
        "        clf_tokens_states = (hidden_states * clf_tokens_mask.unsqueeze(-1).float()).sum(dim=0)\n",
        "        clf_logits = self.classification_head(clf_tokens_states)\n",
        "\n",
        "        if clf_labels is not None:\n",
        "            loss_fct = nn.CrossEntropyLoss(ignore_index=-1)\n",
        "            loss = loss_fct(clf_logits.view(-1, clf_logits.size(-1)), clf_labels.view(-1))\n",
        "            return clf_logits, loss\n",
        "        return clf_logits"
      ],
      "execution_count": 186,
      "outputs": []
    },
    {
      "cell_type": "code",
      "metadata": {
        "id": "KOsBaiiny8o0"
      },
      "source": [
        "# download pre-trained model and config\n",
        "state_dict = torch.load(cached_path(\"https://s3.amazonaws.com/models.huggingface.co/\"\n",
        "                                    \"naacl-2019-tutorial/model_checkpoint.pth\"), map_location='cpu')\n",
        "\n",
        "config = torch.load(cached_path(\"https://s3.amazonaws.com/models.huggingface.co/\"\n",
        "                                        \"naacl-2019-tutorial/model_training_args.bin\"))\n",
        "\n",
        "# init model: Transformer base + classifier head\n",
        "model = TransformerWithClfHead(config=config, fine_tuning_config=finetuning_config).to(finetuning_config.device)\n",
        "\n",
        "incompatible_keys = model.load_state_dict(state_dict, strict=False)"
      ],
      "execution_count": 187,
      "outputs": []
    },
    {
      "cell_type": "markdown",
      "metadata": {
        "id": "MT-gcirBv65r"
      },
      "source": [
        "### 6 - Model Fine Tuning\n",
        "\n"
      ]
    },
    {
      "cell_type": "code",
      "metadata": {
        "id": "7jmOPlpmi5OX"
      },
      "source": [
        "def update(engine, batch):\n",
        "    \"update function for training\"\n",
        "    model.train()\n",
        "    inputs, labels = (t.to(finetuning_config.device) for t in batch)\n",
        "    inputs = inputs.transpose(0, 1).contiguous() # [S, B]\n",
        "    _, loss = model(inputs, \n",
        "                    clf_tokens_mask = (inputs == tokenizer.vocab[processor.CLS]), \n",
        "                    clf_labels=labels)\n",
        "    loss = loss / finetuning_config.gradient_acc_steps\n",
        "    loss.backward()\n",
        "    \n",
        "    torch.nn.utils.clip_grad_norm_(model.parameters(), finetuning_config.max_norm)\n",
        "    if engine.state.iteration % finetuning_config.gradient_acc_steps == 0:\n",
        "        optimizer.step()\n",
        "        optimizer.zero_grad()\n",
        "    return loss.item()"
      ],
      "execution_count": 188,
      "outputs": []
    },
    {
      "cell_type": "code",
      "metadata": {
        "id": "_k0_5VkLi63d"
      },
      "source": [
        "def inference(engine, batch):\n",
        "    \"update function for evaluation\"\n",
        "    model.eval()\n",
        "    with torch.no_grad():\n",
        "        batch, labels = (t.to(finetuning_config.device) for t in batch)\n",
        "        inputs = batch.transpose(0, 1).contiguous()\n",
        "        logits = model(inputs,\n",
        "                       clf_tokens_mask = (inputs == tokenizer.vocab[processor.CLS]),\n",
        "                       padding_mask = (batch == tokenizer.vocab[processor.PAD]))\n",
        "    return logits, labels"
      ],
      "execution_count": 189,
      "outputs": []
    },
    {
      "cell_type": "code",
      "metadata": {
        "id": "oIVXGHc2i_1x"
      },
      "source": [
        "def predict(model, tokenizer, int2label, input=\"test\"):\n",
        "    \"predict sentiment using model\"\n",
        "    # print(input)\n",
        "    tok = tokenizer.tokenize(input)\n",
        "    if len(tok) >= NUM_MAX_POSITIONS:                 # shorten the token length is it is longer than max_positions\n",
        "      tok = tok[:NUM_MAX_POSITIONS-1]         \n",
        "    ids = tokenizer.convert_tokens_to_ids(tok) + [tokenizer.vocab['[CLS]']]\n",
        "    tensor = torch.tensor(ids, dtype=torch.long)\n",
        "    tensor = tensor.to(device)\n",
        "    tensor = tensor.reshape(1, -1)\n",
        "    tensor_in = tensor.transpose(0, 1).contiguous() # [S, 1]\n",
        "    logits = model(tensor_in,\n",
        "                   clf_tokens_mask = (tensor_in == tokenizer.vocab['[CLS]']),\n",
        "                   padding_mask = (tensor == tokenizer.vocab['[PAD]']))\n",
        "    val, _ = torch.max(logits, 0)\n",
        "    val = F.softmax(val, dim=0).detach().cpu().numpy()    \n",
        "    return {int2label[val.argmax()]: val.max(),\n",
        "            int2label[val.argmin()]: val.min()}"
      ],
      "execution_count": 190,
      "outputs": []
    },
    {
      "cell_type": "code",
      "metadata": {
        "id": "iElb48MOHWlh",
        "colab": {
          "base_uri": "https://localhost:8080/"
        },
        "outputId": "274b5c25-7890-4a6b-c5bb-6b943872c017"
      },
      "source": [
        "optimizer = AdamW(model.parameters(), lr=finetuning_config.lr, correct_bias=False) \n",
        "\n",
        "trainer = Engine(update)\n",
        "evaluator = Engine(inference)\n",
        "\n",
        "# add metric to evaluator \n",
        "Accuracy().attach(evaluator, \"accuracy\")\n",
        "\n",
        "# add evaluator to trainer: eval on valid set after each epoch\n",
        "@trainer.on(Events.EPOCH_COMPLETED)\n",
        "def log_validation_results(engine):\n",
        "    evaluator.run(valid_dl)\n",
        "    print(f\"validation epoch: {engine.state.epoch} acc: {100*evaluator.state.metrics['accuracy']}\")\n",
        "          \n",
        "# lr schedule: linearly warm-up to lr and then to zero\n",
        "scheduler = PiecewiseLinear(optimizer, 'lr', [(0, 0.0), (finetuning_config.n_warmup, finetuning_config.lr),\n",
        "                                              (len(train_dl)*finetuning_config.n_epochs, 0.0)])\n",
        "trainer.add_event_handler(Events.ITERATION_STARTED, scheduler)\n",
        "\n",
        "\n",
        "# add progressbar with loss\n",
        "RunningAverage(output_transform=lambda x: x).attach(trainer, \"loss\")\n",
        "ProgressBar(persist=True).attach(trainer, metric_names=['loss'])\n",
        "\n",
        "# save checkpoints and finetuning config\n",
        "checkpoint_handler = ModelCheckpoint(finetuning_config.log_dir, 'finetuning_checkpoint', \n",
        "                                     save_interval=1, require_empty=False)\n",
        "trainer.add_event_handler(Events.EPOCH_COMPLETED, checkpoint_handler, {'imdb_model': model})\n",
        "\n",
        "int2label = {0: 'negative', 1: 'positive'}\n",
        "\n",
        "# save metadata\n",
        "torch.save({\n",
        "    \"config\": config,\n",
        "    \"config_ft\": finetuning_config,\n",
        "    \"int2label\": int2label\n",
        "}, os.path.join(finetuning_config.log_dir, \"metadata.bin\"))"
      ],
      "execution_count": 191,
      "outputs": [
        {
          "output_type": "stream",
          "text": [
            "/usr/local/lib/python3.7/dist-packages/ignite/handlers/checkpoint.py:825: UserWarning: Argument save_interval is deprecated and should be None. This argument will be removed in 0.5.0.Please, use events filtering instead, e.g. Events.ITERATION_STARTED(every=1000)\n",
            "  warnings.warn(msg)\n"
          ],
          "name": "stderr"
        }
      ]
    },
    {
      "cell_type": "code",
      "metadata": {
        "colab": {
          "base_uri": "https://localhost:8080/",
          "height": 345,
          "referenced_widgets": [
            "b70e102f7c814d7781afc738a70ded59",
            "18017979249b499caf6aead4d4cac4b2",
            "9e6f728eb74c446a9af77c82a19e54ae",
            "9785cf4bebe4425e9f72784c34e07b8b",
            "cf664b569d4a47fb9ff87706aeaa0bbd",
            "b2717584b88d4961a3bdf5d87562edbd",
            "8ccc58ff9e1b4b11ad80b5abe9d7b0f1",
            "94c0c172a8c24c559ef15105fedc161a",
            "bab76acf49314eca8fdb94fb3a7a1145",
            "356c7484e9794119a61a1db3a1e21321",
            "ce27452a9fad47799e160d2813d9f0f5",
            "df0e003d2794405281acf6a6f8bac095",
            "5548713f5a134d06a4532f052e42bdc7",
            "df16c2b55fe34336baaaca36a88cdb78",
            "5a78fb30ad9446989c02a27f02a3c9f7",
            "1a687316821f48058e828c91cd6e6839",
            "ad403624fa5844f885ee43f725ea03cf",
            "816a671ac56042e8bd38b9f9b62e27a3",
            "35cb8986932840af874043a035ce1dd2",
            "002b6e9c969448faa3b7a0025c682fe1",
            "7647b8a76e5b4508aaa7f06a548df68b",
            "5239e31dc44242b58ab0f557f519b081",
            "16222b11cdd84992aa69485f957f00b6",
            "2ae4cf4c862b4324be10c96e22b2d97f",
            "b170dbca08b24cc782bb77995232827b",
            "dd6ee32b5fe54e798254aff0cb009110",
            "644dd828e70a4cd896bd10a356fecd18",
            "6d8156b7fbcb430c8f3e476b4f3c3754",
            "4a632beabf2149d1a57a3c558f5cf06a",
            "4d998fdbf2714a49a29c1507dab43ffd",
            "93dbdf8c78c34dd8887c98c68e8477ac",
            "42389582db394958bab0cc6414b4a221",
            "ca3efea4fc674aeab3cc42b1826596a1",
            "96705cb3b61e400ca9fadca42650aa92",
            "8a75bd3a39874b76b6c77ac991c555de",
            "fb804ee0aa46484ea09d3fd0209cd87f",
            "652cc3feff024798a781c20911cabc32",
            "c8317b52c6824a7fb63bed1343d9402c",
            "365e5844954c4642b13ce504691a2ccf",
            "e36ed003be3b4a2ab8e88ab4c49d147e"
          ]
        },
        "id": "6ne1Vc5MJ9Jk",
        "outputId": "c6eaa44a-0cc1-4434-a466-22ca655d90e4"
      },
      "source": [
        "trainer.run(train_dl, max_epochs=5)\n",
        "\n",
        "# save model weights\n",
        "torch.save(model.state_dict(), os.path.join(finetuning_config.log_dir, \"model_weights.pth\"))"
      ],
      "execution_count": 192,
      "outputs": [
        {
          "output_type": "display_data",
          "data": {
            "application/vnd.jupyter.widget-view+json": {
              "model_id": "b70e102f7c814d7781afc738a70ded59",
              "version_minor": 0,
              "version_major": 2
            },
            "text/plain": [
              "HBox(children=(FloatProgress(value=0.0, max=685.0), HTML(value='')))"
            ]
          },
          "metadata": {
            "tags": []
          }
        },
        {
          "output_type": "stream",
          "text": [
            "validation epoch: 1 acc: 91.94078947368422\n",
            "\n"
          ],
          "name": "stdout"
        },
        {
          "output_type": "display_data",
          "data": {
            "application/vnd.jupyter.widget-view+json": {
              "model_id": "bab76acf49314eca8fdb94fb3a7a1145",
              "version_minor": 0,
              "version_major": 2
            },
            "text/plain": [
              "HBox(children=(FloatProgress(value=0.0, max=685.0), HTML(value='')))"
            ]
          },
          "metadata": {
            "tags": []
          }
        },
        {
          "output_type": "stream",
          "text": [
            "validation epoch: 2 acc: 92.22861842105263\n",
            "\n"
          ],
          "name": "stdout"
        },
        {
          "output_type": "display_data",
          "data": {
            "application/vnd.jupyter.widget-view+json": {
              "model_id": "ad403624fa5844f885ee43f725ea03cf",
              "version_minor": 0,
              "version_major": 2
            },
            "text/plain": [
              "HBox(children=(FloatProgress(value=0.0, max=685.0), HTML(value='')))"
            ]
          },
          "metadata": {
            "tags": []
          }
        },
        {
          "output_type": "stream",
          "text": [
            "validation epoch: 3 acc: 92.22861842105263\n",
            "\n"
          ],
          "name": "stdout"
        },
        {
          "output_type": "display_data",
          "data": {
            "application/vnd.jupyter.widget-view+json": {
              "model_id": "b170dbca08b24cc782bb77995232827b",
              "version_minor": 0,
              "version_major": 2
            },
            "text/plain": [
              "HBox(children=(FloatProgress(value=0.0, max=685.0), HTML(value='')))"
            ]
          },
          "metadata": {
            "tags": []
          }
        },
        {
          "output_type": "stream",
          "text": [
            "validation epoch: 4 acc: 92.22861842105263\n",
            "\n"
          ],
          "name": "stdout"
        },
        {
          "output_type": "display_data",
          "data": {
            "application/vnd.jupyter.widget-view+json": {
              "model_id": "ca3efea4fc674aeab3cc42b1826596a1",
              "version_minor": 0,
              "version_major": 2
            },
            "text/plain": [
              "HBox(children=(FloatProgress(value=0.0, max=685.0), HTML(value='')))"
            ]
          },
          "metadata": {
            "tags": []
          }
        },
        {
          "output_type": "stream",
          "text": [
            "validation epoch: 5 acc: 92.22861842105263\n",
            "\n"
          ],
          "name": "stdout"
        }
      ]
    },
    {
      "cell_type": "markdown",
      "metadata": {
        "id": "GQ6eo0b6wIGS"
      },
      "source": [
        "### 7 - Evaluate Model"
      ]
    },
    {
      "cell_type": "code",
      "metadata": {
        "colab": {
          "base_uri": "https://localhost:8080/"
        },
        "id": "OLqWBjjNoe6s",
        "outputId": "511cb78a-4828-4dcd-8b4a-c09177a87bb7"
      },
      "source": [
        "# evaluate the model on test set\n",
        "evaluator.run(test_dl)\n",
        "print(f\"Test accuracy: {100*evaluator.state.metrics['accuracy']:.3f}\")"
      ],
      "execution_count": 193,
      "outputs": [
        {
          "output_type": "stream",
          "text": [
            "Test accuracy: 92.348\n"
          ],
          "name": "stdout"
        }
      ]
    },
    {
      "cell_type": "markdown",
      "metadata": {
        "id": "t6dG0up8wbce"
      },
      "source": [
        "### 8 - Predict for a Single Input"
      ]
    },
    {
      "cell_type": "code",
      "metadata": {
        "colab": {
          "base_uri": "https://localhost:8080/"
        },
        "id": "CM8ntDMgoUgO",
        "outputId": "06b35697-a1bc-458d-9f89-fb648f25efe6"
      },
      "source": [
        "predict(model, tokenizer, int2label, input = \"ah! great book\")"
      ],
      "execution_count": 194,
      "outputs": [
        {
          "output_type": "execute_result",
          "data": {
            "text/plain": [
              "{'negative': 0.009898878, 'positive': 0.9901011}"
            ]
          },
          "metadata": {
            "tags": []
          },
          "execution_count": 194
        }
      ]
    },
    {
      "cell_type": "code",
      "metadata": {
        "colab": {
          "base_uri": "https://localhost:8080/"
        },
        "id": "dPRR1aWooUJF",
        "outputId": "b72c565b-3120-4a23-cad3-dfef6904a283"
      },
      "source": [
        "predict(model, tokenizer, int2label, input = \"I didn't enjoy the toy as muxh as I imagined\")"
      ],
      "execution_count": 195,
      "outputs": [
        {
          "output_type": "execute_result",
          "data": {
            "text/plain": [
              "{'negative': 0.9936301, 'positive': 0.0063699083}"
            ]
          },
          "metadata": {
            "tags": []
          },
          "execution_count": 195
        }
      ]
    },
    {
      "cell_type": "markdown",
      "metadata": {
        "id": "iorXpzKeCM6s"
      },
      "source": [
        "### 9 - Mine Opinions for Customer Trends"
      ]
    },
    {
      "cell_type": "code",
      "metadata": {
        "id": "VJDycFMKCLu2"
      },
      "source": [
        "sample = master_df[~temp_mask1].reset_index()\n",
        "sample['prediction'] = 0.0\n",
        "for index, row in sample.iterrows():\n",
        "    output = predict(model, tokenizer, int2label, input = str(row['text']))\n",
        "    if output['positive'] > output['negative']:\n",
        "      sample.at[index, 'prediction'] = output['positive']\n",
        "    else:\n",
        "      sample.at[index, 'prediction'] = output['negative']*(-1)"
      ],
      "execution_count": 196,
      "outputs": []
    },
    {
      "cell_type": "code",
      "metadata": {
        "id": "rPAvzrx0WpZl"
      },
      "source": [
        "# basic changes before we share the data to functions\n",
        "sample['date'] = pd.to_datetime(sample['date'], errors = 'coerce')\n",
        "sample['prediction'] = pd.to_numeric(sample['prediction']).multiply(100)\n",
        "sample = sample.sort_values(by = ['product_type', 'date'], ascending = True)"
      ],
      "execution_count": 197,
      "outputs": []
    },
    {
      "cell_type": "code",
      "metadata": {
        "id": "MWSjrAVCWsdg"
      },
      "source": [
        "ALL='ALL'\n",
        "\n",
        "def createDropdown(array):\n",
        "  unique = list(array.dropna().unique())\n",
        "  unique.sort()\n",
        "  unique.insert(0,ALL)\n",
        "  return unique\n",
        "\n",
        "def CombinedEvent(year, p_type, flag):\n",
        "  out.clear_output()\n",
        "  plot_out.clear_output()\n",
        "  # group by year to summarize \"ALL years\" and by month for a single year\n",
        "  if (year == ALL) & (p_type == ALL):\n",
        "    out_table = sample.groupby(sample['date'].dt.year).agg({'prediction':['count','mean']}).reset_index()\n",
        "    out_table.columns = out_table.columns.droplevel()\n",
        "    out_table = out_table.rename(columns = {\"\":\"Date\",\"count\":'Number of Reviews',\"mean\":'Average Sentiment'})\n",
        "    out_table[\"Date\"] = pd.to_datetime(out_table[\"Date\"], format='%Y')\n",
        "    out_table[\"Date\"] = out_table[\"Date\"].dt.year\n",
        "  elif (year == ALL):\n",
        "    out_table = sample[sample['product_type']==p_type]\n",
        "    out_table = out_table.groupby(out_table['date'].dt.year).agg({'prediction':['count','mean']}).reset_index()\n",
        "    # out_table = sample[sample['product_type']==p_type].groupby(sample['date'].dt.year).agg({'prediction':['count','mean']}).reset_index()\n",
        "    out_table.columns = out_table.columns.droplevel()\n",
        "    out_table = out_table.rename(columns = {\"\":\"Date\",\"count\":'Number of Reviews',\"mean\":'Average Sentiment'})\n",
        "    out_table[\"Date\"] = pd.to_datetime(out_table[\"Date\"],  format='%Y')\n",
        "    out_table[\"Date\"] = out_table[\"Date\"].dt.year\n",
        "  elif (p_type == ALL):\n",
        "    out_table = sample[sample['date'].dt.year==year]\n",
        "    out_table = out_table.groupby(out_table['date'].dt.strftime('%b-%Y')).agg({'prediction':['count','mean']}).reset_index()\n",
        "    out_table.columns = out_table.columns.droplevel()\n",
        "    out_table = out_table.rename(columns = {\"\":\"Date\",\"count\":'Number of Reviews',\"mean\":'Average Sentiment'})\n",
        "    out_table[\"Date\"] = pd.to_datetime(out_table[\"Date\"])\n",
        "    out_table = out_table.sort_values(by = 'Date', ascending = True)\n",
        "    out_table[\"Date\"] = out_table[\"Date\"].dt.strftime('%b-%Y')\n",
        "  else:\n",
        "    out_table = sample[(sample['date'].dt.year==year)&(sample['product_type']==p_type)]\n",
        "    out_table = out_table.groupby(out_table['date'].dt.strftime('%b-%Y')).agg({'prediction':['count','mean']}).reset_index()\n",
        "    out_table.columns = out_table.columns.droplevel()\n",
        "    out_table = out_table.rename(columns = {\"\":\"Date\",\"count\":'Number of Reviews',\"mean\":'Average Sentiment'})\n",
        "    out_table[\"Date\"] = pd.to_datetime(out_table[\"Date\"])\n",
        "    out_table = out_table.sort_values(by = 'Date', ascending = True)\n",
        "    out_table[\"Date\"] = out_table[\"Date\"].dt.strftime('%b-%Y')\n",
        "\n",
        "  with out:\n",
        "    if (len(out_table)==0):\n",
        "      print (\"\\n\\nNo Data, try a different combination\\n\\n\")\n",
        "    else:\n",
        "      print(\"\\n\")\n",
        "      display(out_table)\n",
        "      print(\"\\n\\n\")\n",
        "      # plot graph\n",
        "  with plot_out:\n",
        "    if (len(out_table)==0):\n",
        "      print (\"\\n\\nNo Data, try a different combination\\n\\n\")\n",
        "    else:\n",
        "        fig, ax = plt.subplots(2,1, figsize=(15, 10))\n",
        "        ax[0].plot(out_table['Date'], out_table['Average Sentiment'], marker='o', color='orange' , label='Average Sentiment')  # Plot the chart\n",
        "        ax[0].axhline(0, c='black', ls='--')\n",
        "        ax[0].set_ylim([-100, 100])\n",
        "        ax[0].xaxis.set_visible(False)\n",
        "        ax[0].yaxis.set_major_formatter(ticker.PercentFormatter())\n",
        "        ax[0].legend()\n",
        "        ax[1].bar(out_table['Date'], out_table['Number of Reviews'], color ='maroon', width=0.15, label='Number of Reviews')\n",
        "        ax[1].yaxis.set_major_locator(ticker.MaxNLocator(integer=True))\n",
        "        ax[1].legend()\n",
        "        ax[1].grid(axis = 'y', color = 'grey', linestyle = '--', linewidth = 0.5)\n",
        "        plt.subplots_adjust(left=0.2,\n",
        "                            bottom=0.3, \n",
        "                            right=0.9, \n",
        "                            top=0.9, \n",
        "                            wspace=0.2, \n",
        "                            hspace=0.05)\n",
        "        plt.show()\n",
        "\n",
        "def DropdownYearEventhandler(change):\n",
        "    CombinedEvent(change.new,dropdown_categories.value,flag=0)\n",
        "\n",
        "def DropdownTypeEventhandler(change):\n",
        "    CombinedEvent(dropdown_year.value,change.new,flag=0)"
      ],
      "execution_count": 198,
      "outputs": []
    },
    {
      "cell_type": "code",
      "metadata": {
        "id": "5zhchUFPFMJh",
        "outputId": "798c6d6b-ef0b-4e6c-de85-32030cb015a9",
        "colab": {
          "base_uri": "https://localhost:8080/",
          "height": 628,
          "referenced_widgets": [
            "cccd94e2b48b430591137a4387f9f8d8",
            "873c116cfb574994982b8da66579e5ff",
            "1bebc29509994fac8cc10582eedc4e9d",
            "78a5c44f5c4a421ea6b0e7679f8942c1",
            "b475213106ef4c33bf49d5f9b88b8654",
            "be983320b288479f9f382070bf2b7e8f",
            "e03e6fd2f5504e1b83de38fa234280a6",
            "b68aca1d85af47a6a400d571a42afea7",
            "ab14cc5fa6974442b0d908a72a037f1a",
            "40a078da483f41fcb734911d7404a03d",
            "6577407f375b4cff832c9a70352a59ed",
            "401c3deea4d746409b5207d9d8e03346",
            "c07bc06f5f2e4562810f6cb371f4526e",
            "30a08e83530f46a6a8928513efff4147",
            "a501d065f08c41ceb72e580e6142349a",
            "b36328602f4a4e649462729c22878216"
          ]
        }
      },
      "source": [
        "out = ipywidgets.widgets.Output()\n",
        "plot_out =ipywidgets.widgets.Output()\n",
        "\n",
        "dropdown_year = ipywidgets.widgets.Dropdown(options = createDropdown(sample['date'].dt.year.astype('Int64')), description = \"Year: \")\n",
        "dropdown_categories = ipywidgets.widgets.Dropdown(options = createDropdown(sample.product_type), description = \"Product Type: \")\n",
        "input_widgets = ipywidgets.widgets.HBox([dropdown_categories, dropdown_year], layout=Layout(width='60%',justify_content='space-between', margin='0 0 50px 0'))\n",
        "tab = ipywidgets.widgets.Tab([out, plot_out])\n",
        "tab.set_title(0, 'Summary Table')\n",
        "tab.set_title(1, 'Trend Chart')\n",
        "dashboard = ipywidgets.widgets.VBox([input_widgets, tab])\n",
        "\n",
        "dropdown_categories.observe(DropdownTypeEventhandler, names='value')\n",
        "dropdown_year.observe(DropdownYearEventhandler, names='value')\n",
        "display(dashboard)"
      ],
      "execution_count": 199,
      "outputs": [
        {
          "output_type": "display_data",
          "data": {
            "application/vnd.jupyter.widget-view+json": {
              "model_id": "cccd94e2b48b430591137a4387f9f8d8",
              "version_minor": 0,
              "version_major": 2
            },
            "text/plain": [
              "VBox(children=(HBox(children=(Dropdown(description='Product Type: ', options=('ALL', 'apparel', 'automotive', …"
            ]
          },
          "metadata": {
            "tags": []
          }
        }
      ]
    },
    {
      "cell_type": "markdown",
      "metadata": {
        "id": "-3G9Tx_2XlDu"
      },
      "source": [
        "### References\n",
        "\n",
        "* https://github.com/huggingface/naacl_transfer_learning_tutorial\n",
        "* https://medium.com/swlh/transformer-fine-tuning-for-sentiment-analysis-c000da034bb5\n"
      ]
    }
  ]
}
